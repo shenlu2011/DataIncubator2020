{
 "cells": [
  {
   "cell_type": "code",
   "execution_count": 1,
   "metadata": {},
   "outputs": [],
   "source": [
    "import pandas as pd\n",
    "import numpy as np\n",
    "import datetime\n",
    "\n",
    "from matplotlib import pyplot as plt\n",
    "\n",
    "from sklearn.linear_model import LinearRegression, Ridge\n",
    "from sklearn.preprocessing import OneHotEncoder\n",
    "from sklearn.pipeline import Pipeline, FeatureUnion\n",
    "from sklearn import base\n",
    "\n",
    "\n",
    "#import modules for news selection\n",
    "import os.path\n",
    "from gensim import corpora\n",
    "from gensim.models import LsiModel\n",
    "from nltk.corpus import stopwords\n",
    "from nltk.tokenize import RegexpTokenizer\n",
    "from nltk.stem.porter import PorterStemmer\n",
    "from gensim.models.coherencemodel import CoherenceModel\n",
    "import matplotlib.pyplot as plt\n",
    "from gensim import models\n",
    "\n",
    "\n"
   ]
  },
  {
   "cell_type": "markdown",
   "metadata": {},
   "source": [
    "# section 2"
   ]
  },
  {
   "cell_type": "code",
   "execution_count": 3,
   "metadata": {},
   "outputs": [],
   "source": [
    "data = pd.read_csv('Recent_Contract_Awards.csv',low_memory=False)\n"
   ]
  },
  {
   "cell_type": "code",
   "execution_count": 4,
   "metadata": {},
   "outputs": [
    {
     "data": {
      "text/plain": [
       "207783994327.83997"
      ]
     },
     "execution_count": 4,
     "metadata": {},
     "output_type": "execute_result"
    }
   ],
   "source": [
    "#question 1\n",
    "\n",
    "import datetime\n",
    "\n",
    "\n",
    "data.loc[:, 'StartDate'] = pd.to_datetime(data['StartDate'])\n",
    "data_2010_2019 = data[data['StartDate']>=datetime.datetime(2010, 1, 1)]\n",
    "data_2010_2019 =data_2010_2019[data_2010_2019['StartDate']<=datetime.datetime(2019,12,31)]\n",
    "data_filtered = data_2010_2019.copy()\n",
    "data_filtered = data_filtered[data_filtered['ContractAmount']>0]\n",
    "data_filtered = data_filtered.dropna(subset=['ContractAmount'])\n",
    "data_filtered['ContractAmount'].sum()"
   ]
  },
  {
   "cell_type": "code",
   "execution_count": 5,
   "metadata": {},
   "outputs": [
    {
     "data": {
      "text/plain": [
       "0.038642604943114944"
      ]
     },
     "execution_count": 5,
     "metadata": {},
     "output_type": "execute_result"
    }
   ],
   "source": [
    "#question 2\n",
    "\n",
    "data_vendor = data_filtered.copy()\n",
    "data_vendor_agency= data_vendor[data_vendor['AgencyName']=='Citywide Administrative Services']\n",
    "data_vendor_sum = data_vendor_agency.groupby('VendorName')['ContractAmount'].sum()\n",
    "data_vendor_sum_df = pd.DataFrame(data_vendor_sum).reset_index()\n",
    "test= data_vendor_sum_df.copy()\n",
    "test['count'] = list( data_vendor_agency.groupby('VendorName')['RequestID'].count())\n",
    "total = test['count'].sum()\n",
    "test_50 = test.sort_values(by=['ContractAmount'], ascending = False).head(50)\n",
    "total_50 = test_50['count'].sum()\n",
    "total_50/total"
   ]
  },
  {
   "cell_type": "code",
   "execution_count": 6,
   "metadata": {},
   "outputs": [
    {
     "data": {
      "text/plain": [
       "2.0"
      ]
     },
     "execution_count": 6,
     "metadata": {},
     "output_type": "execute_result"
    }
   ],
   "source": [
    "# question 3\n",
    "data_construction = data_filtered.copy()\n",
    "data_construction['construction'] = data_construction['CategoryDescription'].apply(lambda s: s == 'Construction/Construction Services' or s=='Construction Related Services')\n",
    "\n",
    "data_construction = data_construction[data_construction['construction'] == True]\n",
    "\n",
    "\n",
    "central_park = data_construction.copy()\n",
    "central_park['CentralPark'] = central_park['ShortTitle'].apply(lambda s:('park' in s.lower().split(' ')) and ('central park' in s.lower()))\n",
    "count_central_park = len(central_park[central_park['CentralPark']==True])\n",
    "\n",
    "washington = data_construction.copy()\n",
    "#washington['Washington'] = washington['ShortTitle'].apply(lambda s:('washington' in s.lower().split(' ')) and ('square' in s.lower().split(' ')) and ('park' in s.lower().split(' ')) and 'washington square park' in s.lower() )\n",
    "washington['Washington'] = washington['ShortTitle'].apply(lambda s:('WASHINGTON SQUARE PARK' in s))\n",
    "count_washington = len(washington[washington['Washington']==True])\n",
    "\n",
    "count_central_park/count_washington"
   ]
  },
  {
   "cell_type": "code",
   "execution_count": 7,
   "metadata": {},
   "outputs": [
    {
     "name": "stdout",
     "output_type": "stream",
     "text": [
      "Coefficients: \n",
      " [6.38393824e-10]\n"
     ]
    }
   ],
   "source": [
    "# question 4\n",
    "\n",
    "data_regression = data_vendor_agency.copy()\n",
    "data_regression['year'] = data_regression['StartDate'].dt.year\n",
    "data_regression_grp = data_regression.groupby('year')['ContractAmount'].sum()\n",
    "data_regression_grp = pd.DataFrame(data_regression_grp).reset_index()\n",
    "\n",
    "\n",
    "\n",
    "from sklearn import datasets, linear_model\n",
    "from sklearn.metrics import mean_squared_error, r2_score\n",
    "\n",
    "\n",
    "# Split the data into training/testing sets\n",
    "X = pd.DataFrame(data_regression_grp['ContractAmount'])\n",
    "X = X.to_numpy()\n",
    "y = data_regression_grp['year']\n",
    "y = y.to_numpy()\n",
    "X_train = X[:-1]\n",
    "X_test = X[-1:]\n",
    "\n",
    "# Split the targets into training/testing sets\n",
    "y_train = y[:-1]\n",
    "y_test = y[-1:]\n",
    "\n",
    "\n",
    "# Create linear regression object\n",
    "regr = linear_model.LinearRegression()\n",
    "\n",
    "# Train the model using the training sets\n",
    "regr.fit(X_train, y_train)\n",
    "\n",
    "# Make predictions using the testing set\n",
    "y_pred = regr.predict(X_test)\n",
    "\n",
    "# The coefficients\n",
    "print('Coefficients: \\n', regr.coef_)"
   ]
  },
  {
   "cell_type": "code",
   "execution_count": 8,
   "metadata": {},
   "outputs": [
    {
     "data": {
      "text/plain": [
       "0.07356237122612462"
      ]
     },
     "execution_count": 8,
     "metadata": {},
     "output_type": "execute_result"
    }
   ],
   "source": [
    "# question 5\n",
    "\n",
    "data_contract = data_filtered.copy()\n",
    "data_contract_grp = data_contract.groupby('AgencyName')['RequestID'].count()\n",
    "data_contract_df = pd.DataFrame(data_contract_grp).reset_index()\n",
    "data_contract_df = data_contract_df.rename(columns={'RequestID':'ContractCount'})\n",
    "data_contract_df['ContractAmountTotal'] = list(data_contract.groupby('AgencyName')['ContractAmount'].sum())\n",
    "data_contract_df = data_contract_df.sort_values(by=['ContractCount'], ascending=False)\n",
    "data_contract_df_5 = data_contract_df.head(5).copy(deep=True)\n",
    "data_contract_df_5['AmountPerContract'] = data_contract_df_5['ContractAmountTotal']/data_contract_df_5['ContractCount']\n",
    "data_contract_df_5[0:1]['AmountPerContract'].values[0]/data_contract_df_5[1:2]['AmountPerContract'].values[0]"
   ]
  },
  {
   "cell_type": "code",
   "execution_count": 9,
   "metadata": {},
   "outputs": [
    {
     "data": {
      "text/plain": [
       "Power_divergenceResult(statistic=array([8.62341326]), pvalue=array([0.0712334]))"
      ]
     },
     "execution_count": 9,
     "metadata": {},
     "output_type": "execute_result"
    }
   ],
   "source": [
    "# question 6 chi square\n",
    "data_agency = data_filtered.copy()\n",
    "data_agency = data_agency[data_agency['AgencyName']=='Parks and Recreation']\n",
    "data_agency['year'] = data_agency['StartDate'].dt.year\n",
    "data_agency['month'] = data_agency['StartDate'].dt.month\n",
    "data_agency['week'] = data_agency['StartDate'].dt.week\n",
    "data_agency['weekday'] = data_agency['StartDate'].dt.weekday\n",
    "data_agency_notice_count = data_agency.groupby('weekday')['RequestID'].count().reset_index()\n",
    "data_agency_notice_count = data_agency_notice_count.rename(columns={'RequestID':'NoticeCount'})\n",
    "data_agency_notice_count = data_agency_notice_count.reset_index()\n",
    "\n",
    "from scipy.stats import chisquare\n",
    "\n",
    "obs= np.array([data_agency_notice_count['NoticeCount']]).T\n",
    "chisquare(obs)"
   ]
  },
  {
   "cell_type": "code",
   "execution_count": 10,
   "metadata": {},
   "outputs": [],
   "source": [
    "# question 7 common patterns\n",
    "data_spending_patterns = data_filtered.copy()\n",
    "\n",
    "data_spending_patterns['year'] = data_spending_patterns['StartDate'].dt.year\n",
    "data_spending_patterns['month'] = data_spending_patterns['StartDate'].dt.month\n",
    "data_spending_patterns_envprotection = data_spending_patterns[data_spending_patterns['AgencyName']=='Environmental Protection']\n",
    "\n",
    "data_spending_patterns_envprotection_spending = data_spending_patterns_envprotection.groupby(['year','month'])['ContractAmount'].sum()\n",
    "data_spending_patterns_envprotection_spending_df = pd.DataFrame(data_spending_patterns_envprotection_spending).reset_index()\n",
    "data_spending_patterns_envprotection_spending_monthly = data_spending_patterns_envprotection_spending_df.groupby('month')['ContractAmount'].sum()\n",
    "data_spending_patterns_envprotection_spending_monthly_df = pd.DataFrame(data_spending_patterns_envprotection_spending_monthly).reset_index()\n",
    "data_spending_patterns_envprotection_spending_monthly_df.sort_values(by=['ContractAmount'])\n",
    "\n",
    "\n",
    "spending_2015_2019 = data_spending_patterns_envprotection_spending_df[data_spending_patterns_envprotection_spending_df['year']>2014]\n",
    "\n",
    "ContractAmount_df = pd.DataFrame(spending_2015_2019['ContractAmount']/1000000)\n",
    "ContractAmount_df['year'] = spending_2015_2019['year']\n",
    "ContractAmount_df['month'] = spending_2015_2019['month']\n",
    "ContractAmount_df = ContractAmount_df.rename(columns={'members':'ContractAmount'})"
   ]
  },
  {
   "cell_type": "code",
   "execution_count": 11,
   "metadata": {},
   "outputs": [
    {
     "data": {
      "text/html": [
       "<div>\n",
       "<style scoped>\n",
       "    .dataframe tbody tr th:only-of-type {\n",
       "        vertical-align: middle;\n",
       "    }\n",
       "\n",
       "    .dataframe tbody tr th {\n",
       "        vertical-align: top;\n",
       "    }\n",
       "\n",
       "    .dataframe thead th {\n",
       "        text-align: right;\n",
       "    }\n",
       "</style>\n",
       "<table border=\"1\" class=\"dataframe\">\n",
       "  <thead>\n",
       "    <tr style=\"text-align: right;\">\n",
       "      <th></th>\n",
       "      <th>AgencyName</th>\n",
       "      <th>month</th>\n",
       "      <th>AmountInMillion</th>\n",
       "    </tr>\n",
       "  </thead>\n",
       "  <tbody>\n",
       "    <tr>\n",
       "      <th>0</th>\n",
       "      <td>Administration for Children's Services</td>\n",
       "      <td>1</td>\n",
       "      <td>70.697049</td>\n",
       "    </tr>\n",
       "    <tr>\n",
       "      <th>1</th>\n",
       "      <td>Administration for Children's Services</td>\n",
       "      <td>2</td>\n",
       "      <td>41.115498</td>\n",
       "    </tr>\n",
       "    <tr>\n",
       "      <th>2</th>\n",
       "      <td>Administration for Children's Services</td>\n",
       "      <td>3</td>\n",
       "      <td>127.603679</td>\n",
       "    </tr>\n",
       "    <tr>\n",
       "      <th>3</th>\n",
       "      <td>Administration for Children's Services</td>\n",
       "      <td>4</td>\n",
       "      <td>460.568710</td>\n",
       "    </tr>\n",
       "    <tr>\n",
       "      <th>4</th>\n",
       "      <td>Administration for Children's Services</td>\n",
       "      <td>5</td>\n",
       "      <td>1435.444439</td>\n",
       "    </tr>\n",
       "  </tbody>\n",
       "</table>\n",
       "</div>"
      ],
      "text/plain": [
       "                               AgencyName  month  AmountInMillion\n",
       "0  Administration for Children's Services      1        70.697049\n",
       "1  Administration for Children's Services      2        41.115498\n",
       "2  Administration for Children's Services      3       127.603679\n",
       "3  Administration for Children's Services      4       460.568710\n",
       "4  Administration for Children's Services      5      1435.444439"
      ]
     },
     "execution_count": 11,
     "metadata": {},
     "output_type": "execute_result"
    }
   ],
   "source": [
    "data_agency_spending = data_filtered.copy()\n",
    "data_agency_spending['year'] = data_agency_spending['StartDate'].dt.year\n",
    "data_agency_spending['month'] = data_agency_spending['StartDate'].dt.month\n",
    "data_agency_spending['AmountInMillion'] = data_agency_spending['ContractAmount']/1000000\n",
    "\n",
    "data_agency_spending_group = data_agency_spending.groupby(['AgencyName','month'])['AmountInMillion'].sum()\n",
    "data_agency_spending_group_df = pd.DataFrame(data_agency_spending_group).reset_index()\n",
    "\n",
    "data_agency_spending_group_df.head()"
   ]
  },
  {
   "cell_type": "code",
   "execution_count": 12,
   "metadata": {},
   "outputs": [
    {
     "data": {
      "text/plain": [
       "<AxesSubplot:xlabel='month', ylabel='AmountInMillion'>"
      ]
     },
     "execution_count": 12,
     "metadata": {},
     "output_type": "execute_result"
    },
    {
     "data": {
      "image/png": "[encoded data removed]",
      "text/plain": [
       "<Figure size 432x288 with 1 Axes>"
      ]
     },
     "metadata": {
      "needs_background": "light"
     },
     "output_type": "display_data"
    }
   ],
   "source": [
    "data_agency_spending_group_df.plot.scatter(x='month',y='AmountInMillion')"
   ]
  },
  {
   "cell_type": "code",
   "execution_count": 13,
   "metadata": {},
   "outputs": [
    {
     "data": {
      "text/plain": [
       "<AxesSubplot:xlabel='month', ylabel='AmountInMillion'>"
      ]
     },
     "execution_count": 13,
     "metadata": {},
     "output_type": "execute_result"
    },
    {
     "data": {
      "image/png": "[encoded data removed]",
      "text/plain": [
       "<Figure size 432x288 with 1 Axes>"
      ]
     },
     "metadata": {
      "needs_background": "light"
     },
     "output_type": "display_data"
    }
   ],
   "source": [
    "data_agency_spending_less = data_agency_spending_group_df[data_agency_spending_group_df['AmountInMillion']<2000]\n",
    "\n",
    "data_agency_spending_less['AmountInMillion'].max()\n",
    "data_agency_spending_less.plot.scatter(x='month',y='AmountInMillion')"
   ]
  },
  {
   "cell_type": "code",
   "execution_count": 14,
   "metadata": {},
   "outputs": [
    {
     "data": {
      "text/plain": [
       "Power_divergenceResult(statistic=array([308513.54682823]), pvalue=array([0.]))"
      ]
     },
     "execution_count": 14,
     "metadata": {},
     "output_type": "execute_result"
    }
   ],
   "source": [
    "\n",
    "from scipy.stats import chisquare\n",
    "\n",
    "obs= np.array([data_agency_spending_less['AmountInMillion']]).T\n",
    "chisquare(obs)"
   ]
  },
  {
   "cell_type": "code",
   "execution_count": 15,
   "metadata": {},
   "outputs": [
    {
     "data": {
      "text/html": [
       "<div>\n",
       "<style scoped>\n",
       "    .dataframe tbody tr th:only-of-type {\n",
       "        vertical-align: middle;\n",
       "    }\n",
       "\n",
       "    .dataframe tbody tr th {\n",
       "        vertical-align: top;\n",
       "    }\n",
       "\n",
       "    .dataframe thead th {\n",
       "        text-align: right;\n",
       "    }\n",
       "</style>\n",
       "<table border=\"1\" class=\"dataframe\">\n",
       "  <thead>\n",
       "    <tr style=\"text-align: right;\">\n",
       "      <th></th>\n",
       "      <th>AgencyName</th>\n",
       "      <th>month</th>\n",
       "      <th>ContractCount</th>\n",
       "    </tr>\n",
       "  </thead>\n",
       "  <tbody>\n",
       "    <tr>\n",
       "      <th>0</th>\n",
       "      <td>Administration for Children's Services</td>\n",
       "      <td>1</td>\n",
       "      <td>45</td>\n",
       "    </tr>\n",
       "    <tr>\n",
       "      <th>1</th>\n",
       "      <td>Administration for Children's Services</td>\n",
       "      <td>2</td>\n",
       "      <td>22</td>\n",
       "    </tr>\n",
       "    <tr>\n",
       "      <th>2</th>\n",
       "      <td>Administration for Children's Services</td>\n",
       "      <td>3</td>\n",
       "      <td>42</td>\n",
       "    </tr>\n",
       "    <tr>\n",
       "      <th>3</th>\n",
       "      <td>Administration for Children's Services</td>\n",
       "      <td>4</td>\n",
       "      <td>29</td>\n",
       "    </tr>\n",
       "    <tr>\n",
       "      <th>4</th>\n",
       "      <td>Administration for Children's Services</td>\n",
       "      <td>5</td>\n",
       "      <td>38</td>\n",
       "    </tr>\n",
       "  </tbody>\n",
       "</table>\n",
       "</div>"
      ],
      "text/plain": [
       "                               AgencyName  month  ContractCount\n",
       "0  Administration for Children's Services      1             45\n",
       "1  Administration for Children's Services      2             22\n",
       "2  Administration for Children's Services      3             42\n",
       "3  Administration for Children's Services      4             29\n",
       "4  Administration for Children's Services      5             38"
      ]
     },
     "execution_count": 15,
     "metadata": {},
     "output_type": "execute_result"
    }
   ],
   "source": [
    "data_agency_spending = data_filtered.copy()\n",
    "data_agency_spending['year'] = data_agency_spending['StartDate'].dt.year\n",
    "data_agency_spending['month'] = data_agency_spending['StartDate'].dt.month\n",
    "data_agency_spending['AmountInMillion'] = data_agency_spending['ContractAmount']/1000000\n",
    "\n",
    "data_agency_count_group = data_agency_spending.groupby(['AgencyName','month'])['RequestID'].count()\n",
    "data_agency_count_group_df = pd.DataFrame(data_agency_count_group).reset_index()\n",
    "data_agency_count_group_df = data_agency_count_group_df.rename(columns={'RequestID':'ContractCount'})\n",
    "data_agency_count_group_df.head()"
   ]
  },
  {
   "cell_type": "code",
   "execution_count": 16,
   "metadata": {},
   "outputs": [
    {
     "data": {
      "text/plain": [
       "<AxesSubplot:xlabel='month', ylabel='ContractCount'>"
      ]
     },
     "execution_count": 16,
     "metadata": {},
     "output_type": "execute_result"
    },
    {
     "data": {
      "image/png": "[encoded data removed]",
      "text/plain": [
       "<Figure size 432x288 with 1 Axes>"
      ]
     },
     "metadata": {
      "needs_background": "light"
     },
     "output_type": "display_data"
    }
   ],
   "source": [
    "data_agency_count_group_df.plot.scatter(x='month',y='ContractCount')"
   ]
  },
  {
   "cell_type": "code",
   "execution_count": 17,
   "metadata": {},
   "outputs": [
    {
     "data": {
      "text/plain": [
       "Power_divergenceResult(statistic=array([84142.27398615]), pvalue=array([0.]))"
      ]
     },
     "execution_count": 17,
     "metadata": {},
     "output_type": "execute_result"
    }
   ],
   "source": [
    "\n",
    "from scipy.stats import chisquare\n",
    "\n",
    "obs= np.array([data_agency_count_group_df['ContractCount']]).T\n",
    "chisquare(obs)"
   ]
  },
  {
   "cell_type": "code",
   "execution_count": 18,
   "metadata": {},
   "outputs": [
    {
     "data": {
      "text/plain": [
       "0.6148921329288352"
      ]
     },
     "execution_count": 18,
     "metadata": {},
     "output_type": "execute_result"
    }
   ],
   "source": [
    "from scipy.stats import entropy\n",
    "import pandas as pd\n",
    "def information_gain(members, split):\n",
    "    \n",
    "    entropy_before = entropy(members.value_counts(normalize=True))\n",
    "    split.name = 'split'\n",
    "    members.name = 'members'\n",
    "    grouped_distrib = members.groupby(split) \\\n",
    "                        .value_counts(normalize=True) \\\n",
    "                        .reset_index(name='count') \\\n",
    "                        .pivot_table(index='split', columns='members', values='count').fillna(0) \n",
    "    entropy_after = entropy(grouped_distrib, axis=1)\n",
    "    entropy_after *= split.value_counts(sort=False, normalize=True)\n",
    "    return (entropy_before - entropy_after.sum())/entropy_before\n",
    "\n",
    "information_gain(ContractAmount_df['ContractAmount'], ContractAmount_df['month'])"
   ]
  },
  {
   "cell_type": "markdown",
   "metadata": {},
   "source": [
    "# according to informaiton gain between contract amount and month, the two features are related.\n",
    "# we visualized the contract amount each year, we can see the peak points are between June and September each year."
   ]
  },
  {
   "cell_type": "code",
   "execution_count": 19,
   "metadata": {},
   "outputs": [
    {
     "data": {
      "text/plain": [
       "<AxesSubplot:xlabel='month'>"
      ]
     },
     "execution_count": 19,
     "metadata": {},
     "output_type": "execute_result"
    },
    {
     "data": {
      "image/png": "[encoded data removed]",
      "text/plain": [
       "<Figure size 432x288 with 1 Axes>"
      ]
     },
     "metadata": {
      "needs_background": "light"
     },
     "output_type": "display_data"
    }
   ],
   "source": [
    "ContractAmount_df.plot.line(x='month', y='ContractAmount')"
   ]
  },
  {
   "cell_type": "code",
   "execution_count": 20,
   "metadata": {},
   "outputs": [
    {
     "data": {
      "text/plain": [
       "<AxesSubplot:xlabel='month'>"
      ]
     },
     "execution_count": 20,
     "metadata": {},
     "output_type": "execute_result"
    },
    {
     "data": {
      "image/png": "[encoded data removed]",
      "text/plain": [
       "<Figure size 432x288 with 1 Axes>"
      ]
     },
     "metadata": {
      "needs_background": "light"
     },
     "output_type": "display_data"
    }
   ],
   "source": [
    "data_spending_patterns_envprotection_spending_df.plot.line(x='month', y='ContractAmount')"
   ]
  },
  {
   "cell_type": "code",
   "execution_count": 21,
   "metadata": {},
   "outputs": [
    {
     "data": {
      "text/plain": [
       "0.08462899795171146"
      ]
     },
     "execution_count": 21,
     "metadata": {},
     "output_type": "execute_result"
    }
   ],
   "source": [
    "# question 8\n",
    "nyc_zipcodes = pd.read_csv('NYC_ZIPCODE.csv').set_index('zipcode')\n",
    "data_address = data_filtered.copy()\n",
    "data_address['year'] = data_address['StartDate'].dt.year\n",
    "data_address = data_address[data_address['year'] == 2018]\n",
    "data_address['zipcode'] = data_address['VendorAddress'].apply(lambda s: str(s).split(' ')[-1])\n",
    "data_address['nyc'] = data_address['zipcode'].apply(lambda s: s in str(nyc_zipcodes.index))\n",
    "data_address[data_address['nyc']==True]['ContractAmount'].sum()/data_address[data_address['nyc']==False]['ContractAmount'].sum()"
   ]
  },
  {
   "cell_type": "code",
   "execution_count": null,
   "metadata": {},
   "outputs": [],
   "source": []
  }
 ],
 "metadata": {
  "kernelspec": {
   "display_name": "Python 3",
   "language": "python",
   "name": "python3"
  },
  "language_info": {
   "codemirror_mode": {
    "name": "ipython",
    "version": 3
   },
   "file_extension": ".py",
   "mimetype": "text/x-python",
   "name": "python",
   "nbconvert_exporter": "python",
   "pygments_lexer": "ipython3",
   "version": "3.8.4"
  }
 },
 "nbformat": 4,
 "nbformat_minor": 4
}
