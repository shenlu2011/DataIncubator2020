{
 "cells": [
  {
   "cell_type": "markdown",
   "metadata": {
    "slideshow": {
     "slide_type": "slide"
    }
   },
   "source": [
    "# Predicting the popularity of news on Facebook, Google+, and LinkedIn\n",
    "# For this project, we start with the sample data \n",
    "# The data model is built in the following steps \n",
    "# 1. Use information gain to evaluate the siginificance of the given features to the targets.\n",
    "# 2. Use Latent semantic analysis to improve data quality. Because, text mining depends on the context. We need to define the context for the given news.\n",
    "# 3. Use KNN to get rid of outliers.\n",
    "# 4. After sample selection, we check information gain, again and it goes up.\n",
    "# 5. We choose Source, SentimentTitle, SentimentHeadline as features and use KNN to build a classification model to predict news popularity on Facebook, GooglePlus and LinkedIn.\n",
    "# 6. We compared both the poularity scores and the text between the given news and the similar news.\n",
    "# 6.1 For popularity scores: predicted (Facebook:5, GooglePlus:0, LinkedIn:5), Actual (Facebook:6, GooglePlus:0, LinkedIn:0)\n",
    "# 6.2 For the content of the similar news, they are about the same thing.\n"
   ]
  },
  {
   "cell_type": "code",
   "execution_count": null,
   "metadata": {
    "slideshow": {
     "slide_type": "skip"
    }
   },
   "outputs": [],
   "source": [
    "### Download data\n",
    "Source: http://archive.ics.uci.edu/ml/datasets/News+Popularity+in+Multiple+Social+Media+Platforms"
   ]
  },
  {
   "cell_type": "markdown",
   "metadata": {
    "scrolled": true,
    "slideshow": {
     "slide_type": "skip"
    }
   },
   "source": [
    "%%bash\n",
    "\n",
    "wget -nc -O news-final.csv http://archive.ics.uci.edu/ml/machine-learning-databases/00432/Data/News_Final.csv; \n",
    "wget -nc -O facebook-microsoft.csv http://archive.ics.uci.edu/ml/machine-learning-databases/00432/Data/Facebook_Microsoft.csv;\n",
    "wget -nc -O googleplus-microsoft.csv http://archive.ics.uci.edu/ml/machine-learning-databases/00432/Data/GooglePlus_Microsoft.csv;\n",
    "wget -nc -O linkedin-microsoft.csv http://archive.ics.uci.edu/ml/machine-learning-databases/00432/Data/LinkedIn_Microsoft.csv &\n"
   ]
  },
  {
   "cell_type": "code",
   "execution_count": 1,
   "metadata": {
    "slideshow": {
     "slide_type": "skip"
    }
   },
   "outputs": [],
   "source": [
    "import pandas as pd\n",
    "import numpy as np\n",
    "\n",
    "from matplotlib import pyplot as plt\n"
   ]
  },
  {
   "cell_type": "markdown",
   "metadata": {
    "slideshow": {
     "slide_type": "skip"
    }
   },
   "source": [
    "### Load data and set index"
   ]
  },
  {
   "cell_type": "code",
   "execution_count": 2,
   "metadata": {
    "slideshow": {
     "slide_type": "skip"
    }
   },
   "outputs": [],
   "source": [
    "news = pd.read_csv('news-final.csv')\n",
    "news = news[news['Topic']=='microsoft']\n",
    "news = news.drop('Topic', 1)\n",
    "\n",
    "news['IDLink'] = news['IDLink'].astype(int)\n",
    "news = news.set_index('IDLink')\n",
    "\n",
    "\n",
    "facebook = pd.read_csv('facebook-microsoft.csv')\n",
    "facebook = facebook.set_index('IDLink')\n",
    "\n",
    "google = pd.read_csv('googleplus-microsoft.csv')\n",
    "google = google.set_index('IDLink')\n",
    "\n",
    "linkedin = pd.read_csv('linkedin-microsoft.csv')\n",
    "linkedin = linkedin.set_index('IDLink')\n"
   ]
  },
  {
   "cell_type": "markdown",
   "metadata": {
    "slideshow": {
     "slide_type": "skip"
    }
   },
   "source": [
    "### Restrict to articles appearing on all 3 sites"
   ]
  },
  {
   "cell_type": "code",
   "execution_count": 3,
   "metadata": {
    "slideshow": {
     "slide_type": "skip"
    }
   },
   "outputs": [],
   "source": [
    "posted_everywhere = news[['Facebook', 'GooglePlus', 'LinkedIn']].min(axis=1) > -1\n",
    "\n",
    "news = news[posted_everywhere]"
   ]
  },
  {
   "cell_type": "code",
   "execution_count": 4,
   "metadata": {},
   "outputs": [
    {
     "data": {
      "text/html": [
       "<div>\n",
       "<style scoped>\n",
       "    .dataframe tbody tr th:only-of-type {\n",
       "        vertical-align: middle;\n",
       "    }\n",
       "\n",
       "    .dataframe tbody tr th {\n",
       "        vertical-align: top;\n",
       "    }\n",
       "\n",
       "    .dataframe thead th {\n",
       "        text-align: right;\n",
       "    }\n",
       "</style>\n",
       "<table border=\"1\" class=\"dataframe\">\n",
       "  <thead>\n",
       "    <tr style=\"text-align: right;\">\n",
       "      <th></th>\n",
       "      <th>Title</th>\n",
       "      <th>Headline</th>\n",
       "      <th>Source</th>\n",
       "      <th>PublishDate</th>\n",
       "      <th>SentimentTitle</th>\n",
       "      <th>SentimentHeadline</th>\n",
       "      <th>Facebook</th>\n",
       "      <th>GooglePlus</th>\n",
       "      <th>LinkedIn</th>\n",
       "    </tr>\n",
       "    <tr>\n",
       "      <th>IDLink</th>\n",
       "      <th></th>\n",
       "      <th></th>\n",
       "      <th></th>\n",
       "      <th></th>\n",
       "      <th></th>\n",
       "      <th></th>\n",
       "      <th></th>\n",
       "      <th></th>\n",
       "      <th></th>\n",
       "    </tr>\n",
       "  </thead>\n",
       "  <tbody>\n",
       "    <tr>\n",
       "      <th>311</th>\n",
       "      <td>Microsoft offering £100 discount on original B...</td>\n",
       "      <td>Just ahead of the market rollout of Microsoft'...</td>\n",
       "      <td>International Business Times via Yahoo UK &amp; Ir...</td>\n",
       "      <td>2015-11-08 05:25:00</td>\n",
       "      <td>0.000000</td>\n",
       "      <td>-0.132812</td>\n",
       "      <td>0</td>\n",
       "      <td>0</td>\n",
       "      <td>0</td>\n",
       "    </tr>\n",
       "    <tr>\n",
       "      <th>307</th>\n",
       "      <td>Microsoft scales back free online storage plans</td>\n",
       "      <td>NEW YORK — Microsoft is getting stingy with on...</td>\n",
       "      <td>The Columbian</td>\n",
       "      <td>2015-11-08 06:54:00</td>\n",
       "      <td>0.106303</td>\n",
       "      <td>-0.207333</td>\n",
       "      <td>0</td>\n",
       "      <td>0</td>\n",
       "      <td>0</td>\n",
       "    </tr>\n",
       "    <tr>\n",
       "      <th>299</th>\n",
       "      <td>Microsoft’s OneDrive debacle shows its cloud c...</td>\n",
       "      <td>When Microsoft announced earlier this week tha...</td>\n",
       "      <td>Digital Trends via Yahoo! News</td>\n",
       "      <td>2015-11-08 12:15:00</td>\n",
       "      <td>-0.166139</td>\n",
       "      <td>-0.259052</td>\n",
       "      <td>6</td>\n",
       "      <td>0</td>\n",
       "      <td>1</td>\n",
       "    </tr>\n",
       "    <tr>\n",
       "      <th>328</th>\n",
       "      <td>Microsoft to play a big part in Digital India</td>\n",
       "      <td>Bhaskar Pramanik, Chairman, Microsoft India, s...</td>\n",
       "      <td>DNA India</td>\n",
       "      <td>2015-11-08 16:47:00</td>\n",
       "      <td>-0.018326</td>\n",
       "      <td>0.062500</td>\n",
       "      <td>11</td>\n",
       "      <td>1</td>\n",
       "      <td>1</td>\n",
       "    </tr>\n",
       "    <tr>\n",
       "      <th>587</th>\n",
       "      <td>Microsoft risks IT ire with Windows 10 update ...</td>\n",
       "      <td>Microsoft has made it clear that it will take...</td>\n",
       "      <td>MIS Asia</td>\n",
       "      <td>2015-11-08 18:54:00</td>\n",
       "      <td>-0.165728</td>\n",
       "      <td>0.146390</td>\n",
       "      <td>89</td>\n",
       "      <td>0</td>\n",
       "      <td>0</td>\n",
       "    </tr>\n",
       "  </tbody>\n",
       "</table>\n",
       "</div>"
      ],
      "text/plain": [
       "                                                    Title  \\\n",
       "IDLink                                                      \n",
       "311     Microsoft offering £100 discount on original B...   \n",
       "307       Microsoft scales back free online storage plans   \n",
       "299     Microsoft’s OneDrive debacle shows its cloud c...   \n",
       "328         Microsoft to play a big part in Digital India   \n",
       "587     Microsoft risks IT ire with Windows 10 update ...   \n",
       "\n",
       "                                                 Headline  \\\n",
       "IDLink                                                      \n",
       "311     Just ahead of the market rollout of Microsoft'...   \n",
       "307     NEW YORK — Microsoft is getting stingy with on...   \n",
       "299     When Microsoft announced earlier this week tha...   \n",
       "328     Bhaskar Pramanik, Chairman, Microsoft India, s...   \n",
       "587      Microsoft has made it clear that it will take...   \n",
       "\n",
       "                                                   Source  \\\n",
       "IDLink                                                      \n",
       "311     International Business Times via Yahoo UK & Ir...   \n",
       "307                                         The Columbian   \n",
       "299                        Digital Trends via Yahoo! News   \n",
       "328                                             DNA India   \n",
       "587                                              MIS Asia   \n",
       "\n",
       "                PublishDate  SentimentTitle  SentimentHeadline  Facebook  \\\n",
       "IDLink                                                                     \n",
       "311     2015-11-08 05:25:00        0.000000          -0.132812         0   \n",
       "307     2015-11-08 06:54:00        0.106303          -0.207333         0   \n",
       "299     2015-11-08 12:15:00       -0.166139          -0.259052         6   \n",
       "328     2015-11-08 16:47:00       -0.018326           0.062500        11   \n",
       "587     2015-11-08 18:54:00       -0.165728           0.146390        89   \n",
       "\n",
       "        GooglePlus  LinkedIn  \n",
       "IDLink                        \n",
       "311              0         0  \n",
       "307              0         0  \n",
       "299              0         1  \n",
       "328              1         1  \n",
       "587              0         0  "
      ]
     },
     "execution_count": 4,
     "metadata": {},
     "output_type": "execute_result"
    }
   ],
   "source": [
    "news.head()"
   ]
  },
  {
   "cell_type": "markdown",
   "metadata": {
    "slideshow": {
     "slide_type": "slide"
    }
   },
   "source": [
    "### Restrict to sources with at least 50 articles"
   ]
  },
  {
   "cell_type": "code",
   "execution_count": 5,
   "metadata": {
    "slideshow": {
     "slide_type": "slide"
    }
   },
   "outputs": [
    {
     "name": "stdout",
     "output_type": "stream",
     "text": [
      "Number of sources with at least 50 articles: 75\n"
     ]
    }
   ],
   "source": [
    "greater_than_50 = (news['Source'].value_counts() > 50)\n",
    "\n",
    "sources_50 = greater_than_50[greater_than_50 > 0].index\n",
    "\n",
    "print(\"Number of sources with at least 50 articles: {}\".format(greater_than_50.sum()))\n",
    "\n",
    "news = news[news['Source'].isin(sources_50)]\n"
   ]
  },
  {
   "cell_type": "markdown",
   "metadata": {
    "slideshow": {
     "slide_type": "skip"
    }
   },
   "source": [
    "### Process dates"
   ]
  },
  {
   "cell_type": "code",
   "execution_count": 6,
   "metadata": {
    "slideshow": {
     "slide_type": "skip"
    }
   },
   "outputs": [],
   "source": [
    "news.loc[:, 'PublishDate'] = pd.to_datetime(news['PublishDate'])\n",
    "\n",
    "news.loc[:, 'Year'] = news['PublishDate'].dt.year\n",
    "news.loc[:, 'Month'] = news['PublishDate'].dt.month\n",
    "news.loc[:, 'DayOfWeek'] = news['PublishDate'].dt.weekday\n",
    "news.loc[:, 'Hour'] = news['PublishDate'].dt.hour"
   ]
  },
  {
   "cell_type": "code",
   "execution_count": 7,
   "metadata": {
    "slideshow": {
     "slide_type": "skip"
    }
   },
   "outputs": [],
   "source": [
    "import datetime"
   ]
  },
  {
   "cell_type": "code",
   "execution_count": 8,
   "metadata": {
    "slideshow": {
     "slide_type": "skip"
    }
   },
   "outputs": [],
   "source": [
    "news['PublishDate'].max()\n",
    "\n",
    "may_1_2016 = datetime.datetime(2016, 5, 1)\n",
    "\n",
    "news_historical = news[news['PublishDate'] <= may_1_2016]\n",
    "news_new = news[news['PublishDate'] > may_1_2016]"
   ]
  },
  {
   "cell_type": "code",
   "execution_count": null,
   "metadata": {
    "slideshow": {
     "slide_type": "skip"
    }
   },
   "outputs": [],
   "source": []
  },
  {
   "cell_type": "markdown",
   "metadata": {
    "slideshow": {
     "slide_type": "slide"
    }
   },
   "source": [
    "## ML"
   ]
  },
  {
   "cell_type": "code",
   "execution_count": 9,
   "metadata": {
    "slideshow": {
     "slide_type": "skip"
    }
   },
   "outputs": [],
   "source": [
    "from sklearn.linear_model import LinearRegression, Ridge\n",
    "from sklearn.preprocessing import OneHotEncoder\n",
    "from sklearn.pipeline import Pipeline, FeatureUnion\n",
    "from sklearn import base"
   ]
  },
  {
   "cell_type": "code",
   "execution_count": 10,
   "metadata": {
    "slideshow": {
     "slide_type": "skip"
    }
   },
   "outputs": [],
   "source": [
    "df = news_historical.drop(['PublishDate'], 1)"
   ]
  },
  {
   "cell_type": "code",
   "execution_count": 11,
   "metadata": {},
   "outputs": [
    {
     "data": {
      "text/html": [
       "<div>\n",
       "<style scoped>\n",
       "    .dataframe tbody tr th:only-of-type {\n",
       "        vertical-align: middle;\n",
       "    }\n",
       "\n",
       "    .dataframe tbody tr th {\n",
       "        vertical-align: top;\n",
       "    }\n",
       "\n",
       "    .dataframe thead th {\n",
       "        text-align: right;\n",
       "    }\n",
       "</style>\n",
       "<table border=\"1\" class=\"dataframe\">\n",
       "  <thead>\n",
       "    <tr style=\"text-align: right;\">\n",
       "      <th></th>\n",
       "      <th>Title</th>\n",
       "      <th>Headline</th>\n",
       "      <th>Source</th>\n",
       "      <th>SentimentTitle</th>\n",
       "      <th>SentimentHeadline</th>\n",
       "      <th>Facebook</th>\n",
       "      <th>GooglePlus</th>\n",
       "      <th>LinkedIn</th>\n",
       "      <th>Year</th>\n",
       "      <th>Month</th>\n",
       "      <th>DayOfWeek</th>\n",
       "      <th>Hour</th>\n",
       "    </tr>\n",
       "    <tr>\n",
       "      <th>IDLink</th>\n",
       "      <th></th>\n",
       "      <th></th>\n",
       "      <th></th>\n",
       "      <th></th>\n",
       "      <th></th>\n",
       "      <th></th>\n",
       "      <th></th>\n",
       "      <th></th>\n",
       "      <th></th>\n",
       "      <th></th>\n",
       "      <th></th>\n",
       "      <th></th>\n",
       "    </tr>\n",
       "  </thead>\n",
       "  <tbody>\n",
       "    <tr>\n",
       "      <th>46462</th>\n",
       "      <td>Get a $50 Microsoft Store gift card with Xbox ...</td>\n",
       "      <td>The $50 discount for the Xbox One is no longer...</td>\n",
       "      <td>Windows Central</td>\n",
       "      <td>-0.096466</td>\n",
       "      <td>-0.029167</td>\n",
       "      <td>9</td>\n",
       "      <td>2</td>\n",
       "      <td>1</td>\n",
       "      <td>2016</td>\n",
       "      <td>5</td>\n",
       "      <td>6</td>\n",
       "      <td>8</td>\n",
       "    </tr>\n",
       "    <tr>\n",
       "      <th>46791</th>\n",
       "      <td>Flow is Microsoft’s answer to IFTTT</td>\n",
       "      <td>IFTTT (If This Then That) is looking at big co...</td>\n",
       "      <td>Digital Trends via Yahoo! News</td>\n",
       "      <td>0.010499</td>\n",
       "      <td>0.089970</td>\n",
       "      <td>0</td>\n",
       "      <td>0</td>\n",
       "      <td>0</td>\n",
       "      <td>2016</td>\n",
       "      <td>5</td>\n",
       "      <td>6</td>\n",
       "      <td>11</td>\n",
       "    </tr>\n",
       "    <tr>\n",
       "      <th>46538</th>\n",
       "      <td>Microsoft's IE loses top browser spot to Googl...</td>\n",
       "      <td>Internet Explorer in April lost the No. 1 spot...</td>\n",
       "      <td>Computer World Australia</td>\n",
       "      <td>-0.092593</td>\n",
       "      <td>-0.038044</td>\n",
       "      <td>111</td>\n",
       "      <td>0</td>\n",
       "      <td>6</td>\n",
       "      <td>2016</td>\n",
       "      <td>5</td>\n",
       "      <td>6</td>\n",
       "      <td>11</td>\n",
       "    </tr>\n",
       "    <tr>\n",
       "      <th>46542</th>\n",
       "      <td>This Microsoft legend says the the company is ...</td>\n",
       "      <td>Microsoft Research is more important to the te...</td>\n",
       "      <td>Business Insider via Yahoo! Finance</td>\n",
       "      <td>0.000000</td>\n",
       "      <td>0.000000</td>\n",
       "      <td>1</td>\n",
       "      <td>0</td>\n",
       "      <td>0</td>\n",
       "      <td>2016</td>\n",
       "      <td>5</td>\n",
       "      <td>6</td>\n",
       "      <td>11</td>\n",
       "    </tr>\n",
       "    <tr>\n",
       "      <th>46569</th>\n",
       "      <td>Windows 10 Mobile Build 10586.306 now being te...</td>\n",
       "      <td>Microsoft is actively working on the next majo...</td>\n",
       "      <td>MSPoweruser.com</td>\n",
       "      <td>0.094491</td>\n",
       "      <td>0.167705</td>\n",
       "      <td>23</td>\n",
       "      <td>0</td>\n",
       "      <td>0</td>\n",
       "      <td>2016</td>\n",
       "      <td>5</td>\n",
       "      <td>6</td>\n",
       "      <td>14</td>\n",
       "    </tr>\n",
       "  </tbody>\n",
       "</table>\n",
       "</div>"
      ],
      "text/plain": [
       "                                                    Title  \\\n",
       "IDLink                                                      \n",
       "46462   Get a $50 Microsoft Store gift card with Xbox ...   \n",
       "46791                 Flow is Microsoft’s answer to IFTTT   \n",
       "46538   Microsoft's IE loses top browser spot to Googl...   \n",
       "46542   This Microsoft legend says the the company is ...   \n",
       "46569   Windows 10 Mobile Build 10586.306 now being te...   \n",
       "\n",
       "                                                 Headline  \\\n",
       "IDLink                                                      \n",
       "46462   The $50 discount for the Xbox One is no longer...   \n",
       "46791   IFTTT (If This Then That) is looking at big co...   \n",
       "46538   Internet Explorer in April lost the No. 1 spot...   \n",
       "46542   Microsoft Research is more important to the te...   \n",
       "46569   Microsoft is actively working on the next majo...   \n",
       "\n",
       "                                     Source  SentimentTitle  \\\n",
       "IDLink                                                        \n",
       "46462                       Windows Central       -0.096466   \n",
       "46791        Digital Trends via Yahoo! News        0.010499   \n",
       "46538              Computer World Australia       -0.092593   \n",
       "46542   Business Insider via Yahoo! Finance        0.000000   \n",
       "46569                       MSPoweruser.com        0.094491   \n",
       "\n",
       "        SentimentHeadline  Facebook  GooglePlus  LinkedIn  Year  Month  \\\n",
       "IDLink                                                                   \n",
       "46462           -0.029167         9           2         1  2016      5   \n",
       "46791            0.089970         0           0         0  2016      5   \n",
       "46538           -0.038044       111           0         6  2016      5   \n",
       "46542            0.000000         1           0         0  2016      5   \n",
       "46569            0.167705        23           0         0  2016      5   \n",
       "\n",
       "        DayOfWeek  Hour  \n",
       "IDLink                   \n",
       "46462           6     8  \n",
       "46791           6    11  \n",
       "46538           6    11  \n",
       "46542           6    11  \n",
       "46569           6    14  "
      ]
     },
     "execution_count": 11,
     "metadata": {},
     "output_type": "execute_result"
    }
   ],
   "source": [
    "df_new = news_new.drop(['PublishDate'], 1)\n",
    "df_new.head()"
   ]
  },
  {
   "cell_type": "code",
   "execution_count": 12,
   "metadata": {},
   "outputs": [],
   "source": [
    "\n",
    "#import modules for news selection\n",
    "import os.path\n",
    "from gensim import corpora\n",
    "from gensim.models import LsiModel\n",
    "from nltk.corpus import stopwords\n",
    "from nltk.tokenize import RegexpTokenizer\n",
    "from nltk.stem.porter import PorterStemmer\n",
    "from gensim.models.coherencemodel import CoherenceModel\n",
    "import matplotlib.pyplot as plt\n",
    "from gensim import models"
   ]
  },
  {
   "cell_type": "code",
   "execution_count": 13,
   "metadata": {},
   "outputs": [],
   "source": [
    "\n",
    "from nltk.corpus import stopwords\n",
    "\n",
    "\n",
    "def preprocess_data(doc_set):\n",
    "    \"\"\"\n",
    "    Input  : docuemnt list\n",
    "    Purpose: preprocess text (tokenize, removing stopwords, and stemming)\n",
    "    Output : preprocessed text\n",
    "    \"\"\"\n",
    "    # initialize regex tokenizer\n",
    "    tokenizer = RegexpTokenizer(r'\\w+')\n",
    "    # create English stop words list\n",
    "    en_stop = set(stopwords.words('english'))\n",
    "    # Create p_stemmer of class PorterStemmer\n",
    "    p_stemmer = PorterStemmer()\n",
    "    # list for tokenized documents in loop\n",
    "    doc_clean = []\n",
    "    # loop through document list\n",
    "    for i in doc_set:\n",
    "        # clean and tokenize document string\n",
    "        raw = i.lower()\n",
    "        tokens = tokenizer.tokenize(raw)\n",
    "        # remove stop words from tokens\n",
    "        stopped_tokens = [i for i in tokens if not i in en_stop]\n",
    "        # stem tokens\n",
    "        stemmed_tokens = [p_stemmer.stem(i) for i in stopped_tokens]\n",
    "        # add tokens to list\n",
    "        doc_clean.append(stemmed_tokens)\n",
    "\n",
    "    \n",
    "    return doc_clean\n",
    "\n",
    "\n",
    "def prepare_corpus(doc_clean):\n",
    "    # Creating the term dictionary of our courpus, where every unique term is assigned an index. dictionary = corpora.Dictionary(doc_clean)\n",
    "    dictionary = corpora.Dictionary(doc_clean)\n",
    "    # Converting list of documents (corpus) into Document Term Matrix using dictionary prepared above.\n",
    "    doc_term_matrix = [dictionary.doc2bow(doc) for doc in doc_clean]\n",
    "    # generate LDA model\n",
    "    dicitonary = dictionary\n",
    "    doc_term_matrix = doc_term_matrix\n",
    "    corpus = [dictionary.doc2bow(text) for text in doc_clean]\n",
    "    \n",
    "    return dictionary,doc_term_matrix\n",
    "\n",
    "def create_gensim_lsa_model(doc_clean,number_of_topics,words):\n",
    "\n",
    "    dictionary,doc_term_matrix=prepare_corpus(doc_clean)\n",
    "    # generate LSA model\n",
    "    lsamodel = LsiModel(doc_term_matrix, num_topics=number_of_topics, id2word = dictionary)  # train model\n",
    "    #print(lsamodel.print_topics(num_topics=number_of_topics, num_words=words))\n",
    "    return lsamodel\n",
    "\n",
    "\n",
    "def compute_coherence_values(dictionary, doc_term_matrix, doc_clean,number_of_topics, stop, start=2, step=3):\n",
    "\n",
    "    coherence_values = []\n",
    "    model_list = []\n",
    "    for num_topics in range(start, stop, step):\n",
    "        # generate LSA model\n",
    "        model = LsiModel(doc_term_matrix, num_topics, id2word = dictionary)  # train model\n",
    "        model_list.append(model)\n",
    "        coherencemodel = CoherenceModel(model=model, texts=doc_clean, dictionary=dictionary, coherence='c_v')\n",
    "        coherence_values.append(coherencemodel.get_coherence())\n",
    "    model_list = model_list\n",
    "    coherence_values = coherence_values\n",
    "    return model_list, coherence_values\n",
    "\n",
    "def buildModel(doc_clean, number_of_topics,stop, start, step):\n",
    "    dictionary,doc_term_matrix=prepare_corpus(doc_clean)\n",
    "    model_list, coherence_values = compute_coherence_values(dictionary, doc_term_matrix,doc_clean,number_of_topics, stop, start, step)\n",
    "    return model_list, coherence_values\n",
    "\n",
    "def similarity(doc, corpus, dictionary, numTopics):\n",
    "    lsi = models.LsiModel(corpus, id2word=dictionary, num_topics=numTopics)\n",
    "    vec_bow = self.dictionary.doc2bow(doc.lower().split())\n",
    "    vec_lsi = lsi[vec_bow]  # convert the query to LSI space\n",
    "    #print(vec_lsi)\n",
    "    return vec_lsi\n"
   ]
  },
  {
   "cell_type": "code",
   "execution_count": 14,
   "metadata": {},
   "outputs": [],
   "source": [
    "from scipy.stats import entropy\n",
    "import pandas as pd\n",
    "def information_gain(members, split):\n",
    "    \n",
    "    entropy_before = entropy(members.value_counts(normalize=True))\n",
    "    split.name = 'split'\n",
    "    members.name = 'members'\n",
    "    grouped_distrib = members.groupby(split) \\\n",
    "                        .value_counts(normalize=True) \\\n",
    "                        .reset_index(name='count') \\\n",
    "                        .pivot_table(index='split', columns='members', values='count').fillna(0) \n",
    "    entropy_after = entropy(grouped_distrib, axis=1)\n",
    "    entropy_after *= split.value_counts(sort=False, normalize=True)\n",
    "    return (entropy_before - entropy_after.sum())/entropy_before\n",
    "\n"
   ]
  },
  {
   "cell_type": "markdown",
   "metadata": {},
   "source": [
    "# Feature Selection"
   ]
  },
  {
   "cell_type": "markdown",
   "metadata": {
    "slideshow": {
     "slide_type": "notes"
    }
   },
   "source": [
    "# According to Information Gain, SentimentTitle and SentimentHeadline are not considered as good features to predict popularity on Facebook, GooglePlus, and LinkedIn."
   ]
  },
  {
   "cell_type": "code",
   "execution_count": 15,
   "metadata": {},
   "outputs": [
    {
     "name": "stdout",
     "output_type": "stream",
     "text": [
      "0.6427983828436333 0.682137527933072 0.6065400706568865\n"
     ]
    }
   ],
   "source": [
    "info_title_fb =information_gain(df['SentimentTitle'],df['Facebook'])\n",
    "info_headline_fb =information_gain(df['SentimentHeadline'],df['Facebook'])\n",
    "info_source_fb =information_gain(df['Source'],df['Facebook'])\n",
    "print(info_title_fb, info_headline_fb,info_source_fb)"
   ]
  },
  {
   "cell_type": "code",
   "execution_count": 16,
   "metadata": {},
   "outputs": [
    {
     "name": "stdout",
     "output_type": "stream",
     "text": [
      "0.4545358118900283 0.48596147409162366 0.4117329019171993\n"
     ]
    }
   ],
   "source": [
    "info_title_google=information_gain(df['SentimentTitle'],df['GooglePlus'])\n",
    "info_headline_google=information_gain(df['SentimentHeadline'],df['GooglePlus'])\n",
    "info_source_google=information_gain(df['Source'],df['GooglePlus'])\n",
    "print(info_title_google, info_headline_google,info_source_google)"
   ]
  },
  {
   "cell_type": "code",
   "execution_count": 17,
   "metadata": {},
   "outputs": [
    {
     "name": "stdout",
     "output_type": "stream",
     "text": [
      "0.5177361250103715 0.5575869048549802 0.4672467847269911\n"
     ]
    }
   ],
   "source": [
    "info_title_linkedin=information_gain(df['SentimentTitle'],df['LinkedIn'])\n",
    "info_headline_linkedin=information_gain(df['SentimentHeadline'],df['LinkedIn'])\n",
    "info_source_linkedin=information_gain(df['Source'],df['LinkedIn'])\n",
    "print(info_title_linkedin, info_headline_linkedin,info_source_linkedin)"
   ]
  },
  {
   "cell_type": "markdown",
   "metadata": {
    "slideshow": {
     "slide_type": "slide"
    }
   },
   "source": [
    "# For Title and Headline, we use Latent semantic analysis to find similar news as a subset"
   ]
  },
  {
   "cell_type": "code",
   "execution_count": 18,
   "metadata": {},
   "outputs": [],
   "source": [
    "\n",
    "doc_clean = preprocess_data(df['Title'])\n",
    "dictionary, doc_term_matrix = prepare_corpus(doc_clean)\n",
    "\n",
    "#start,repeats,step=1,20,1\n",
    "#number_of_topics = 20\n",
    "#model_list, coherence_values = buildModel(doc_clean, number_of_topics,repeats, start, step)\n",
    "#df_coh = pd.DataFrame(coherence_values, columns=['coherence_values'])\n",
    "\n",
    "#max_coherence = df_coh[df_coh['coherence_values']==df_coh['coherence_values'].max()]\n",
    "#numTopic = max_coherence.index.values[0]\n",
    "#model_title = model_list[numTopic]\n",
    "#print(\"num topics\" + str(len(model_list)))\n",
    "#model_title.save('model_title.lsi')\n",
    "\n",
    "\n",
    "model_title = models.LsiModel.load('model_title.lsi')\n",
    "\n",
    "\n",
    "TitleTopics = []\n",
    "for i in range(len(doc_clean)):\n",
    "    doc = doc_clean[i]\n",
    "    vec_bow = dictionary.doc2bow(doc) \n",
    "    vec_lsi = model_title[vec_bow]   # convert the query to LSI space\n",
    "    df_vec_lsi = pd.DataFrame(vec_lsi)\n",
    "    m = df_vec_lsi[df_vec_lsi[1] == df_vec_lsi[1].max()].index.values\n",
    "    TitleTopics.append(m[0])\n"
   ]
  },
  {
   "cell_type": "code",
   "execution_count": 19,
   "metadata": {},
   "outputs": [
    {
     "data": {
      "text/html": [
       "<div>\n",
       "<style scoped>\n",
       "    .dataframe tbody tr th:only-of-type {\n",
       "        vertical-align: middle;\n",
       "    }\n",
       "\n",
       "    .dataframe tbody tr th {\n",
       "        vertical-align: top;\n",
       "    }\n",
       "\n",
       "    .dataframe thead th {\n",
       "        text-align: right;\n",
       "    }\n",
       "</style>\n",
       "<table border=\"1\" class=\"dataframe\">\n",
       "  <thead>\n",
       "    <tr style=\"text-align: right;\">\n",
       "      <th></th>\n",
       "      <th>Title</th>\n",
       "      <th>Headline</th>\n",
       "      <th>Source</th>\n",
       "      <th>PublishDate</th>\n",
       "      <th>SentimentTitle</th>\n",
       "      <th>SentimentHeadline</th>\n",
       "      <th>Facebook</th>\n",
       "      <th>GooglePlus</th>\n",
       "      <th>LinkedIn</th>\n",
       "      <th>Year</th>\n",
       "      <th>Month</th>\n",
       "      <th>DayOfWeek</th>\n",
       "      <th>Hour</th>\n",
       "    </tr>\n",
       "    <tr>\n",
       "      <th>IDLink</th>\n",
       "      <th></th>\n",
       "      <th></th>\n",
       "      <th></th>\n",
       "      <th></th>\n",
       "      <th></th>\n",
       "      <th></th>\n",
       "      <th></th>\n",
       "      <th></th>\n",
       "      <th></th>\n",
       "      <th></th>\n",
       "      <th></th>\n",
       "      <th></th>\n",
       "      <th></th>\n",
       "    </tr>\n",
       "  </thead>\n",
       "  <tbody>\n",
       "    <tr>\n",
       "      <th>46599</th>\n",
       "      <td>Xbox One Backward Compatibility: Two new games...</td>\n",
       "      <td>They weren't the only classic announced by Mic...</td>\n",
       "      <td>Express.co.uk</td>\n",
       "      <td>2016-05-01 23:40:23</td>\n",
       "      <td>0.169094</td>\n",
       "      <td>-0.050339</td>\n",
       "      <td>6</td>\n",
       "      <td>0</td>\n",
       "      <td>0</td>\n",
       "      <td>2016</td>\n",
       "      <td>5</td>\n",
       "      <td>6</td>\n",
       "      <td>23</td>\n",
       "    </tr>\n",
       "  </tbody>\n",
       "</table>\n",
       "</div>"
      ],
      "text/plain": [
       "                                                    Title  \\\n",
       "IDLink                                                      \n",
       "46599   Xbox One Backward Compatibility: Two new games...   \n",
       "\n",
       "                                                 Headline         Source  \\\n",
       "IDLink                                                                     \n",
       "46599   They weren't the only classic announced by Mic...  Express.co.uk   \n",
       "\n",
       "               PublishDate  SentimentTitle  SentimentHeadline  Facebook  \\\n",
       "IDLink                                                                    \n",
       "46599  2016-05-01 23:40:23        0.169094          -0.050339         6   \n",
       "\n",
       "        GooglePlus  LinkedIn  Year  Month  DayOfWeek  Hour  \n",
       "IDLink                                                      \n",
       "46599            0         0  2016      5          6    23  "
      ]
     },
     "execution_count": 19,
     "metadata": {},
     "output_type": "execute_result"
    }
   ],
   "source": [
    "#find similar articles\n",
    "#news_new_test = news_new[0:1]\n",
    "df_test = news_new[15:16]\n",
    "\n",
    "df_topic = df_test.copy()\n",
    "\n",
    "df_test"
   ]
  },
  {
   "cell_type": "code",
   "execution_count": 20,
   "metadata": {},
   "outputs": [
    {
     "name": "stdout",
     "output_type": "stream",
     "text": [
      "[(0, 0.1805556249963556), (1, -0.049669842824401816), (2, 0.30886303932878834), (3, -1.205288752979753)]\n"
     ]
    }
   ],
   "source": [
    "\n",
    "df_topic \n",
    "\n",
    "doc = df_topic['Title'].values[0]\n",
    "\n",
    "\n",
    "corpus = [dictionary.doc2bow(text) for text in doc_clean]\n",
    "\n",
    "vec_bow = dictionary.doc2bow(doc.lower().split())\n",
    "vec_lsi = model_title[vec_bow]  # convert the query to LSI space\n",
    "print(vec_lsi)\n"
   ]
  },
  {
   "cell_type": "code",
   "execution_count": 25,
   "metadata": {},
   "outputs": [],
   "source": [
    "from gensim import similarities\n",
    "\n",
    "index = similarities.MatrixSimilarity(model_headline[corpus])  # transform corpus to LSI space and index it\n",
    "sims = index[vec_lsi]  # perform a similarity query against the corpus\n",
    "df_sims = pd.DataFrame(list(enumerate(sims)), columns=['Index','similarity'])  # print (document_number, document_similarity) 2-tuples\n"
   ]
  },
  {
   "cell_type": "code",
   "execution_count": 26,
   "metadata": {},
   "outputs": [
    {
     "data": {
      "text/html": [
       "<div>\n",
       "<style scoped>\n",
       "    .dataframe tbody tr th:only-of-type {\n",
       "        vertical-align: middle;\n",
       "    }\n",
       "\n",
       "    .dataframe tbody tr th {\n",
       "        vertical-align: top;\n",
       "    }\n",
       "\n",
       "    .dataframe thead th {\n",
       "        text-align: right;\n",
       "    }\n",
       "</style>\n",
       "<table border=\"1\" class=\"dataframe\">\n",
       "  <thead>\n",
       "    <tr style=\"text-align: right;\">\n",
       "      <th></th>\n",
       "      <th>index</th>\n",
       "      <th>IDLink</th>\n",
       "      <th>Title</th>\n",
       "      <th>Headline</th>\n",
       "      <th>Source</th>\n",
       "      <th>SentimentTitle</th>\n",
       "      <th>SentimentHeadline</th>\n",
       "      <th>Facebook</th>\n",
       "      <th>GooglePlus</th>\n",
       "      <th>LinkedIn</th>\n",
       "      <th>Year</th>\n",
       "      <th>Month</th>\n",
       "      <th>DayOfWeek</th>\n",
       "      <th>Hour</th>\n",
       "      <th>similarity</th>\n",
       "    </tr>\n",
       "  </thead>\n",
       "  <tbody>\n",
       "    <tr>\n",
       "      <th>96</th>\n",
       "      <td>4578</td>\n",
       "      <td>25499</td>\n",
       "      <td>Xbox One update: Microsoft reveal new features...</td>\n",
       "      <td>Gamers will now find it easier to get details ...</td>\n",
       "      <td>Express.co.uk</td>\n",
       "      <td>0.001647</td>\n",
       "      <td>-0.036089</td>\n",
       "      <td>4</td>\n",
       "      <td>5</td>\n",
       "      <td>1</td>\n",
       "      <td>2016</td>\n",
       "      <td>2</td>\n",
       "      <td>3</td>\n",
       "      <td>17</td>\n",
       "      <td>0.925622</td>\n",
       "    </tr>\n",
       "    <tr>\n",
       "      <th>113</th>\n",
       "      <td>7347</td>\n",
       "      <td>43111</td>\n",
       "      <td>Xbox One Backward Compatibility: Microsoft's S...</td>\n",
       "      <td>Microsoft started the month off by making the ...</td>\n",
       "      <td>Express.co.uk</td>\n",
       "      <td>0.125217</td>\n",
       "      <td>-0.094238</td>\n",
       "      <td>6</td>\n",
       "      <td>0</td>\n",
       "      <td>0</td>\n",
       "      <td>2016</td>\n",
       "      <td>4</td>\n",
       "      <td>0</td>\n",
       "      <td>0</td>\n",
       "      <td>0.897017</td>\n",
       "    </tr>\n",
       "    <tr>\n",
       "      <th>80</th>\n",
       "      <td>7573</td>\n",
       "      <td>44103</td>\n",
       "      <td>Xbox One Backward Compatibility: Microsoft rel...</td>\n",
       "      <td>This week in comparison has been very quiet, M...</td>\n",
       "      <td>Express.co.uk</td>\n",
       "      <td>0.156521</td>\n",
       "      <td>0.061450</td>\n",
       "      <td>5</td>\n",
       "      <td>0</td>\n",
       "      <td>0</td>\n",
       "      <td>2016</td>\n",
       "      <td>4</td>\n",
       "      <td>3</td>\n",
       "      <td>20</td>\n",
       "      <td>0.795583</td>\n",
       "    </tr>\n",
       "    <tr>\n",
       "      <th>110</th>\n",
       "      <td>4386</td>\n",
       "      <td>24563</td>\n",
       "      <td>Xbox One Backward Compatibility: Microsoft con...</td>\n",
       "      <td>Microsoft recently bulked up the list of game ...</td>\n",
       "      <td>Express.co.uk</td>\n",
       "      <td>0.125217</td>\n",
       "      <td>0.079167</td>\n",
       "      <td>7</td>\n",
       "      <td>2</td>\n",
       "      <td>0</td>\n",
       "      <td>2016</td>\n",
       "      <td>2</td>\n",
       "      <td>0</td>\n",
       "      <td>5</td>\n",
       "      <td>0.722096</td>\n",
       "    </tr>\n",
       "    <tr>\n",
       "      <th>38</th>\n",
       "      <td>4325</td>\n",
       "      <td>23920</td>\n",
       "      <td>Xbox One Backward Compatibility: Four games la...</td>\n",
       "      <td>Microsoft has yet to confirm that RDR will be ...</td>\n",
       "      <td>Express.co.uk</td>\n",
       "      <td>0.000000</td>\n",
       "      <td>-0.007995</td>\n",
       "      <td>13</td>\n",
       "      <td>0</td>\n",
       "      <td>0</td>\n",
       "      <td>2016</td>\n",
       "      <td>2</td>\n",
       "      <td>3</td>\n",
       "      <td>18</td>\n",
       "      <td>0.700693</td>\n",
       "    </tr>\n",
       "  </tbody>\n",
       "</table>\n",
       "</div>"
      ],
      "text/plain": [
       "     index  IDLink                                              Title  \\\n",
       "96    4578   25499  Xbox One update: Microsoft reveal new features...   \n",
       "113   7347   43111  Xbox One Backward Compatibility: Microsoft's S...   \n",
       "80    7573   44103  Xbox One Backward Compatibility: Microsoft rel...   \n",
       "110   4386   24563  Xbox One Backward Compatibility: Microsoft con...   \n",
       "38    4325   23920  Xbox One Backward Compatibility: Four games la...   \n",
       "\n",
       "                                              Headline         Source  \\\n",
       "96   Gamers will now find it easier to get details ...  Express.co.uk   \n",
       "113  Microsoft started the month off by making the ...  Express.co.uk   \n",
       "80   This week in comparison has been very quiet, M...  Express.co.uk   \n",
       "110  Microsoft recently bulked up the list of game ...  Express.co.uk   \n",
       "38   Microsoft has yet to confirm that RDR will be ...  Express.co.uk   \n",
       "\n",
       "     SentimentTitle  SentimentHeadline  Facebook  GooglePlus  LinkedIn  Year  \\\n",
       "96         0.001647          -0.036089         4           5         1  2016   \n",
       "113        0.125217          -0.094238         6           0         0  2016   \n",
       "80         0.156521           0.061450         5           0         0  2016   \n",
       "110        0.125217           0.079167         7           2         0  2016   \n",
       "38         0.000000          -0.007995        13           0         0  2016   \n",
       "\n",
       "     Month  DayOfWeek  Hour  similarity  \n",
       "96       2          3    17    0.925622  \n",
       "113      4          0     0    0.897017  \n",
       "80       4          3    20    0.795583  \n",
       "110      2          0     5    0.722096  \n",
       "38       2          3    18    0.700693  "
      ]
     },
     "execution_count": 26,
     "metadata": {},
     "output_type": "execute_result"
    }
   ],
   "source": [
    "#Set Similarity to 90%\n",
    "#check information gain to decide if feature sets are valuable to Popularity in Facebook, GooglePlus and LinkedIn\n",
    "df_copy_headline = df_headline.copy(deep=True)\n",
    "df_copy_headline = df_copy_headline.reset_index()\n",
    "\n",
    "df_copy_headline['similarity'] = df_sims['similarity']\n",
    "\n",
    "df_sims_sorted = df_copy_headline.sort_values(by=['similarity'],ascending=False)\n",
    "df_sims_sorted_large = df_sims_sorted[df_sims_sorted['similarity']>0.70]\n",
    "df_sims_sorted_large[df_sims_sorted_large['Source']=='Express.co.uk']"
   ]
  },
  {
   "cell_type": "code",
   "execution_count": 27,
   "metadata": {},
   "outputs": [
    {
     "name": "stdout",
     "output_type": "stream",
     "text": [
      "0.7061786710901997 0.7293903953560184 0.7423477017683362\n"
     ]
    }
   ],
   "source": [
    "info_title_facebook=information_gain(df_sims_sorted_large['SentimentTitle'],df_sims_sorted_large['Facebook'])\n",
    "info_headline_facebook=information_gain(df_sims_sorted_large['SentimentHeadline'],df_sims_sorted_large['Facebook'])\n",
    "info_source_facebook=information_gain(df_sims_sorted_large['Source'],df_sims_sorted_large['Facebook'])\n",
    "print(info_title_facebook, info_headline_facebook,info_source_facebook)"
   ]
  },
  {
   "cell_type": "code",
   "execution_count": 28,
   "metadata": {},
   "outputs": [
    {
     "data": {
      "text/plain": [
       "<AxesSubplot:xlabel='SentimentTitle', ylabel='Facebook'>"
      ]
     },
     "execution_count": 28,
     "metadata": {},
     "output_type": "execute_result"
    },
    {
     "data": {
      "image/png": "[encoded data removed]",
      "text/plain": [
       "<Figure size 432x288 with 1 Axes>"
      ]
     },
     "metadata": {
      "needs_background": "light"
     },
     "output_type": "display_data"
    }
   ],
   "source": [
    "df_sims_sorted_large.plot.scatter(x='SentimentTitle', y='Facebook')"
   ]
  },
  {
   "cell_type": "code",
   "execution_count": 29,
   "metadata": {},
   "outputs": [
    {
     "data": {
      "text/plain": [
       "<AxesSubplot:xlabel='SentimentHeadline', ylabel='Facebook'>"
      ]
     },
     "execution_count": 29,
     "metadata": {},
     "output_type": "execute_result"
    },
    {
     "data": {
      "image/png": "[encoded data removed]",
      "text/plain": [
       "<Figure size 432x288 with 1 Axes>"
      ]
     },
     "metadata": {
      "needs_background": "light"
     },
     "output_type": "display_data"
    }
   ],
   "source": [
    "df_sims_sorted_large.plot.scatter(x='SentimentHeadline', y='Facebook')"
   ]
  },
  {
   "cell_type": "code",
   "execution_count": 30,
   "metadata": {},
   "outputs": [
    {
     "name": "stdout",
     "output_type": "stream",
     "text": [
      "0.353418789619028 0.36744488682143817 0.336005846590412\n"
     ]
    }
   ],
   "source": [
    "info_title_google=information_gain(df_sims_sorted_large['SentimentTitle'],df_sims_sorted_large['GooglePlus'])\n",
    "info_headline_google=information_gain(df_sims_sorted_large['SentimentHeadline'],df_sims_sorted_large['GooglePlus'])\n",
    "info_source_google=information_gain(df_sims_sorted_large['Source'],df_sims_sorted_large['GooglePlus'])\n",
    "print(info_title_google, info_headline_google,info_source_google)"
   ]
  },
  {
   "cell_type": "code",
   "execution_count": 31,
   "metadata": {},
   "outputs": [
    {
     "data": {
      "text/plain": [
       "<AxesSubplot:xlabel='SentimentTitle', ylabel='GooglePlus'>"
      ]
     },
     "execution_count": 31,
     "metadata": {},
     "output_type": "execute_result"
    },
    {
     "data": {
      "image/png": "[encoded data removed]",
      "text/plain": [
       "<Figure size 432x288 with 1 Axes>"
      ]
     },
     "metadata": {
      "needs_background": "light"
     },
     "output_type": "display_data"
    }
   ],
   "source": [
    "df_sims_sorted_large.plot.scatter(x='SentimentTitle', y='GooglePlus')"
   ]
  },
  {
   "cell_type": "code",
   "execution_count": 32,
   "metadata": {},
   "outputs": [
    {
     "data": {
      "text/plain": [
       "<AxesSubplot:xlabel='SentimentHeadline', ylabel='GooglePlus'>"
      ]
     },
     "execution_count": 32,
     "metadata": {},
     "output_type": "execute_result"
    },
    {
     "data": {
      "image/png": "[encoded data removed]",
      "text/plain": [
       "<Figure size 432x288 with 1 Axes>"
      ]
     },
     "metadata": {
      "needs_background": "light"
     },
     "output_type": "display_data"
    }
   ],
   "source": [
    "df_sims_sorted_large.plot.scatter(x='SentimentHeadline', y='GooglePlus')"
   ]
  },
  {
   "cell_type": "code",
   "execution_count": 33,
   "metadata": {},
   "outputs": [
    {
     "name": "stdout",
     "output_type": "stream",
     "text": [
      "0.4946037096556242 0.515987333976472 0.48191763724577164\n"
     ]
    }
   ],
   "source": [
    "info_title_linkedin=information_gain(df_sims_sorted_large['SentimentTitle'],df_sims_sorted_large['LinkedIn'])\n",
    "info_headline_linkedin=information_gain(df_sims_sorted_large['SentimentHeadline'],df_sims_sorted_large['LinkedIn'])\n",
    "info_source_linkedin=information_gain(df_sims_sorted_large['Source'],df_sims_sorted_large['LinkedIn'])\n",
    "print(info_title_linkedin, info_headline_linkedin,info_source_linkedin)"
   ]
  },
  {
   "cell_type": "code",
   "execution_count": 34,
   "metadata": {},
   "outputs": [
    {
     "data": {
      "text/plain": [
       "<AxesSubplot:xlabel='SentimentTitle', ylabel='LinkedIn'>"
      ]
     },
     "execution_count": 34,
     "metadata": {},
     "output_type": "execute_result"
    },
    {
     "data": {
      "image/png": "[encoded data removed]",
      "text/plain": [
       "<Figure size 432x288 with 1 Axes>"
      ]
     },
     "metadata": {
      "needs_background": "light"
     },
     "output_type": "display_data"
    }
   ],
   "source": [
    "df_sims_sorted_large.plot.scatter(x='SentimentTitle', y='LinkedIn')"
   ]
  },
  {
   "cell_type": "code",
   "execution_count": 35,
   "metadata": {},
   "outputs": [
    {
     "data": {
      "text/plain": [
       "<AxesSubplot:xlabel='SentimentHeadline', ylabel='LinkedIn'>"
      ]
     },
     "execution_count": 35,
     "metadata": {},
     "output_type": "execute_result"
    },
    {
     "data": {
      "image/png": "[encoded data removed]",
      "text/plain": [
       "<Figure size 432x288 with 1 Axes>"
      ]
     },
     "metadata": {
      "needs_background": "light"
     },
     "output_type": "display_data"
    }
   ],
   "source": [
    "df_sims_sorted_large.plot.scatter(x='SentimentHeadline', y='LinkedIn')"
   ]
  },
  {
   "cell_type": "markdown",
   "metadata": {},
   "source": [
    "# KNN Classification"
   ]
  },
  {
   "cell_type": "markdown",
   "metadata": {},
   "source": [
    "# Find the nearest neighbors of the given news\n",
    "# predict popularity with the number of views of its neighbors"
   ]
  },
  {
   "cell_type": "code",
   "execution_count": 36,
   "metadata": {},
   "outputs": [
    {
     "data": {
      "text/html": [
       "<div>\n",
       "<style scoped>\n",
       "    .dataframe tbody tr th:only-of-type {\n",
       "        vertical-align: middle;\n",
       "    }\n",
       "\n",
       "    .dataframe tbody tr th {\n",
       "        vertical-align: top;\n",
       "    }\n",
       "\n",
       "    .dataframe thead th {\n",
       "        text-align: right;\n",
       "    }\n",
       "</style>\n",
       "<table border=\"1\" class=\"dataframe\">\n",
       "  <thead>\n",
       "    <tr style=\"text-align: right;\">\n",
       "      <th></th>\n",
       "      <th>index</th>\n",
       "      <th>IDLink</th>\n",
       "      <th>Title</th>\n",
       "      <th>Headline</th>\n",
       "      <th>Source</th>\n",
       "      <th>SentimentTitle</th>\n",
       "      <th>SentimentHeadline</th>\n",
       "      <th>Facebook</th>\n",
       "      <th>GooglePlus</th>\n",
       "      <th>LinkedIn</th>\n",
       "      <th>Year</th>\n",
       "      <th>Month</th>\n",
       "      <th>DayOfWeek</th>\n",
       "      <th>Hour</th>\n",
       "      <th>similarity</th>\n",
       "    </tr>\n",
       "  </thead>\n",
       "  <tbody>\n",
       "    <tr>\n",
       "      <th>90</th>\n",
       "      <td>6453</td>\n",
       "      <td>38528</td>\n",
       "      <td>Skype is getting infused with conversational “...</td>\n",
       "      <td>Microsoft is hoping to make Skype conversatio...</td>\n",
       "      <td>PC World</td>\n",
       "      <td>0.000000</td>\n",
       "      <td>-0.140900</td>\n",
       "      <td>7</td>\n",
       "      <td>0</td>\n",
       "      <td>28</td>\n",
       "      <td>2016</td>\n",
       "      <td>3</td>\n",
       "      <td>2</td>\n",
       "      <td>11</td>\n",
       "      <td>0.989598</td>\n",
       "    </tr>\n",
       "    <tr>\n",
       "      <th>56</th>\n",
       "      <td>2385</td>\n",
       "      <td>13862</td>\n",
       "      <td>Xbox enjoys record-breaking Christmas, Rise of...</td>\n",
       "      <td>All of Microsoft's holiday 2015 exclusives sol...</td>\n",
       "      <td>CNET</td>\n",
       "      <td>-0.003814</td>\n",
       "      <td>0.158114</td>\n",
       "      <td>153</td>\n",
       "      <td>0</td>\n",
       "      <td>1</td>\n",
       "      <td>2016</td>\n",
       "      <td>1</td>\n",
       "      <td>0</td>\n",
       "      <td>11</td>\n",
       "      <td>0.989137</td>\n",
       "    </tr>\n",
       "  </tbody>\n",
       "</table>\n",
       "</div>"
      ],
      "text/plain": [
       "    index  IDLink                                              Title  \\\n",
       "90   6453   38528  Skype is getting infused with conversational “...   \n",
       "56   2385   13862  Xbox enjoys record-breaking Christmas, Rise of...   \n",
       "\n",
       "                                             Headline    Source  \\\n",
       "90   Microsoft is hoping to make Skype conversatio...  PC World   \n",
       "56  All of Microsoft's holiday 2015 exclusives sol...      CNET   \n",
       "\n",
       "    SentimentTitle  SentimentHeadline  Facebook  GooglePlus  LinkedIn  Year  \\\n",
       "90        0.000000          -0.140900         7           0        28  2016   \n",
       "56       -0.003814           0.158114       153           0         1  2016   \n",
       "\n",
       "    Month  DayOfWeek  Hour  similarity  \n",
       "90      3          2    11    0.989598  \n",
       "56      1          0    11    0.989137  "
      ]
     },
     "execution_count": 36,
     "metadata": {},
     "output_type": "execute_result"
    }
   ],
   "source": [
    "\n",
    "df_sims_sorted_large.head(2)"
   ]
  },
  {
   "cell_type": "code",
   "execution_count": 37,
   "metadata": {},
   "outputs": [
    {
     "data": {
      "text/html": [
       "<div>\n",
       "<style scoped>\n",
       "    .dataframe tbody tr th:only-of-type {\n",
       "        vertical-align: middle;\n",
       "    }\n",
       "\n",
       "    .dataframe tbody tr th {\n",
       "        vertical-align: top;\n",
       "    }\n",
       "\n",
       "    .dataframe thead th {\n",
       "        text-align: right;\n",
       "    }\n",
       "</style>\n",
       "<table border=\"1\" class=\"dataframe\">\n",
       "  <thead>\n",
       "    <tr style=\"text-align: right;\">\n",
       "      <th></th>\n",
       "      <th>Title</th>\n",
       "      <th>Headline</th>\n",
       "      <th>Source</th>\n",
       "      <th>PublishDate</th>\n",
       "      <th>SentimentTitle</th>\n",
       "      <th>SentimentHeadline</th>\n",
       "      <th>Facebook</th>\n",
       "      <th>GooglePlus</th>\n",
       "      <th>LinkedIn</th>\n",
       "      <th>Year</th>\n",
       "      <th>Month</th>\n",
       "      <th>DayOfWeek</th>\n",
       "      <th>Hour</th>\n",
       "    </tr>\n",
       "    <tr>\n",
       "      <th>IDLink</th>\n",
       "      <th></th>\n",
       "      <th></th>\n",
       "      <th></th>\n",
       "      <th></th>\n",
       "      <th></th>\n",
       "      <th></th>\n",
       "      <th></th>\n",
       "      <th></th>\n",
       "      <th></th>\n",
       "      <th></th>\n",
       "      <th></th>\n",
       "      <th></th>\n",
       "      <th></th>\n",
       "    </tr>\n",
       "  </thead>\n",
       "  <tbody>\n",
       "    <tr>\n",
       "      <th>46462</th>\n",
       "      <td>Get a $50 Microsoft Store gift card with Xbox ...</td>\n",
       "      <td>The $50 discount for the Xbox One is no longer...</td>\n",
       "      <td>Windows Central</td>\n",
       "      <td>2016-05-01 08:47:22</td>\n",
       "      <td>-0.096466</td>\n",
       "      <td>-0.029167</td>\n",
       "      <td>9</td>\n",
       "      <td>2</td>\n",
       "      <td>1</td>\n",
       "      <td>2016</td>\n",
       "      <td>5</td>\n",
       "      <td>6</td>\n",
       "      <td>8</td>\n",
       "    </tr>\n",
       "  </tbody>\n",
       "</table>\n",
       "</div>"
      ],
      "text/plain": [
       "                                                    Title  \\\n",
       "IDLink                                                      \n",
       "46462   Get a $50 Microsoft Store gift card with Xbox ...   \n",
       "\n",
       "                                                 Headline           Source  \\\n",
       "IDLink                                                                       \n",
       "46462   The $50 discount for the Xbox One is no longer...  Windows Central   \n",
       "\n",
       "               PublishDate  SentimentTitle  SentimentHeadline  Facebook  \\\n",
       "IDLink                                                                    \n",
       "46462  2016-05-01 08:47:22       -0.096466          -0.029167         9   \n",
       "\n",
       "        GooglePlus  LinkedIn  Year  Month  DayOfWeek  Hour  \n",
       "IDLink                                                      \n",
       "46462            2         1  2016      5          6     8  "
      ]
     },
     "execution_count": 37,
     "metadata": {},
     "output_type": "execute_result"
    }
   ],
   "source": [
    "news_new.head(1)"
   ]
  },
  {
   "cell_type": "code",
   "execution_count": 38,
   "metadata": {},
   "outputs": [],
   "source": [
    "from sklearn.neighbors import NearestNeighbors"
   ]
  },
  {
   "cell_type": "code",
   "execution_count": 39,
   "metadata": {},
   "outputs": [],
   "source": [
    "\n",
    "df_test = df_topic.copy()"
   ]
  },
  {
   "cell_type": "code",
   "execution_count": 40,
   "metadata": {},
   "outputs": [],
   "source": [
    "S1 = pd.DataFrame(df_sims_sorted_large['Source'])\n",
    "S1_rename = S1.reset_index()\n",
    "\n",
    "S1_rename = S1_rename.rename(columns={'members':'Source'})\n",
    "S1_count = S1_rename.groupby('Source')['Source'].count()\n",
    "S1_count = S1_count.to_frame()\n",
    "S1_count = S1_count.rename(columns={'Source':'Count'})\n",
    "S1_count = S1_count.reset_index()\n",
    "\n",
    "df_test = df_topic.copy()\n",
    "df_test\n",
    "df_test = pd.merge(df_test, S1_count, on='Source', how='left')\n",
    "index = list(range(len(S1_count)))\n",
    "index\n",
    "S1_count['Category'] = index\n",
    "S1_count = pd.merge(S1_rename, S1_count, on='Source', how='left')\n",
    "max = S1_count['Count'].max()\n",
    "S1_count['CountNorm'] = S1_count['Count']/max\n",
    "df_test['CountNorm'] = df_test['Count']/max\n"
   ]
  },
  {
   "cell_type": "markdown",
   "metadata": {},
   "source": [
    "# 1. Facebook. Use KNN to predict the popularity of a given news on Facebook.\n",
    "#    Facebook prediction: 5, Compare to actual value: 6"
   ]
  },
  {
   "cell_type": "code",
   "execution_count": 41,
   "metadata": {},
   "outputs": [
    {
     "data": {
      "text/html": [
       "<div>\n",
       "<style scoped>\n",
       "    .dataframe tbody tr th:only-of-type {\n",
       "        vertical-align: middle;\n",
       "    }\n",
       "\n",
       "    .dataframe tbody tr th {\n",
       "        vertical-align: top;\n",
       "    }\n",
       "\n",
       "    .dataframe thead th {\n",
       "        text-align: right;\n",
       "    }\n",
       "</style>\n",
       "<table border=\"1\" class=\"dataframe\">\n",
       "  <thead>\n",
       "    <tr style=\"text-align: right;\">\n",
       "      <th></th>\n",
       "      <th>index</th>\n",
       "      <th>Facebook</th>\n",
       "      <th>FacebookNorm</th>\n",
       "    </tr>\n",
       "  </thead>\n",
       "  <tbody>\n",
       "    <tr>\n",
       "      <th>0</th>\n",
       "      <td>90</td>\n",
       "      <td>7</td>\n",
       "      <td>0.032558</td>\n",
       "    </tr>\n",
       "    <tr>\n",
       "      <th>1</th>\n",
       "      <td>56</td>\n",
       "      <td>153</td>\n",
       "      <td>0.711628</td>\n",
       "    </tr>\n",
       "    <tr>\n",
       "      <th>2</th>\n",
       "      <td>20</td>\n",
       "      <td>77</td>\n",
       "      <td>0.358140</td>\n",
       "    </tr>\n",
       "    <tr>\n",
       "      <th>3</th>\n",
       "      <td>101</td>\n",
       "      <td>146</td>\n",
       "      <td>0.679070</td>\n",
       "    </tr>\n",
       "    <tr>\n",
       "      <th>4</th>\n",
       "      <td>9</td>\n",
       "      <td>1</td>\n",
       "      <td>0.004651</td>\n",
       "    </tr>\n",
       "  </tbody>\n",
       "</table>\n",
       "</div>"
      ],
      "text/plain": [
       "   index  Facebook  FacebookNorm\n",
       "0     90         7      0.032558\n",
       "1     56       153      0.711628\n",
       "2     20        77      0.358140\n",
       "3    101       146      0.679070\n",
       "4      9         1      0.004651"
      ]
     },
     "execution_count": 41,
     "metadata": {},
     "output_type": "execute_result"
    }
   ],
   "source": [
    "FB = pd.DataFrame(df_sims_sorted_large['Facebook'])\n",
    "FB = FB.rename(columns={'split':'Facebook'})\n",
    "max = FB['Facebook'].max()\n",
    "FB['FacebookNorm'] = FB['Facebook'].apply(lambda s: s/max)\n",
    "df_test['FacebookNorm'] = df_test['Facebook'].apply(lambda s: s/max)\n",
    "FB_rename = FB.reset_index()\n",
    "FB_rename.head(5)"
   ]
  },
  {
   "cell_type": "code",
   "execution_count": 42,
   "metadata": {},
   "outputs": [],
   "source": [
    "S1 = pd.DataFrame(list(S1_count['CountNorm']))\n",
    "S1.to_numpy()\n",
    "S2 = pd.DataFrame(list(df_sims_sorted_large['SentimentTitle']))\n",
    "S2.to_numpy()\n",
    "S3 = pd.DataFrame(list(df_sims_sorted_large['SentimentHeadline']))\n",
    "S3.to_numpy()\n",
    "S4 = pd.DataFrame(list(FB_rename['FacebookNorm']))\n",
    "XX= np.append(S1,S2,axis=1)\n",
    "XX = np.append(XX,S3,axis=1)\n",
    "XX = np.append(XX,S4,axis=1)\n",
    "nbrs_fb = NearestNeighbors(n_neighbors=2, algorithm='ball_tree').fit(XX)\n",
    "distances, indices = nbrs_fb.kneighbors(XX)\n",
    "knn = pd.DataFrame(indices)\n",
    "knn = knn.rename(columns={1:'NeighborID',0:'NodeID'})\n",
    "knn['distance'] = pd.DataFrame(distances)[1]\n",
    "knn['index'] = list(df_sims_sorted_large['index'])\n",
    "knn['Facebook']=list(FB_rename['Facebook'])\n",
    "knn['FacebookNorm']=list(FB_rename['FacebookNorm'])\n",
    "knn['CountNorm']=list(S1_count['CountNorm'])"
   ]
  },
  {
   "cell_type": "code",
   "execution_count": 43,
   "metadata": {
    "scrolled": true
   },
   "outputs": [
    {
     "data": {
      "text/plain": [
       "<AxesSubplot:xlabel='NodeID', ylabel='distance'>"
      ]
     },
     "execution_count": 43,
     "metadata": {},
     "output_type": "execute_result"
    },
    {
     "data": {
      "image/png": "[encoded data removed]",
      "text/plain": [
       "<Figure size 432x288 with 1 Axes>"
      ]
     },
     "metadata": {
      "needs_background": "light"
     },
     "output_type": "display_data"
    }
   ],
   "source": [
    "knn.plot.scatter(x='NodeID', y='distance')"
   ]
  },
  {
   "cell_type": "code",
   "execution_count": 44,
   "metadata": {},
   "outputs": [
    {
     "data": {
      "text/plain": [
       "<AxesSubplot:xlabel='distance', ylabel='Facebook'>"
      ]
     },
     "execution_count": 44,
     "metadata": {},
     "output_type": "execute_result"
    },
    {
     "data": {
      "image/png": "[encoded data removed]",
      "text/plain": [
       "<Figure size 432x288 with 1 Axes>"
      ]
     },
     "metadata": {
      "needs_background": "light"
     },
     "output_type": "display_data"
    }
   ],
   "source": [
    "knn.plot.scatter(x='distance', y='Facebook')"
   ]
  },
  {
   "cell_type": "code",
   "execution_count": 45,
   "metadata": {},
   "outputs": [
    {
     "data": {
      "text/plain": [
       "range\n",
       "0.0    18\n",
       "0.1    26\n",
       "0.2     8\n",
       "0.3     3\n",
       "0.4     6\n",
       "Name: range, dtype: int64"
      ]
     },
     "execution_count": 45,
     "metadata": {},
     "output_type": "execute_result"
    }
   ],
   "source": [
    "knn_small_range = knn.copy()\n",
    "knn_small_range = pd.merge(knn_small_range, df_sims_sorted_large, on=['index','Facebook'])\n",
    "knn_small_range['range'] = knn_small_range['distance'].apply(lambda s: round(s, 1))\n",
    "knn_small_group = knn_small_range.groupby('range')['range'].count()\n",
    "\n",
    "knn_small_group"
   ]
  },
  {
   "cell_type": "code",
   "execution_count": 46,
   "metadata": {},
   "outputs": [
    {
     "data": {
      "text/plain": [
       "(44, 21)"
      ]
     },
     "execution_count": 46,
     "metadata": {},
     "output_type": "execute_result"
    }
   ],
   "source": [
    "knn_small_result= knn_small_range[knn_small_range['range'] < 0.2]\n",
    "df_knn_small = knn_small_result.copy()\n",
    "df_knn_small.shape"
   ]
  },
  {
   "cell_type": "code",
   "execution_count": 47,
   "metadata": {},
   "outputs": [
    {
     "name": "stdout",
     "output_type": "stream",
     "text": [
      "Predicted as : 5 , Actual Score : 6\n"
     ]
    }
   ],
   "source": [
    "\n",
    "from sklearn.neighbors import KNeighborsClassifier \n",
    "from sklearn.model_selection import train_test_split \n",
    "\n",
    "\n",
    "\n",
    "S1 = pd.DataFrame(list(df_knn_small['CountNorm']))\n",
    "\n",
    "S2 = pd.DataFrame(list(df_knn_small['SentimentTitle']))\n",
    "\n",
    "S3 = pd.DataFrame(list(df_knn_small['SentimentHeadline']))\n",
    "\n",
    "S4 = df_knn_small['Facebook']\n",
    "\n",
    "\n",
    "X= np.append(S1,S2,axis=1)\n",
    "X = np.append(X,S3,axis=1)\n",
    "y = S4.values\n",
    "\n",
    "\n",
    "knn = KNeighborsClassifier(n_neighbors=2) \n",
    "\n",
    "\n",
    "knn.fit(X, y) \n",
    "\n",
    "S1 = pd.DataFrame(list(df_test['CountNorm']))\n",
    "S2 = pd.DataFrame(list(df_test['SentimentTitle']))\n",
    "S3 = pd.DataFrame(list(df_test['SentimentHeadline']))\n",
    "S4 = df_test['Facebook']\n",
    "\n",
    "\n",
    "X_test= np.append(S1,S2,axis=1)\n",
    "X_test = np.append(X_test,S3,axis=1)\n",
    "y_test = S4\n",
    "\n",
    "# Calculate the accuracy of the model \n",
    "#print(knn.score(X_train, y_train)) \n",
    "\n",
    "print(\"Predicted as :\", knn.predict(X_test)[0], \", Actual Score :\", y_test.values[0]) "
   ]
  },
  {
   "cell_type": "code",
   "execution_count": 48,
   "metadata": {},
   "outputs": [
    {
     "name": "stdout",
     "output_type": "stream",
     "text": [
      "(array([[0.06206687, 0.11249376]]), array([[ 8, 27]]))\n"
     ]
    }
   ],
   "source": [
    "print(knn.kneighbors(X_test))"
   ]
  },
  {
   "cell_type": "code",
   "execution_count": 49,
   "metadata": {},
   "outputs": [],
   "source": [
    "knn_visual_facebook = df_knn_small[2:3]\n",
    "knn_visual_facebook = knn_visual_facebook.append(df_knn_small[20:21])"
   ]
  },
  {
   "cell_type": "markdown",
   "metadata": {},
   "source": [
    "# 2. Google Plus: use KNN to predict Popularity\n",
    "# GooglePlus prediction: 0, Compare to actual value: 0"
   ]
  },
  {
   "cell_type": "code",
   "execution_count": 50,
   "metadata": {},
   "outputs": [],
   "source": [
    "GP = pd.DataFrame(df_sims_sorted_large['GooglePlus'])\n",
    "GP = GP.rename(columns={'split':'GooglePlus'})\n",
    "max = GP['GooglePlus'].max()\n",
    "GP['GooglePlusNorm'] = GP['GooglePlus'].apply(lambda s: s/max)\n",
    "GP_rename = GP.reset_index()\n",
    "df_test['GooglePlusNorm'] = df_test['GooglePlus'].apply(lambda s: s/max)"
   ]
  },
  {
   "cell_type": "code",
   "execution_count": 51,
   "metadata": {},
   "outputs": [],
   "source": [
    "S1 = pd.DataFrame(list(S1_count['CountNorm']))\n",
    "S1.to_numpy()\n",
    "S2 = pd.DataFrame(list(df_sims_sorted_large['SentimentTitle']))\n",
    "S2.to_numpy()\n",
    "S3 = pd.DataFrame(list(df_sims_sorted_large['SentimentHeadline']))\n",
    "S3.to_numpy()\n",
    "S4 = pd.DataFrame(list(GP_rename['GooglePlusNorm']))\n",
    "XX= np.append(S1,S2,axis=1)\n",
    "XX = np.append(XX,S3,axis=1)\n",
    "XX = np.append(XX,S4,axis=1)\n",
    "nbrs_gp = NearestNeighbors(n_neighbors=2, algorithm='ball_tree').fit(XX)\n",
    "distances, indices = nbrs_gp.kneighbors(XX)\n",
    "knn = pd.DataFrame(indices)\n",
    "knn = knn.rename(columns={1:'NeighborID',0:'NodeID'})\n",
    "knn['distance'] = pd.DataFrame(distances)[1]\n",
    "knn['index'] = list(df_sims_sorted_large['index'])\n",
    "knn['GooglePlus']=list(GP_rename['GooglePlus'])\n",
    "knn['GooglePlusNorm']=list(GP_rename['GooglePlusNorm'])\n",
    "knn['CountNorm']=list(S1_count['CountNorm'])"
   ]
  },
  {
   "cell_type": "code",
   "execution_count": 52,
   "metadata": {},
   "outputs": [
    {
     "data": {
      "text/plain": [
       "<AxesSubplot:xlabel='NodeID', ylabel='distance'>"
      ]
     },
     "execution_count": 52,
     "metadata": {},
     "output_type": "execute_result"
    },
    {
     "data": {
      "image/png": "[encoded data removed]",
      "text/plain": [
       "<Figure size 432x288 with 1 Axes>"
      ]
     },
     "metadata": {
      "needs_background": "light"
     },
     "output_type": "display_data"
    }
   ],
   "source": [
    "knn.plot.scatter(x='NodeID', y='distance')"
   ]
  },
  {
   "cell_type": "code",
   "execution_count": 53,
   "metadata": {},
   "outputs": [
    {
     "data": {
      "text/plain": [
       "<AxesSubplot:xlabel='distance', ylabel='GooglePlus'>"
      ]
     },
     "execution_count": 53,
     "metadata": {},
     "output_type": "execute_result"
    },
    {
     "data": {
      "image/png": "[encoded data removed]",
      "text/plain": [
       "<Figure size 432x288 with 1 Axes>"
      ]
     },
     "metadata": {
      "needs_background": "light"
     },
     "output_type": "display_data"
    }
   ],
   "source": [
    "knn.plot.scatter(x='distance', y='GooglePlus')"
   ]
  },
  {
   "cell_type": "code",
   "execution_count": 54,
   "metadata": {},
   "outputs": [
    {
     "data": {
      "text/plain": [
       "range\n",
       "0.0    18\n",
       "0.1    29\n",
       "0.2     9\n",
       "0.3     3\n",
       "0.5     1\n",
       "0.8     1\n",
       "Name: range, dtype: int64"
      ]
     },
     "execution_count": 54,
     "metadata": {},
     "output_type": "execute_result"
    }
   ],
   "source": [
    "knn_small_range = knn.copy()\n",
    "knn_small_range = pd.merge(knn_small_range, df_sims_sorted_large, on=['index','GooglePlus'])\n",
    "knn_small_range['range'] = knn_small_range['distance'].apply(lambda s: round(s, 1))\n",
    "knn_small_group = knn_small_range.groupby('range')['range'].count()\n",
    "\n",
    "knn_small_group"
   ]
  },
  {
   "cell_type": "code",
   "execution_count": 55,
   "metadata": {},
   "outputs": [
    {
     "data": {
      "text/plain": [
       "(47, 21)"
      ]
     },
     "execution_count": 55,
     "metadata": {},
     "output_type": "execute_result"
    }
   ],
   "source": [
    "knn_small_result = knn_small_range[knn_small_range['range']<0.2]\n",
    "df_knn_small = knn_small_result.copy()\n",
    "df_knn_small.shape"
   ]
  },
  {
   "cell_type": "code",
   "execution_count": 56,
   "metadata": {},
   "outputs": [
    {
     "name": "stdout",
     "output_type": "stream",
     "text": [
      "Predicted as : 0 , Actual Score : 0\n"
     ]
    }
   ],
   "source": [
    "\n",
    "from sklearn.neighbors import KNeighborsClassifier \n",
    "from sklearn.model_selection import train_test_split \n",
    "\n",
    "\n",
    "\n",
    "S1 = pd.DataFrame(list(df_knn_small['CountNorm']))\n",
    "\n",
    "S2 = pd.DataFrame(list(df_knn_small['SentimentTitle']))\n",
    "\n",
    "S3 = pd.DataFrame(list(df_knn_small['SentimentHeadline']))\n",
    "\n",
    "S4 = df_knn_small['GooglePlus']\n",
    "\n",
    "\n",
    "X= np.append(S1,S2,axis=1)\n",
    "X = np.append(X,S3,axis=1)\n",
    "y = S4.values\n",
    "\n",
    "\n",
    "knn = KNeighborsClassifier(n_neighbors=2) \n",
    "\n",
    "\n",
    "knn.fit(X, y) \n",
    "\n",
    "S1 = pd.DataFrame(list(df_test['CountNorm']))\n",
    "S2 = pd.DataFrame(list(df_test['SentimentTitle']))\n",
    "S3 = pd.DataFrame(list(df_test['SentimentHeadline']))\n",
    "S4 = df_test['GooglePlus']\n",
    "\n",
    "\n",
    "X_test= np.append(S1,S2,axis=1)\n",
    "X_test = np.append(X_test,S3,axis=1)\n",
    "y_test = S4\n",
    "\n",
    "# Calculate the accuracy of the model \n",
    "#print(knn.score(X_train, y_train)) \n",
    "\n",
    "print(\"Predicted as :\", knn.predict(X_test)[0], \", Actual Score :\", y_test.values[0]) "
   ]
  },
  {
   "cell_type": "code",
   "execution_count": 57,
   "metadata": {},
   "outputs": [
    {
     "name": "stdout",
     "output_type": "stream",
     "text": [
      "(array([[0.06206687, 0.11249376]]), array([[12, 29]]))\n"
     ]
    }
   ],
   "source": [
    "print(knn.kneighbors(X_test))"
   ]
  },
  {
   "cell_type": "code",
   "execution_count": 58,
   "metadata": {},
   "outputs": [],
   "source": [
    "knn_visual_google = df_knn_small[11:12]\n",
    "knn_visual_google = knn_visual_google.append(df_knn_small[33:34])"
   ]
  },
  {
   "cell_type": "markdown",
   "metadata": {},
   "source": [
    "# 3. LinkedIn. Use KNN to predict Popularity\n",
    "#    LinkedIn prediction: 5, Compare to actual value: 6"
   ]
  },
  {
   "cell_type": "code",
   "execution_count": 59,
   "metadata": {},
   "outputs": [],
   "source": [
    "LI = pd.DataFrame(df_sims_sorted_large['LinkedIn'])\n",
    "LI = LI.rename(columns={'split':'LinkedIn'})\n",
    "max = LI['LinkedIn'].max()\n",
    "LI['LinkedInNorm'] = LI['LinkedIn'].apply(lambda s: s/max)\n",
    "LI_rename = LI.reset_index()\n",
    "df_test['LinkedInNorm'] = df_test['LinkedIn'].apply(lambda s: s/max)"
   ]
  },
  {
   "cell_type": "code",
   "execution_count": 60,
   "metadata": {},
   "outputs": [],
   "source": [
    "S1 = pd.DataFrame(list(S1_count['CountNorm']))\n",
    "S1.to_numpy()\n",
    "S2 = pd.DataFrame(list(df_sims_sorted_large['SentimentTitle']))\n",
    "S2.to_numpy()\n",
    "S3 = pd.DataFrame(list(df_sims_sorted_large['SentimentHeadline']))\n",
    "S3.to_numpy()\n",
    "S4 = pd.DataFrame(list(LI_rename['LinkedInNorm']))\n",
    "XX= np.append(S1,S2,axis=1)\n",
    "XX = np.append(XX,S3,axis=1)\n",
    "XX = np.append(XX,S4,axis=1)\n",
    "nbrs_li = NearestNeighbors(n_neighbors=2, algorithm='ball_tree').fit(XX)\n",
    "distances, indices = nbrs_li.kneighbors(XX)\n",
    "knn = pd.DataFrame(indices)\n",
    "knn = knn.rename(columns={1:'NeighborID',0:'NodeID'})\n",
    "knn['distance'] = pd.DataFrame(distances)[1]\n",
    "knn['index'] = list(df_sims_sorted_large['index'])\n",
    "knn['LinkedIn']=list(LI_rename['LinkedIn'])\n",
    "knn['LinkedInNorm']=list(LI_rename['LinkedInNorm'])\n",
    "knn['CountNorm'] = S1_count['CountNorm']"
   ]
  },
  {
   "cell_type": "code",
   "execution_count": 61,
   "metadata": {},
   "outputs": [
    {
     "data": {
      "text/plain": [
       "<AxesSubplot:xlabel='NodeID', ylabel='distance'>"
      ]
     },
     "execution_count": 61,
     "metadata": {},
     "output_type": "execute_result"
    },
    {
     "data": {
      "image/png": "[encoded data removed]",
      "text/plain": [
       "<Figure size 432x288 with 1 Axes>"
      ]
     },
     "metadata": {
      "needs_background": "light"
     },
     "output_type": "display_data"
    }
   ],
   "source": [
    "knn.plot.scatter(x='NodeID', y='distance')"
   ]
  },
  {
   "cell_type": "code",
   "execution_count": 62,
   "metadata": {},
   "outputs": [
    {
     "data": {
      "text/plain": [
       "<AxesSubplot:xlabel='distance', ylabel='LinkedIn'>"
      ]
     },
     "execution_count": 62,
     "metadata": {},
     "output_type": "execute_result"
    },
    {
     "data": {
      "image/png": "[encoded data removed]",
      "text/plain": [
       "<Figure size 432x288 with 1 Axes>"
      ]
     },
     "metadata": {
      "needs_background": "light"
     },
     "output_type": "display_data"
    }
   ],
   "source": [
    "knn.plot.scatter(x='distance', y='LinkedIn')"
   ]
  },
  {
   "cell_type": "code",
   "execution_count": 63,
   "metadata": {},
   "outputs": [
    {
     "data": {
      "text/plain": [
       "range\n",
       "0.0    23\n",
       "0.1    26\n",
       "0.2     7\n",
       "0.3     3\n",
       "0.4     2\n",
       "Name: range, dtype: int64"
      ]
     },
     "execution_count": 63,
     "metadata": {},
     "output_type": "execute_result"
    }
   ],
   "source": [
    "knn_small_range = knn.copy()\n",
    "knn_small_range = pd.merge(knn_small_range, df_sims_sorted_large, on=['index','LinkedIn'])\n",
    "knn_small_range['range'] = knn_small_range['distance'].apply(lambda s: round(s, 1))\n",
    "knn_small_group = knn_small_range.groupby('range')['range'].count()\n",
    "\n",
    "knn_small_group"
   ]
  },
  {
   "cell_type": "code",
   "execution_count": 64,
   "metadata": {},
   "outputs": [
    {
     "data": {
      "text/plain": [
       "(49, 21)"
      ]
     },
     "execution_count": 64,
     "metadata": {},
     "output_type": "execute_result"
    }
   ],
   "source": [
    "knn_small_result = knn_small_range[knn_small_range['range']<0.2]\n",
    "df_knn_small = knn_small_result.copy()\n",
    "df_knn_small.shape"
   ]
  },
  {
   "cell_type": "code",
   "execution_count": 65,
   "metadata": {},
   "outputs": [
    {
     "name": "stdout",
     "output_type": "stream",
     "text": [
      "Predicted as : 5 , Actual Score : 6\n"
     ]
    }
   ],
   "source": [
    "\n",
    "from sklearn.neighbors import KNeighborsClassifier \n",
    "from sklearn.model_selection import train_test_split \n",
    "\n",
    "\n",
    "\n",
    "S1 = pd.DataFrame(list(df_knn_small['CountNorm']))\n",
    "\n",
    "S2 = pd.DataFrame(list(df_knn_small['SentimentTitle']))\n",
    "\n",
    "S3 = pd.DataFrame(list(df_knn_small['SentimentHeadline']))\n",
    "\n",
    "S4 = df_knn_small['Facebook']\n",
    "\n",
    "\n",
    "X= np.append(S1,S2,axis=1)\n",
    "X = np.append(X,S3,axis=1)\n",
    "y = S4.values\n",
    "\n",
    "knn = KNeighborsClassifier(n_neighbors=2) \n",
    "\n",
    "\n",
    "knn.fit(X, y) \n",
    "\n",
    "S1 = pd.DataFrame(list(df_test['CountNorm']))\n",
    "S2 = pd.DataFrame(list(df_test['SentimentTitle']))\n",
    "S3 = pd.DataFrame(list(df_test['SentimentHeadline']))\n",
    "S4 = df_test['Facebook']\n",
    "\n",
    "\n",
    "X_test= np.append(S1,S2,axis=1)\n",
    "X_test = np.append(X_test,S3,axis=1)\n",
    "y_test = S4\n",
    "\n",
    "# Calculate the accuracy of the model \n",
    "#print(knn.score(X_train, y_train)) \n",
    "\n",
    "print(\"Predicted as :\", knn.predict(X_test)[0], \", Actual Score :\", y_test.values[0]) "
   ]
  },
  {
   "cell_type": "code",
   "execution_count": 66,
   "metadata": {},
   "outputs": [
    {
     "name": "stdout",
     "output_type": "stream",
     "text": [
      "(array([[0.06206687, 0.11249376]]), array([[11, 31]]))\n"
     ]
    }
   ],
   "source": [
    "print(knn.kneighbors(X_test))"
   ]
  },
  {
   "cell_type": "code",
   "execution_count": 67,
   "metadata": {},
   "outputs": [],
   "source": [
    "knn_visual_linkedin = df_knn_small[20:21]\n",
    "knn_visual_linkedin = knn_visual_linkedin.append(df_knn_small[5:6])"
   ]
  },
  {
   "cell_type": "markdown",
   "metadata": {},
   "source": [
    "# Comparison of the content"
   ]
  },
  {
   "cell_type": "markdown",
   "metadata": {},
   "source": [
    "# 1. Title: the given news and its neighbors have similar titles, which are about Microsoft, XBox, price, sales, gift ..."
   ]
  },
  {
   "cell_type": "code",
   "execution_count": 68,
   "metadata": {},
   "outputs": [
    {
     "name": "stdout",
     "output_type": "stream",
     "text": [
      "Xbox One Backward Compatibility: Two new games go live following ...\n"
     ]
    }
   ],
   "source": [
    "print(df_topic['Title'].values[0])"
   ]
  },
  {
   "cell_type": "code",
   "execution_count": 69,
   "metadata": {},
   "outputs": [
    {
     "name": "stdout",
     "output_type": "stream",
     "text": [
      "Hands-on with Microsoft Garage's new Plumbago app (video)\n",
      "December Patch Tuesday avalanche of patches includes leaked Xbox certificate\n"
     ]
    }
   ],
   "source": [
    "for index, row in knn_visual_facebook.iterrows():\n",
    "    print(row['Title'])"
   ]
  },
  {
   "cell_type": "code",
   "execution_count": 70,
   "metadata": {},
   "outputs": [
    {
     "name": "stdout",
     "output_type": "stream",
     "text": [
      "PC Market Sluggishness Hit One of Its Lows in 2015\n",
      "Office 2013 patch KB 3114717 freezes 32-bit Word 2013 on Win 7 ...\n"
     ]
    }
   ],
   "source": [
    "for index, row in knn_visual_google.iterrows():\n",
    "    print(row['Title'])"
   ]
  },
  {
   "cell_type": "code",
   "execution_count": 71,
   "metadata": {},
   "outputs": [
    {
     "name": "stdout",
     "output_type": "stream",
     "text": [
      "Xbox One Price Cut To $299,Will The Discount Become Permanent?\n",
      "Inside The New Microsoft, Where Lie Detection Is A Killer App\n"
     ]
    }
   ],
   "source": [
    "for index, row in knn_visual_linkedin.iterrows():\n",
    "    print(row['Title'])"
   ]
  },
  {
   "cell_type": "markdown",
   "metadata": {},
   "source": [
    "# 2. HeadLine: the given news and its neighbors have similar contents, which are about Microsoft, XBox, sales, price, gift ..."
   ]
  },
  {
   "cell_type": "code",
   "execution_count": 72,
   "metadata": {},
   "outputs": [
    {
     "name": "stdout",
     "output_type": "stream",
     "text": [
      "They weren't the only classic announced by Microsoft, Double Dragon Neon &amp; Ghostbusters: Sanctum of Slime also made the list, completing a\n"
     ]
    }
   ],
   "source": [
    "print(df_topic['Headline'].values[0])"
   ]
  },
  {
   "cell_type": "code",
   "execution_count": 73,
   "metadata": {},
   "outputs": [
    {
     "name": "stdout",
     "output_type": "stream",
     "text": [
      "Microsoft Garage, much to the chagrin of many Windows users, has previously insisted on releasing its most interesting range of experimental\n",
      "Microsoft drops 12 security updates, reveals Xbox Live network certificate &quot;inadvertently disclosed&quot;. \n"
     ]
    }
   ],
   "source": [
    "for index, row in knn_visual_facebook.iterrows():\n",
    "    print(row['Headline'])"
   ]
  },
  {
   "cell_type": "code",
   "execution_count": 74,
   "metadata": {},
   "outputs": [
    {
     "name": "stdout",
     "output_type": "stream",
     "text": [
      "2015 was an important year in Microsoft’s history, with the launch of Windows 10 expected to lift the sluggish PC market. \n",
      " the patch (as best I can tell) hasn't been pulled; and there's been no further announcement on the Technet or Microsoft Answers forums.\n"
     ]
    }
   ],
   "source": [
    "for index, row in knn_visual_google.iterrows():\n",
    "    print(row['Headline'])"
   ]
  },
  {
   "cell_type": "code",
   "execution_count": 75,
   "metadata": {},
   "outputs": [
    {
     "name": "stdout",
     "output_type": "stream",
     "text": [
      " Microsoft revealed an Xbox One price cut Friday as part of a limited time spring sale from March 20 to March 28. The $299 price, down from $349, is not permanent, but it could hint at the future for Xbox One. The new price affects all bundles, which is a great deal considering it covers games such as &quot;Tom Clancy's The Division,&quot; &quot;Gears of War: Ultimate Edition&quot; and the upcoming &quot;Quantum Break.&quot; \n",
      "A woman rides a bicycle past a Microsoft sign on the company's main campus in Redmond, Washington in 2014. (Photo by: Mike Kane\n"
     ]
    }
   ],
   "source": [
    "for index, row in knn_visual_linkedin.iterrows():\n",
    "    print(row['Headline'])"
   ]
  },
  {
   "cell_type": "markdown",
   "metadata": {},
   "source": [
    "# Conclusion\n",
    "# The data model is that, because the original data are not very related to popularity by checking information gain, we define the preprocessing in the following\n",
    "# 1. we use Latent Semantic Analysis (LSA) define context to the given news,\n",
    "# 2. apply KNN to the entire data to get rid of outliers which is far away from the majority of the data set\n",
    "# 3. after sample selection, we choose Source, SentimentTitle and SentimentHeadline as features to predict popularity.\n",
    "\n",
    "# 1. According to the content of title and headline, all the news are similar to the given news.\n",
    "# 2. After preprocessing, ker performance indicators are highly related to targets.\n",
    "# 3. According to prediction results: 8.2, 3, 0, which are close to actual number of views, 9, 2, 1.\n",
    "# so that the result set has the answers we are looking for and \n",
    "# the data model for popularity prediction is defined right.\n"
   ]
  },
  {
   "cell_type": "code",
   "execution_count": null,
   "metadata": {},
   "outputs": [],
   "source": []
  },
  {
   "cell_type": "markdown",
   "metadata": {},
   "source": []
  }
 ],
 "metadata": {
  "celltoolbar": "Slideshow",
  "kernelspec": {
   "display_name": "Python 3",
   "language": "python",
   "name": "python3"
  },
  "language_info": {
   "codemirror_mode": {
    "name": "ipython",
    "version": 3
   },
   "file_extension": ".py",
   "mimetype": "text/x-python",
   "name": "python",
   "nbconvert_exporter": "python",
   "pygments_lexer": "ipython3",
   "version": "3.8.4"
  }
 },
 "nbformat": 4,
 "nbformat_minor": 4
}
