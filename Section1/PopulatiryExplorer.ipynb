{
 "cells": [
  {
   "cell_type": "markdown",
   "metadata": {
    "slideshow": {
     "slide_type": "slide"
    }
   },
   "source": [
    "# Predicting the popularity of news on Facebook, Google+, and LinkedIn\n",
    "# For this project, we start with the sample data \n",
    "# The data model is built in the following steps \n",
    "# 1. Use information gain to evaluate the siginificance of the given features to the targets.\n",
    "# 2. Use Latent semantic analysis to improve data quality. Because, text mining depends on the context. We need to define the context for the given news.\n",
    "# 3. Use KNN to get rid of outliers.\n",
    "# 4. After sample selection, we check information gain, again and it goes up.\n",
    "# 5. We choose Source, SentimentTitle, SentimentHeadline as features and use KNN to build a classification model to predict news popularity on Facebook, GooglePlus and LinkedIn.\n",
    "# 6. We compared both the poularity scores and the text between the given news and the similar news.\n",
    "# 6.1 for popularity scores: predicted (Facebook:13, GooglePlus: 0, LinkedIn: 1), Actual (Facebook:9, GooglePlus:2, LinkedIn:1)\n",
    "# 6.2 for the content of the similar news, they are all about the same things.\n"
   ]
  },
  {
   "cell_type": "markdown",
   "metadata": {
    "slideshow": {
     "slide_type": "skip"
    }
   },
   "source": [
    "### Download data\n",
    "Source: http://archive.ics.uci.edu/ml/datasets/News+Popularity+in+Multiple+Social+Media+Platforms"
   ]
  },
  {
   "cell_type": "markdown",
   "metadata": {
    "scrolled": true,
    "slideshow": {
     "slide_type": "skip"
    }
   },
   "source": [
    "%%bash\n",
    "\n",
    "wget -nc -O news-final.csv http://archive.ics.uci.edu/ml/machine-learning-databases/00432/Data/News_Final.csv; \n",
    "wget -nc -O facebook-microsoft.csv http://archive.ics.uci.edu/ml/machine-learning-databases/00432/Data/Facebook_Microsoft.csv;\n",
    "wget -nc -O googleplus-microsoft.csv http://archive.ics.uci.edu/ml/machine-learning-databases/00432/Data/GooglePlus_Microsoft.csv;\n",
    "wget -nc -O linkedin-microsoft.csv http://archive.ics.uci.edu/ml/machine-learning-databases/00432/Data/LinkedIn_Microsoft.csv &\n"
   ]
  },
  {
   "cell_type": "code",
   "execution_count": 1,
   "metadata": {
    "slideshow": {
     "slide_type": "skip"
    }
   },
   "outputs": [],
   "source": [
    "import pandas as pd\n",
    "import numpy as np\n",
    "\n",
    "from matplotlib import pyplot as plt\n"
   ]
  },
  {
   "cell_type": "markdown",
   "metadata": {
    "slideshow": {
     "slide_type": "skip"
    }
   },
   "source": [
    "### Load data and set index"
   ]
  },
  {
   "cell_type": "code",
   "execution_count": 2,
   "metadata": {
    "slideshow": {
     "slide_type": "skip"
    }
   },
   "outputs": [],
   "source": [
    "news = pd.read_csv('news-final.csv')\n",
    "news = news[news['Topic']=='microsoft']\n",
    "news = news.drop('Topic', 1)\n",
    "\n",
    "news['IDLink'] = news['IDLink'].astype(int)\n",
    "news = news.set_index('IDLink')\n",
    "\n",
    "\n",
    "facebook = pd.read_csv('facebook-microsoft.csv')\n",
    "facebook = facebook.set_index('IDLink')\n",
    "\n",
    "google = pd.read_csv('googleplus-microsoft.csv')\n",
    "google = google.set_index('IDLink')\n",
    "\n",
    "linkedin = pd.read_csv('linkedin-microsoft.csv')\n",
    "linkedin = linkedin.set_index('IDLink')\n"
   ]
  },
  {
   "cell_type": "markdown",
   "metadata": {
    "slideshow": {
     "slide_type": "skip"
    }
   },
   "source": [
    "### Restrict to articles appearing on all 3 sites"
   ]
  },
  {
   "cell_type": "code",
   "execution_count": 3,
   "metadata": {
    "slideshow": {
     "slide_type": "skip"
    }
   },
   "outputs": [],
   "source": [
    "posted_everywhere = news[['Facebook', 'GooglePlus', 'LinkedIn']].min(axis=1) > -1\n",
    "\n",
    "news = news[posted_everywhere]"
   ]
  },
  {
   "cell_type": "code",
   "execution_count": 4,
   "metadata": {},
   "outputs": [
    {
     "data": {
      "text/html": [
       "<div>\n",
       "<style scoped>\n",
       "    .dataframe tbody tr th:only-of-type {\n",
       "        vertical-align: middle;\n",
       "    }\n",
       "\n",
       "    .dataframe tbody tr th {\n",
       "        vertical-align: top;\n",
       "    }\n",
       "\n",
       "    .dataframe thead th {\n",
       "        text-align: right;\n",
       "    }\n",
       "</style>\n",
       "<table border=\"1\" class=\"dataframe\">\n",
       "  <thead>\n",
       "    <tr style=\"text-align: right;\">\n",
       "      <th></th>\n",
       "      <th>Title</th>\n",
       "      <th>Headline</th>\n",
       "      <th>Source</th>\n",
       "      <th>PublishDate</th>\n",
       "      <th>SentimentTitle</th>\n",
       "      <th>SentimentHeadline</th>\n",
       "      <th>Facebook</th>\n",
       "      <th>GooglePlus</th>\n",
       "      <th>LinkedIn</th>\n",
       "    </tr>\n",
       "    <tr>\n",
       "      <th>IDLink</th>\n",
       "      <th></th>\n",
       "      <th></th>\n",
       "      <th></th>\n",
       "      <th></th>\n",
       "      <th></th>\n",
       "      <th></th>\n",
       "      <th></th>\n",
       "      <th></th>\n",
       "      <th></th>\n",
       "    </tr>\n",
       "  </thead>\n",
       "  <tbody>\n",
       "    <tr>\n",
       "      <th>311</th>\n",
       "      <td>Microsoft offering £100 discount on original B...</td>\n",
       "      <td>Just ahead of the market rollout of Microsoft'...</td>\n",
       "      <td>International Business Times via Yahoo UK &amp; Ir...</td>\n",
       "      <td>2015-11-08 05:25:00</td>\n",
       "      <td>0.000000</td>\n",
       "      <td>-0.132812</td>\n",
       "      <td>0</td>\n",
       "      <td>0</td>\n",
       "      <td>0</td>\n",
       "    </tr>\n",
       "    <tr>\n",
       "      <th>307</th>\n",
       "      <td>Microsoft scales back free online storage plans</td>\n",
       "      <td>NEW YORK — Microsoft is getting stingy with on...</td>\n",
       "      <td>The Columbian</td>\n",
       "      <td>2015-11-08 06:54:00</td>\n",
       "      <td>0.106303</td>\n",
       "      <td>-0.207333</td>\n",
       "      <td>0</td>\n",
       "      <td>0</td>\n",
       "      <td>0</td>\n",
       "    </tr>\n",
       "    <tr>\n",
       "      <th>299</th>\n",
       "      <td>Microsoft’s OneDrive debacle shows its cloud c...</td>\n",
       "      <td>When Microsoft announced earlier this week tha...</td>\n",
       "      <td>Digital Trends via Yahoo! News</td>\n",
       "      <td>2015-11-08 12:15:00</td>\n",
       "      <td>-0.166139</td>\n",
       "      <td>-0.259052</td>\n",
       "      <td>6</td>\n",
       "      <td>0</td>\n",
       "      <td>1</td>\n",
       "    </tr>\n",
       "    <tr>\n",
       "      <th>328</th>\n",
       "      <td>Microsoft to play a big part in Digital India</td>\n",
       "      <td>Bhaskar Pramanik, Chairman, Microsoft India, s...</td>\n",
       "      <td>DNA India</td>\n",
       "      <td>2015-11-08 16:47:00</td>\n",
       "      <td>-0.018326</td>\n",
       "      <td>0.062500</td>\n",
       "      <td>11</td>\n",
       "      <td>1</td>\n",
       "      <td>1</td>\n",
       "    </tr>\n",
       "    <tr>\n",
       "      <th>587</th>\n",
       "      <td>Microsoft risks IT ire with Windows 10 update ...</td>\n",
       "      <td>Microsoft has made it clear that it will take...</td>\n",
       "      <td>MIS Asia</td>\n",
       "      <td>2015-11-08 18:54:00</td>\n",
       "      <td>-0.165728</td>\n",
       "      <td>0.146390</td>\n",
       "      <td>89</td>\n",
       "      <td>0</td>\n",
       "      <td>0</td>\n",
       "    </tr>\n",
       "  </tbody>\n",
       "</table>\n",
       "</div>"
      ],
      "text/plain": [
       "                                                    Title  \\\n",
       "IDLink                                                      \n",
       "311     Microsoft offering £100 discount on original B...   \n",
       "307       Microsoft scales back free online storage plans   \n",
       "299     Microsoft’s OneDrive debacle shows its cloud c...   \n",
       "328         Microsoft to play a big part in Digital India   \n",
       "587     Microsoft risks IT ire with Windows 10 update ...   \n",
       "\n",
       "                                                 Headline  \\\n",
       "IDLink                                                      \n",
       "311     Just ahead of the market rollout of Microsoft'...   \n",
       "307     NEW YORK — Microsoft is getting stingy with on...   \n",
       "299     When Microsoft announced earlier this week tha...   \n",
       "328     Bhaskar Pramanik, Chairman, Microsoft India, s...   \n",
       "587      Microsoft has made it clear that it will take...   \n",
       "\n",
       "                                                   Source  \\\n",
       "IDLink                                                      \n",
       "311     International Business Times via Yahoo UK & Ir...   \n",
       "307                                         The Columbian   \n",
       "299                        Digital Trends via Yahoo! News   \n",
       "328                                             DNA India   \n",
       "587                                              MIS Asia   \n",
       "\n",
       "                PublishDate  SentimentTitle  SentimentHeadline  Facebook  \\\n",
       "IDLink                                                                     \n",
       "311     2015-11-08 05:25:00        0.000000          -0.132812         0   \n",
       "307     2015-11-08 06:54:00        0.106303          -0.207333         0   \n",
       "299     2015-11-08 12:15:00       -0.166139          -0.259052         6   \n",
       "328     2015-11-08 16:47:00       -0.018326           0.062500        11   \n",
       "587     2015-11-08 18:54:00       -0.165728           0.146390        89   \n",
       "\n",
       "        GooglePlus  LinkedIn  \n",
       "IDLink                        \n",
       "311              0         0  \n",
       "307              0         0  \n",
       "299              0         1  \n",
       "328              1         1  \n",
       "587              0         0  "
      ]
     },
     "execution_count": 4,
     "metadata": {},
     "output_type": "execute_result"
    }
   ],
   "source": [
    "news.head()"
   ]
  },
  {
   "cell_type": "markdown",
   "metadata": {
    "slideshow": {
     "slide_type": "slide"
    }
   },
   "source": [
    "### Restrict to sources with at least 50 articles"
   ]
  },
  {
   "cell_type": "code",
   "execution_count": 5,
   "metadata": {
    "slideshow": {
     "slide_type": "slide"
    }
   },
   "outputs": [
    {
     "name": "stdout",
     "output_type": "stream",
     "text": [
      "Number of sources with at least 50 articles: 75\n"
     ]
    }
   ],
   "source": [
    "greater_than_50 = (news['Source'].value_counts() > 50)\n",
    "\n",
    "sources_50 = greater_than_50[greater_than_50 > 0].index\n",
    "\n",
    "print(\"Number of sources with at least 50 articles: {}\".format(greater_than_50.sum()))\n",
    "\n",
    "news = news[news['Source'].isin(sources_50)]\n"
   ]
  },
  {
   "cell_type": "markdown",
   "metadata": {
    "slideshow": {
     "slide_type": "skip"
    }
   },
   "source": [
    "### Process dates"
   ]
  },
  {
   "cell_type": "code",
   "execution_count": 6,
   "metadata": {
    "slideshow": {
     "slide_type": "skip"
    }
   },
   "outputs": [],
   "source": [
    "news.loc[:, 'PublishDate'] = pd.to_datetime(news['PublishDate'])\n",
    "\n",
    "news.loc[:, 'Year'] = news['PublishDate'].dt.year\n",
    "news.loc[:, 'Month'] = news['PublishDate'].dt.month\n",
    "news.loc[:, 'DayOfWeek'] = news['PublishDate'].dt.weekday\n",
    "news.loc[:, 'Hour'] = news['PublishDate'].dt.hour"
   ]
  },
  {
   "cell_type": "code",
   "execution_count": 7,
   "metadata": {
    "slideshow": {
     "slide_type": "skip"
    }
   },
   "outputs": [],
   "source": [
    "import datetime"
   ]
  },
  {
   "cell_type": "code",
   "execution_count": 8,
   "metadata": {
    "slideshow": {
     "slide_type": "skip"
    }
   },
   "outputs": [],
   "source": [
    "news['PublishDate'].max()\n",
    "\n",
    "may_1_2016 = datetime.datetime(2016, 5, 1)\n",
    "\n",
    "news_historical = news[news['PublishDate'] <= may_1_2016]\n",
    "news_new = news[news['PublishDate'] > may_1_2016]"
   ]
  },
  {
   "cell_type": "code",
   "execution_count": null,
   "metadata": {
    "slideshow": {
     "slide_type": "skip"
    }
   },
   "outputs": [],
   "source": []
  },
  {
   "cell_type": "markdown",
   "metadata": {
    "slideshow": {
     "slide_type": "slide"
    }
   },
   "source": [
    "## ML"
   ]
  },
  {
   "cell_type": "code",
   "execution_count": 9,
   "metadata": {
    "slideshow": {
     "slide_type": "skip"
    }
   },
   "outputs": [],
   "source": [
    "from sklearn.linear_model import LinearRegression, Ridge\n",
    "from sklearn.preprocessing import OneHotEncoder\n",
    "from sklearn.pipeline import Pipeline, FeatureUnion\n",
    "from sklearn import base"
   ]
  },
  {
   "cell_type": "code",
   "execution_count": 10,
   "metadata": {
    "slideshow": {
     "slide_type": "skip"
    }
   },
   "outputs": [],
   "source": [
    "df = news_historical.drop(['PublishDate'], 1)"
   ]
  },
  {
   "cell_type": "code",
   "execution_count": 11,
   "metadata": {},
   "outputs": [
    {
     "data": {
      "text/html": [
       "<div>\n",
       "<style scoped>\n",
       "    .dataframe tbody tr th:only-of-type {\n",
       "        vertical-align: middle;\n",
       "    }\n",
       "\n",
       "    .dataframe tbody tr th {\n",
       "        vertical-align: top;\n",
       "    }\n",
       "\n",
       "    .dataframe thead th {\n",
       "        text-align: right;\n",
       "    }\n",
       "</style>\n",
       "<table border=\"1\" class=\"dataframe\">\n",
       "  <thead>\n",
       "    <tr style=\"text-align: right;\">\n",
       "      <th></th>\n",
       "      <th>Title</th>\n",
       "      <th>Headline</th>\n",
       "      <th>Source</th>\n",
       "      <th>SentimentTitle</th>\n",
       "      <th>SentimentHeadline</th>\n",
       "      <th>Facebook</th>\n",
       "      <th>GooglePlus</th>\n",
       "      <th>LinkedIn</th>\n",
       "      <th>Year</th>\n",
       "      <th>Month</th>\n",
       "      <th>DayOfWeek</th>\n",
       "      <th>Hour</th>\n",
       "    </tr>\n",
       "    <tr>\n",
       "      <th>IDLink</th>\n",
       "      <th></th>\n",
       "      <th></th>\n",
       "      <th></th>\n",
       "      <th></th>\n",
       "      <th></th>\n",
       "      <th></th>\n",
       "      <th></th>\n",
       "      <th></th>\n",
       "      <th></th>\n",
       "      <th></th>\n",
       "      <th></th>\n",
       "      <th></th>\n",
       "    </tr>\n",
       "  </thead>\n",
       "  <tbody>\n",
       "    <tr>\n",
       "      <th>46462</th>\n",
       "      <td>Get a $50 Microsoft Store gift card with Xbox ...</td>\n",
       "      <td>The $50 discount for the Xbox One is no longer...</td>\n",
       "      <td>Windows Central</td>\n",
       "      <td>-0.096466</td>\n",
       "      <td>-0.029167</td>\n",
       "      <td>9</td>\n",
       "      <td>2</td>\n",
       "      <td>1</td>\n",
       "      <td>2016</td>\n",
       "      <td>5</td>\n",
       "      <td>6</td>\n",
       "      <td>8</td>\n",
       "    </tr>\n",
       "    <tr>\n",
       "      <th>46791</th>\n",
       "      <td>Flow is Microsoft’s answer to IFTTT</td>\n",
       "      <td>IFTTT (If This Then That) is looking at big co...</td>\n",
       "      <td>Digital Trends via Yahoo! News</td>\n",
       "      <td>0.010499</td>\n",
       "      <td>0.089970</td>\n",
       "      <td>0</td>\n",
       "      <td>0</td>\n",
       "      <td>0</td>\n",
       "      <td>2016</td>\n",
       "      <td>5</td>\n",
       "      <td>6</td>\n",
       "      <td>11</td>\n",
       "    </tr>\n",
       "    <tr>\n",
       "      <th>46538</th>\n",
       "      <td>Microsoft's IE loses top browser spot to Googl...</td>\n",
       "      <td>Internet Explorer in April lost the No. 1 spot...</td>\n",
       "      <td>Computer World Australia</td>\n",
       "      <td>-0.092593</td>\n",
       "      <td>-0.038044</td>\n",
       "      <td>111</td>\n",
       "      <td>0</td>\n",
       "      <td>6</td>\n",
       "      <td>2016</td>\n",
       "      <td>5</td>\n",
       "      <td>6</td>\n",
       "      <td>11</td>\n",
       "    </tr>\n",
       "    <tr>\n",
       "      <th>46542</th>\n",
       "      <td>This Microsoft legend says the the company is ...</td>\n",
       "      <td>Microsoft Research is more important to the te...</td>\n",
       "      <td>Business Insider via Yahoo! Finance</td>\n",
       "      <td>0.000000</td>\n",
       "      <td>0.000000</td>\n",
       "      <td>1</td>\n",
       "      <td>0</td>\n",
       "      <td>0</td>\n",
       "      <td>2016</td>\n",
       "      <td>5</td>\n",
       "      <td>6</td>\n",
       "      <td>11</td>\n",
       "    </tr>\n",
       "    <tr>\n",
       "      <th>46569</th>\n",
       "      <td>Windows 10 Mobile Build 10586.306 now being te...</td>\n",
       "      <td>Microsoft is actively working on the next majo...</td>\n",
       "      <td>MSPoweruser.com</td>\n",
       "      <td>0.094491</td>\n",
       "      <td>0.167705</td>\n",
       "      <td>23</td>\n",
       "      <td>0</td>\n",
       "      <td>0</td>\n",
       "      <td>2016</td>\n",
       "      <td>5</td>\n",
       "      <td>6</td>\n",
       "      <td>14</td>\n",
       "    </tr>\n",
       "  </tbody>\n",
       "</table>\n",
       "</div>"
      ],
      "text/plain": [
       "                                                    Title  \\\n",
       "IDLink                                                      \n",
       "46462   Get a $50 Microsoft Store gift card with Xbox ...   \n",
       "46791                 Flow is Microsoft’s answer to IFTTT   \n",
       "46538   Microsoft's IE loses top browser spot to Googl...   \n",
       "46542   This Microsoft legend says the the company is ...   \n",
       "46569   Windows 10 Mobile Build 10586.306 now being te...   \n",
       "\n",
       "                                                 Headline  \\\n",
       "IDLink                                                      \n",
       "46462   The $50 discount for the Xbox One is no longer...   \n",
       "46791   IFTTT (If This Then That) is looking at big co...   \n",
       "46538   Internet Explorer in April lost the No. 1 spot...   \n",
       "46542   Microsoft Research is more important to the te...   \n",
       "46569   Microsoft is actively working on the next majo...   \n",
       "\n",
       "                                     Source  SentimentTitle  \\\n",
       "IDLink                                                        \n",
       "46462                       Windows Central       -0.096466   \n",
       "46791        Digital Trends via Yahoo! News        0.010499   \n",
       "46538              Computer World Australia       -0.092593   \n",
       "46542   Business Insider via Yahoo! Finance        0.000000   \n",
       "46569                       MSPoweruser.com        0.094491   \n",
       "\n",
       "        SentimentHeadline  Facebook  GooglePlus  LinkedIn  Year  Month  \\\n",
       "IDLink                                                                   \n",
       "46462           -0.029167         9           2         1  2016      5   \n",
       "46791            0.089970         0           0         0  2016      5   \n",
       "46538           -0.038044       111           0         6  2016      5   \n",
       "46542            0.000000         1           0         0  2016      5   \n",
       "46569            0.167705        23           0         0  2016      5   \n",
       "\n",
       "        DayOfWeek  Hour  \n",
       "IDLink                   \n",
       "46462           6     8  \n",
       "46791           6    11  \n",
       "46538           6    11  \n",
       "46542           6    11  \n",
       "46569           6    14  "
      ]
     },
     "execution_count": 11,
     "metadata": {},
     "output_type": "execute_result"
    }
   ],
   "source": [
    "df_new = news_new.drop(['PublishDate'], 1)\n",
    "df_new.head()"
   ]
  },
  {
   "cell_type": "code",
   "execution_count": 12,
   "metadata": {},
   "outputs": [],
   "source": [
    "\n",
    "#import modules for news selection\n",
    "import os.path\n",
    "from gensim import corpora\n",
    "from gensim.models import LsiModel\n",
    "from nltk.corpus import stopwords\n",
    "from nltk.tokenize import RegexpTokenizer\n",
    "from nltk.stem.porter import PorterStemmer\n",
    "from gensim.models.coherencemodel import CoherenceModel\n",
    "import matplotlib.pyplot as plt\n",
    "from gensim import models"
   ]
  },
  {
   "cell_type": "code",
   "execution_count": 13,
   "metadata": {},
   "outputs": [],
   "source": [
    "\n",
    "from nltk.corpus import stopwords\n",
    "\n",
    "\n",
    "def preprocess_data(doc_set):\n",
    "    \"\"\"\n",
    "    Input  : docuemnt list\n",
    "    Purpose: preprocess text (tokenize, removing stopwords, and stemming)\n",
    "    Output : preprocessed text\n",
    "    \"\"\"\n",
    "    # initialize regex tokenizer\n",
    "    tokenizer = RegexpTokenizer(r'\\w+')\n",
    "    # create English stop words list\n",
    "    en_stop = set(stopwords.words('english'))\n",
    "    # Create p_stemmer of class PorterStemmer\n",
    "    p_stemmer = PorterStemmer()\n",
    "    # list for tokenized documents in loop\n",
    "    doc_clean = []\n",
    "    # loop through document list\n",
    "    for i in doc_set:\n",
    "        # clean and tokenize document string\n",
    "        raw = i.lower()\n",
    "        tokens = tokenizer.tokenize(raw)\n",
    "        # remove stop words from tokens\n",
    "        stopped_tokens = [i for i in tokens if not i in en_stop]\n",
    "        # stem tokens\n",
    "        stemmed_tokens = [p_stemmer.stem(i) for i in stopped_tokens]\n",
    "        # add tokens to list\n",
    "        doc_clean.append(stemmed_tokens)\n",
    "\n",
    "    \n",
    "    return doc_clean\n",
    "\n",
    "\n",
    "def prepare_corpus(doc_clean):\n",
    "    # Creating the term dictionary of our courpus, where every unique term is assigned an index. dictionary = corpora.Dictionary(doc_clean)\n",
    "    dictionary = corpora.Dictionary(doc_clean)\n",
    "    # Converting list of documents (corpus) into Document Term Matrix using dictionary prepared above.\n",
    "    doc_term_matrix = [dictionary.doc2bow(doc) for doc in doc_clean]\n",
    "    # generate LDA model\n",
    "    dicitonary = dictionary\n",
    "    doc_term_matrix = doc_term_matrix\n",
    "    corpus = [dictionary.doc2bow(text) for text in doc_clean]\n",
    "    \n",
    "    return dictionary,doc_term_matrix\n",
    "\n",
    "def create_gensim_lsa_model(doc_clean,number_of_topics,words):\n",
    "\n",
    "    dictionary,doc_term_matrix=prepare_corpus(doc_clean)\n",
    "    # generate LSA model\n",
    "    lsamodel = LsiModel(doc_term_matrix, num_topics=number_of_topics, id2word = dictionary)  # train model\n",
    "    #print(lsamodel.print_topics(num_topics=number_of_topics, num_words=words))\n",
    "    return lsamodel\n",
    "\n",
    "\n",
    "def compute_coherence_values(dictionary, doc_term_matrix, doc_clean,number_of_topics, stop, start=2, step=3):\n",
    "\n",
    "    coherence_values = []\n",
    "    model_list = []\n",
    "    for num_topics in range(start, stop, step):\n",
    "        # generate LSA model\n",
    "        model = LsiModel(doc_term_matrix, num_topics, id2word = dictionary)  # train model\n",
    "        model_list.append(model)\n",
    "        coherencemodel = CoherenceModel(model=model, texts=doc_clean, dictionary=dictionary, coherence='c_v')\n",
    "        coherence_values.append(coherencemodel.get_coherence())\n",
    "    model_list = model_list\n",
    "    coherence_values = coherence_values\n",
    "    return model_list, coherence_values\n",
    "\n",
    "def buildModel(doc_clean, number_of_topics,stop, start, step):\n",
    "    dictionary,doc_term_matrix=prepare_corpus(doc_clean)\n",
    "    model_list, coherence_values = compute_coherence_values(dictionary, doc_term_matrix,doc_clean,number_of_topics, stop, start, step)\n",
    "    return model_list, coherence_values\n",
    "\n",
    "def similarity(doc, corpus, dictionary, numTopics):\n",
    "    lsi = models.LsiModel(corpus, id2word=dictionary, num_topics=numTopics)\n",
    "    vec_bow = self.dictionary.doc2bow(doc.lower().split())\n",
    "    vec_lsi = lsi[vec_bow]  # convert the query to LSI space\n",
    "    #print(vec_lsi)\n",
    "    return vec_lsi\n",
    "\n"
   ]
  },
  {
   "cell_type": "code",
   "execution_count": 14,
   "metadata": {},
   "outputs": [],
   "source": [
    "from scipy.stats import entropy\n",
    "import pandas as pd\n",
    "def information_gain(members, split):\n",
    "    \n",
    "    entropy_before = entropy(members.value_counts(normalize=True))\n",
    "    split.name = 'split'\n",
    "    members.name = 'members'\n",
    "    grouped_distrib = members.groupby(split) \\\n",
    "                        .value_counts(normalize=True) \\\n",
    "                        .reset_index(name='count') \\\n",
    "                        .pivot_table(index='split', columns='members', values='count').fillna(0) \n",
    "    entropy_after = entropy(grouped_distrib, axis=1)\n",
    "    entropy_after *= split.value_counts(sort=False, normalize=True)\n",
    "    return (entropy_before - entropy_after.sum())/entropy_before\n",
    "\n"
   ]
  },
  {
   "cell_type": "markdown",
   "metadata": {},
   "source": [
    "# Feature Selection"
   ]
  },
  {
   "cell_type": "markdown",
   "metadata": {
    "slideshow": {
     "slide_type": "notes"
    }
   },
   "source": [
    "# According to Information Gain (.64, .45, .51), SentimentTitle and SentimentHeadline are not considered as good features which can be used to predict popularity on Facebook, GooglePlus, and LinkedIn."
   ]
  },
  {
   "cell_type": "code",
   "execution_count": 15,
   "metadata": {},
   "outputs": [
    {
     "name": "stdout",
     "output_type": "stream",
     "text": [
      "0.6427983828436333 0.682137527933072 0.6065400706568865\n"
     ]
    }
   ],
   "source": [
    "info_title_fb =information_gain(df['SentimentTitle'],df['Facebook'])\n",
    "info_headline_fb =information_gain(df['SentimentHeadline'],df['Facebook'])\n",
    "info_source_fb =information_gain(df['Source'],df['Facebook'])\n",
    "print(info_title_fb, info_headline_fb,info_source_fb)"
   ]
  },
  {
   "cell_type": "code",
   "execution_count": 16,
   "metadata": {},
   "outputs": [
    {
     "name": "stdout",
     "output_type": "stream",
     "text": [
      "0.4545358118900283 0.48596147409162366 0.4117329019171993\n"
     ]
    }
   ],
   "source": [
    "info_title_google=information_gain(df['SentimentTitle'],df['GooglePlus'])\n",
    "info_headline_google=information_gain(df['SentimentHeadline'],df['GooglePlus'])\n",
    "info_source_google=information_gain(df['Source'],df['GooglePlus'])\n",
    "print(info_title_google, info_headline_google,info_source_google)"
   ]
  },
  {
   "cell_type": "code",
   "execution_count": 17,
   "metadata": {},
   "outputs": [
    {
     "name": "stdout",
     "output_type": "stream",
     "text": [
      "0.5177361250103715 0.5575869048549802 0.4672467847269911\n"
     ]
    }
   ],
   "source": [
    "info_title_linkedin=information_gain(df['SentimentTitle'],df['LinkedIn'])\n",
    "info_headline_linkedin=information_gain(df['SentimentHeadline'],df['LinkedIn'])\n",
    "info_source_linkedin=information_gain(df['Source'],df['LinkedIn'])\n",
    "print(info_title_linkedin, info_headline_linkedin,info_source_linkedin)"
   ]
  },
  {
   "cell_type": "markdown",
   "metadata": {
    "slideshow": {
     "slide_type": "slide"
    }
   },
   "source": [
    "# For Title and Headline, we use Latent semantic analysis to find similar news to make the training set for popularity prediction"
   ]
  },
  {
   "cell_type": "code",
   "execution_count": 18,
   "metadata": {},
   "outputs": [],
   "source": [
    "\n",
    "doc_clean = preprocess_data(df['Title'])\n",
    "dictionary, doc_term_matrix = prepare_corpus(doc_clean)\n",
    "\n",
    "#start,repeats,step=1,20,1\n",
    "#number_of_topics = 20\n",
    "#model_list, coherence_values = buildModel(doc_clean, number_of_topics,repeats, start, step)\n",
    "#df_coh = pd.DataFrame(coherence_values, columns=['coherence_values'])\n",
    "\n",
    "#max_coherence = df_coh[df_coh['coherence_values']==df_coh['coherence_values'].max()]\n",
    "#numTopic = max_coherence.index.values\n",
    "#model_headline.save('model_headline.lsi')\n",
    "#print(\"num topics\" + str(numTopic))\n",
    "\n",
    "model_title = models.LsiModel.load('model_title.lsi')\n",
    "\n",
    "TitleTopics = []\n",
    "for i in range(len(doc_clean)):\n",
    "    doc = doc_clean[i]\n",
    "    vec_bow = dictionary.doc2bow(doc) \n",
    "    vec_lsi = model_title[vec_bow]   # convert the query to LSI space\n",
    "    df_vec_lsi = pd.DataFrame(vec_lsi)\n",
    "    m = df_vec_lsi[df_vec_lsi[1] == df_vec_lsi[1].max()].index.values\n",
    "    TitleTopics.append(m[0])\n"
   ]
  },
  {
   "cell_type": "code",
   "execution_count": 19,
   "metadata": {},
   "outputs": [
    {
     "name": "stdout",
     "output_type": "stream",
     "text": [
      "[(0, 1.0708536636859944), (1, -0.2865283743355597), (2, 0.20560086201483807), (3, -0.2676925756194557)]\n"
     ]
    }
   ],
   "source": [
    "#find similar articles\n",
    "\n",
    "df_topic = df_new.head(1)\n",
    "\n",
    "doc = df_topic['Title'].values[0]\n",
    "\n",
    "\n",
    "corpus = [dictionary.doc2bow(text) for text in doc_clean]\n",
    "\n",
    "vec_bow = dictionary.doc2bow(doc.lower().split())\n",
    "vec_lsi = model_title[vec_bow]  # convert the query to LSI space\n",
    "print(vec_lsi)\n"
   ]
  },
  {
   "cell_type": "code",
   "execution_count": 20,
   "metadata": {},
   "outputs": [],
   "source": [
    "from gensim import similarities\n",
    "\n",
    "index = similarities.MatrixSimilarity(model_title[corpus])  # transform corpus to LSI space and index it\n",
    "sims = index[vec_lsi]  # perform a similarity query against the corpus\n",
    "df_sims = pd.DataFrame(list(enumerate(sims)), columns=['Index','similarity'])\n",
    "\n",
    "df_copy = df.copy(deep=True).reset_index()\n",
    "df_copy['similarity'] = df_sims['similarity']\n"
   ]
  },
  {
   "cell_type": "code",
   "execution_count": 21,
   "metadata": {},
   "outputs": [
    {
     "data": {
      "text/plain": [
       "(725, 14)"
      ]
     },
     "execution_count": 21,
     "metadata": {},
     "output_type": "execute_result"
    }
   ],
   "source": [
    "df_copy_sorted = df_copy.sort_values(by=['similarity'],ascending=False)\n",
    "df_copy_sorted_large = df_copy_sorted[df_copy_sorted['similarity']>0.97]\n",
    "df_copy_sorted_large.shape"
   ]
  },
  {
   "cell_type": "code",
   "execution_count": 22,
   "metadata": {},
   "outputs": [],
   "source": [
    "df_headline=df_copy_sorted_large.copy(deep=True)\n",
    "doc_clean = preprocess_data(df_headline['Headline'])\n",
    "dictionary, doc_term_matrix = prepare_corpus(doc_clean)\n",
    "\n",
    "#start,repeats,step=1,20,1\n",
    "#number_of_topics = 20\n",
    "#model_list, coherence_values = buildModel(doc_clean, number_of_topics,repeats, start, step)\n",
    "#df_coh = pd.DataFrame(coherence_values, columns=['coherence_values'])\n",
    "\n",
    "#max_coherence = df_coh[df_coh['coherence_values']==df_coh['coherence_values'].max()]\n",
    "#numTopic = max_coherence.index.values\n",
    "#model_headline.save('model_headline.lsi')\n",
    "#print(\"num topics\" + str(numTopic))\n",
    "\n",
    "model_headline = models.LsiModel.load('model_headline.lsi')\n",
    "\n",
    "HeadlineTopics = []\n",
    "for i in range(len(doc_clean)):\n",
    "    doc = doc_clean[i]\n",
    "    vec_bow = dictionary.doc2bow(doc) \n",
    "    vec_lsi = model_headline[vec_bow]   # convert the query to LSI space\n",
    "    df_vec_lsi = pd.DataFrame(vec_lsi)\n",
    "    m = df_vec_lsi[df_vec_lsi[1] == df_vec_lsi[1].max()].index.values\n",
    "    HeadlineTopics.append(m[0])\n"
   ]
  },
  {
   "cell_type": "code",
   "execution_count": 23,
   "metadata": {},
   "outputs": [
    {
     "name": "stdout",
     "output_type": "stream",
     "text": [
      "[(0, 1.1872730626966146), (1, 0.12897885644458187), (2, -0.3597806306628429)]\n"
     ]
    }
   ],
   "source": [
    "#find similar articles\n",
    "\n",
    "df_topic = df_new.head(1)\n",
    "doc = df_topic['Headline'].values[0]\n",
    "\n",
    "corpus = [dictionary.doc2bow(text) for text in doc_clean]\n",
    "\n",
    "vec_bow = dictionary.doc2bow(doc.lower().split())\n",
    "vec_lsi = model_headline[vec_bow]  # convert the query to LSI space\n",
    "print(vec_lsi)"
   ]
  },
  {
   "cell_type": "code",
   "execution_count": 24,
   "metadata": {},
   "outputs": [],
   "source": [
    "from gensim import similarities\n",
    "\n",
    "index = similarities.MatrixSimilarity(model_headline[corpus])  # transform corpus to LSI space and index it\n",
    "sims = index[vec_lsi]  # perform a similarity query against the corpus\n",
    "df_sims = pd.DataFrame(list(enumerate(sims)), columns=['Index','similarity'])  # print (document_number, document_similarity) 2-tuples\n"
   ]
  },
  {
   "cell_type": "code",
   "execution_count": 82,
   "metadata": {},
   "outputs": [
    {
     "data": {
      "text/plain": [
       "(254, 15)"
      ]
     },
     "execution_count": 82,
     "metadata": {},
     "output_type": "execute_result"
    }
   ],
   "source": [
    "#Set Similarity to 90%\n",
    "#check information gain to decide if feature sets are valuable to Popularity in Facebook, GooglePlus and LinkedIn\n",
    "df_copy_headline = df_headline.copy(deep=True)\n",
    "df_copy_headline = df_copy_headline.reset_index()\n",
    "\n",
    "df_copy_headline['similarity'] = df_sims['similarity']\n",
    "\n",
    "df_sims_sorted = df_copy_headline.sort_values(by=['similarity'],ascending=False)\n",
    "df_sims_sorted_large = df_sims_sorted[df_sims_sorted['similarity']>0.95]\n",
    "df_sims_sorted_large.shape"
   ]
  },
  {
   "cell_type": "code",
   "execution_count": 83,
   "metadata": {},
   "outputs": [
    {
     "name": "stdout",
     "output_type": "stream",
     "text": [
      "0.6402297465466554 0.6802961665203736 0.5938243473560881\n"
     ]
    }
   ],
   "source": [
    "info_title_facebook=information_gain(df_sims_sorted_large['SentimentTitle'],df_sims_sorted_large['Facebook'])\n",
    "info_headline_facebook=information_gain(df_sims_sorted_large['SentimentHeadline'],df_sims_sorted_large['Facebook'])\n",
    "info_source_facebook=information_gain(df_sims_sorted_large['Source'],df_sims_sorted_large['Facebook'])\n",
    "print(info_title_facebook, info_headline_facebook,info_source_facebook)"
   ]
  },
  {
   "cell_type": "code",
   "execution_count": 84,
   "metadata": {},
   "outputs": [
    {
     "data": {
      "text/plain": [
       "<AxesSubplot:xlabel='SentimentTitle', ylabel='Facebook'>"
      ]
     },
     "execution_count": 84,
     "metadata": {},
     "output_type": "execute_result"
    },
    {
     "data": {
      "image/png": "[encoded data removed]",
      "text/plain": [
       "<Figure size 432x288 with 1 Axes>"
      ]
     },
     "metadata": {
      "needs_background": "light"
     },
     "output_type": "display_data"
    }
   ],
   "source": [
    "df_sims_sorted_large.plot.scatter(x='SentimentTitle', y='Facebook')"
   ]
  },
  {
   "cell_type": "code",
   "execution_count": 85,
   "metadata": {},
   "outputs": [
    {
     "data": {
      "text/plain": [
       "<AxesSubplot:xlabel='SentimentHeadline', ylabel='Facebook'>"
      ]
     },
     "execution_count": 85,
     "metadata": {},
     "output_type": "execute_result"
    },
    {
     "data": {
      "image/png": "[encoded data removed]",
      "text/plain": [
       "<Figure size 432x288 with 1 Axes>"
      ]
     },
     "metadata": {
      "needs_background": "light"
     },
     "output_type": "display_data"
    }
   ],
   "source": [
    "df_sims_sorted_large.plot.scatter(x='SentimentHeadline', y='Facebook')"
   ]
  },
  {
   "cell_type": "code",
   "execution_count": 86,
   "metadata": {},
   "outputs": [
    {
     "name": "stdout",
     "output_type": "stream",
     "text": [
      "0.403406503019759 0.44497873799024906 0.35649528905485933\n"
     ]
    }
   ],
   "source": [
    "info_title_google=information_gain(df_sims_sorted_large['SentimentTitle'],df_sims_sorted_large['GooglePlus'])\n",
    "info_headline_google=information_gain(df_sims_sorted_large['SentimentHeadline'],df_sims_sorted_large['GooglePlus'])\n",
    "info_source_google=information_gain(df_sims_sorted_large['Source'],df_sims_sorted_large['GooglePlus'])\n",
    "print(info_title_google, info_headline_google,info_source_google)"
   ]
  },
  {
   "cell_type": "code",
   "execution_count": 87,
   "metadata": {},
   "outputs": [
    {
     "data": {
      "text/plain": [
       "<AxesSubplot:xlabel='SentimentTitle', ylabel='GooglePlus'>"
      ]
     },
     "execution_count": 87,
     "metadata": {},
     "output_type": "execute_result"
    },
    {
     "data": {
      "image/png": "[encoded data removed]",
      "text/plain": [
       "<Figure size 432x288 with 1 Axes>"
      ]
     },
     "metadata": {
      "needs_background": "light"
     },
     "output_type": "display_data"
    }
   ],
   "source": [
    "df_sims_sorted_large.plot.scatter(x='SentimentTitle', y='GooglePlus')"
   ]
  },
  {
   "cell_type": "code",
   "execution_count": 88,
   "metadata": {},
   "outputs": [
    {
     "data": {
      "text/plain": [
       "<AxesSubplot:xlabel='SentimentHeadline', ylabel='GooglePlus'>"
      ]
     },
     "execution_count": 88,
     "metadata": {},
     "output_type": "execute_result"
    },
    {
     "data": {
      "image/png": "[encoded data removed]",
      "text/plain": [
       "<Figure size 432x288 with 1 Axes>"
      ]
     },
     "metadata": {
      "needs_background": "light"
     },
     "output_type": "display_data"
    }
   ],
   "source": [
    "df_sims_sorted_large.plot.scatter(x='SentimentHeadline', y='GooglePlus')"
   ]
  },
  {
   "cell_type": "code",
   "execution_count": 89,
   "metadata": {},
   "outputs": [
    {
     "name": "stdout",
     "output_type": "stream",
     "text": [
      "0.4967958358122572 0.542806509492341 0.4650998411404288\n"
     ]
    }
   ],
   "source": [
    "info_title_linkedin=information_gain(df_sims_sorted_large['SentimentTitle'],df_sims_sorted_large['LinkedIn'])\n",
    "info_headline_linkedin=information_gain(df_sims_sorted_large['SentimentHeadline'],df_sims_sorted_large['LinkedIn'])\n",
    "info_source_linkedin=information_gain(df_sims_sorted_large['Source'],df_sims_sorted_large['LinkedIn'])\n",
    "print(info_title_linkedin, info_headline_linkedin,info_source_linkedin)"
   ]
  },
  {
   "cell_type": "code",
   "execution_count": 90,
   "metadata": {},
   "outputs": [
    {
     "data": {
      "text/plain": [
       "<AxesSubplot:xlabel='SentimentTitle', ylabel='LinkedIn'>"
      ]
     },
     "execution_count": 90,
     "metadata": {},
     "output_type": "execute_result"
    },
    {
     "data": {
      "image/png": "[encoded data removed]",
      "text/plain": [
       "<Figure size 432x288 with 1 Axes>"
      ]
     },
     "metadata": {
      "needs_background": "light"
     },
     "output_type": "display_data"
    }
   ],
   "source": [
    "df_sims_sorted_large.plot.scatter(x='SentimentTitle', y='LinkedIn')"
   ]
  },
  {
   "cell_type": "code",
   "execution_count": 91,
   "metadata": {},
   "outputs": [
    {
     "data": {
      "text/plain": [
       "<AxesSubplot:xlabel='SentimentHeadline', ylabel='LinkedIn'>"
      ]
     },
     "execution_count": 91,
     "metadata": {},
     "output_type": "execute_result"
    },
    {
     "data": {
      "image/png": "[encoded data removed]",
      "text/plain": [
       "<Figure size 432x288 with 1 Axes>"
      ]
     },
     "metadata": {
      "needs_background": "light"
     },
     "output_type": "display_data"
    }
   ],
   "source": [
    "df_sims_sorted_large.plot.scatter(x='SentimentHeadline', y='LinkedIn')"
   ]
  },
  {
   "cell_type": "markdown",
   "metadata": {},
   "source": [
    "# Find the nearest neighbors of the given news\n",
    "# predict popularity with the number of views of its neighbors"
   ]
  },
  {
   "cell_type": "code",
   "execution_count": 92,
   "metadata": {},
   "outputs": [
    {
     "data": {
      "text/html": [
       "<div>\n",
       "<style scoped>\n",
       "    .dataframe tbody tr th:only-of-type {\n",
       "        vertical-align: middle;\n",
       "    }\n",
       "\n",
       "    .dataframe tbody tr th {\n",
       "        vertical-align: top;\n",
       "    }\n",
       "\n",
       "    .dataframe thead th {\n",
       "        text-align: right;\n",
       "    }\n",
       "</style>\n",
       "<table border=\"1\" class=\"dataframe\">\n",
       "  <thead>\n",
       "    <tr style=\"text-align: right;\">\n",
       "      <th></th>\n",
       "      <th>index</th>\n",
       "      <th>IDLink</th>\n",
       "      <th>Title</th>\n",
       "      <th>Headline</th>\n",
       "      <th>Source</th>\n",
       "      <th>SentimentTitle</th>\n",
       "      <th>SentimentHeadline</th>\n",
       "      <th>Facebook</th>\n",
       "      <th>GooglePlus</th>\n",
       "      <th>LinkedIn</th>\n",
       "      <th>Year</th>\n",
       "      <th>Month</th>\n",
       "      <th>DayOfWeek</th>\n",
       "      <th>Hour</th>\n",
       "      <th>similarity</th>\n",
       "    </tr>\n",
       "  </thead>\n",
       "  <tbody>\n",
       "    <tr>\n",
       "      <th>606</th>\n",
       "      <td>347</td>\n",
       "      <td>2237</td>\n",
       "      <td>Microsoft Teases Xbox Digital Black Friday Dea...</td>\n",
       "      <td>With Black Friday on November 27, we're seeing...</td>\n",
       "      <td>NDTV</td>\n",
       "      <td>-0.041667</td>\n",
       "      <td>-0.275788</td>\n",
       "      <td>9</td>\n",
       "      <td>1</td>\n",
       "      <td>1</td>\n",
       "      <td>2015</td>\n",
       "      <td>11</td>\n",
       "      <td>0</td>\n",
       "      <td>10</td>\n",
       "      <td>0.999904</td>\n",
       "    </tr>\n",
       "    <tr>\n",
       "      <th>705</th>\n",
       "      <td>2697</td>\n",
       "      <td>15685</td>\n",
       "      <td>Technology Stock Roundup: Dismal Start to 2016</td>\n",
       "      <td>It was a miserable week for tech stocks and a ...</td>\n",
       "      <td>Zacks via Yahoo! Finance</td>\n",
       "      <td>-0.255155</td>\n",
       "      <td>-0.414605</td>\n",
       "      <td>0</td>\n",
       "      <td>0</td>\n",
       "      <td>0</td>\n",
       "      <td>2016</td>\n",
       "      <td>1</td>\n",
       "      <td>0</td>\n",
       "      <td>7</td>\n",
       "      <td>0.999902</td>\n",
       "    </tr>\n",
       "  </tbody>\n",
       "</table>\n",
       "</div>"
      ],
      "text/plain": [
       "     index  IDLink                                              Title  \\\n",
       "606    347    2237  Microsoft Teases Xbox Digital Black Friday Dea...   \n",
       "705   2697   15685     Technology Stock Roundup: Dismal Start to 2016   \n",
       "\n",
       "                                              Headline  \\\n",
       "606  With Black Friday on November 27, we're seeing...   \n",
       "705  It was a miserable week for tech stocks and a ...   \n",
       "\n",
       "                       Source  SentimentTitle  SentimentHeadline  Facebook  \\\n",
       "606                      NDTV       -0.041667          -0.275788         9   \n",
       "705  Zacks via Yahoo! Finance       -0.255155          -0.414605         0   \n",
       "\n",
       "     GooglePlus  LinkedIn  Year  Month  DayOfWeek  Hour  similarity  \n",
       "606           1         1  2015     11          0    10    0.999904  \n",
       "705           0         0  2016      1          0     7    0.999902  "
      ]
     },
     "execution_count": 92,
     "metadata": {},
     "output_type": "execute_result"
    }
   ],
   "source": [
    "\n",
    "df_sims_sorted_large.head(2)"
   ]
  },
  {
   "cell_type": "code",
   "execution_count": 93,
   "metadata": {},
   "outputs": [
    {
     "data": {
      "text/html": [
       "<div>\n",
       "<style scoped>\n",
       "    .dataframe tbody tr th:only-of-type {\n",
       "        vertical-align: middle;\n",
       "    }\n",
       "\n",
       "    .dataframe tbody tr th {\n",
       "        vertical-align: top;\n",
       "    }\n",
       "\n",
       "    .dataframe thead th {\n",
       "        text-align: right;\n",
       "    }\n",
       "</style>\n",
       "<table border=\"1\" class=\"dataframe\">\n",
       "  <thead>\n",
       "    <tr style=\"text-align: right;\">\n",
       "      <th></th>\n",
       "      <th>Title</th>\n",
       "      <th>Headline</th>\n",
       "      <th>Source</th>\n",
       "      <th>PublishDate</th>\n",
       "      <th>SentimentTitle</th>\n",
       "      <th>SentimentHeadline</th>\n",
       "      <th>Facebook</th>\n",
       "      <th>GooglePlus</th>\n",
       "      <th>LinkedIn</th>\n",
       "      <th>Year</th>\n",
       "      <th>Month</th>\n",
       "      <th>DayOfWeek</th>\n",
       "      <th>Hour</th>\n",
       "    </tr>\n",
       "    <tr>\n",
       "      <th>IDLink</th>\n",
       "      <th></th>\n",
       "      <th></th>\n",
       "      <th></th>\n",
       "      <th></th>\n",
       "      <th></th>\n",
       "      <th></th>\n",
       "      <th></th>\n",
       "      <th></th>\n",
       "      <th></th>\n",
       "      <th></th>\n",
       "      <th></th>\n",
       "      <th></th>\n",
       "      <th></th>\n",
       "    </tr>\n",
       "  </thead>\n",
       "  <tbody>\n",
       "    <tr>\n",
       "      <th>46462</th>\n",
       "      <td>Get a $50 Microsoft Store gift card with Xbox ...</td>\n",
       "      <td>The $50 discount for the Xbox One is no longer...</td>\n",
       "      <td>Windows Central</td>\n",
       "      <td>2016-05-01 08:47:22</td>\n",
       "      <td>-0.096466</td>\n",
       "      <td>-0.029167</td>\n",
       "      <td>9</td>\n",
       "      <td>2</td>\n",
       "      <td>1</td>\n",
       "      <td>2016</td>\n",
       "      <td>5</td>\n",
       "      <td>6</td>\n",
       "      <td>8</td>\n",
       "    </tr>\n",
       "    <tr>\n",
       "      <th>46791</th>\n",
       "      <td>Flow is Microsoft’s answer to IFTTT</td>\n",
       "      <td>IFTTT (If This Then That) is looking at big co...</td>\n",
       "      <td>Digital Trends via Yahoo! News</td>\n",
       "      <td>2016-05-01 11:10:00</td>\n",
       "      <td>0.010499</td>\n",
       "      <td>0.089970</td>\n",
       "      <td>0</td>\n",
       "      <td>0</td>\n",
       "      <td>0</td>\n",
       "      <td>2016</td>\n",
       "      <td>5</td>\n",
       "      <td>6</td>\n",
       "      <td>11</td>\n",
       "    </tr>\n",
       "  </tbody>\n",
       "</table>\n",
       "</div>"
      ],
      "text/plain": [
       "                                                    Title  \\\n",
       "IDLink                                                      \n",
       "46462   Get a $50 Microsoft Store gift card with Xbox ...   \n",
       "46791                 Flow is Microsoft’s answer to IFTTT   \n",
       "\n",
       "                                                 Headline  \\\n",
       "IDLink                                                      \n",
       "46462   The $50 discount for the Xbox One is no longer...   \n",
       "46791   IFTTT (If This Then That) is looking at big co...   \n",
       "\n",
       "                                Source         PublishDate  SentimentTitle  \\\n",
       "IDLink                                                                       \n",
       "46462                  Windows Central 2016-05-01 08:47:22       -0.096466   \n",
       "46791   Digital Trends via Yahoo! News 2016-05-01 11:10:00        0.010499   \n",
       "\n",
       "        SentimentHeadline  Facebook  GooglePlus  LinkedIn  Year  Month  \\\n",
       "IDLink                                                                   \n",
       "46462           -0.029167         9           2         1  2016      5   \n",
       "46791            0.089970         0           0         0  2016      5   \n",
       "\n",
       "        DayOfWeek  Hour  \n",
       "IDLink                   \n",
       "46462           6     8  \n",
       "46791           6    11  "
      ]
     },
     "execution_count": 93,
     "metadata": {},
     "output_type": "execute_result"
    }
   ],
   "source": [
    "news_new.head(2)"
   ]
  },
  {
   "cell_type": "code",
   "execution_count": 94,
   "metadata": {},
   "outputs": [],
   "source": [
    "from sklearn.neighbors import NearestNeighbors"
   ]
  },
  {
   "cell_type": "code",
   "execution_count": 95,
   "metadata": {},
   "outputs": [
    {
     "data": {
      "text/html": [
       "<div>\n",
       "<style scoped>\n",
       "    .dataframe tbody tr th:only-of-type {\n",
       "        vertical-align: middle;\n",
       "    }\n",
       "\n",
       "    .dataframe tbody tr th {\n",
       "        vertical-align: top;\n",
       "    }\n",
       "\n",
       "    .dataframe thead th {\n",
       "        text-align: right;\n",
       "    }\n",
       "</style>\n",
       "<table border=\"1\" class=\"dataframe\">\n",
       "  <thead>\n",
       "    <tr style=\"text-align: right;\">\n",
       "      <th></th>\n",
       "      <th>Title</th>\n",
       "      <th>Headline</th>\n",
       "      <th>Source</th>\n",
       "      <th>SentimentTitle</th>\n",
       "      <th>SentimentHeadline</th>\n",
       "      <th>Facebook</th>\n",
       "      <th>GooglePlus</th>\n",
       "      <th>LinkedIn</th>\n",
       "      <th>Year</th>\n",
       "      <th>Month</th>\n",
       "      <th>DayOfWeek</th>\n",
       "      <th>Hour</th>\n",
       "    </tr>\n",
       "    <tr>\n",
       "      <th>IDLink</th>\n",
       "      <th></th>\n",
       "      <th></th>\n",
       "      <th></th>\n",
       "      <th></th>\n",
       "      <th></th>\n",
       "      <th></th>\n",
       "      <th></th>\n",
       "      <th></th>\n",
       "      <th></th>\n",
       "      <th></th>\n",
       "      <th></th>\n",
       "      <th></th>\n",
       "    </tr>\n",
       "  </thead>\n",
       "  <tbody>\n",
       "    <tr>\n",
       "      <th>46462</th>\n",
       "      <td>Get a $50 Microsoft Store gift card with Xbox ...</td>\n",
       "      <td>The $50 discount for the Xbox One is no longer...</td>\n",
       "      <td>Windows Central</td>\n",
       "      <td>-0.096466</td>\n",
       "      <td>-0.029167</td>\n",
       "      <td>9</td>\n",
       "      <td>2</td>\n",
       "      <td>1</td>\n",
       "      <td>2016</td>\n",
       "      <td>5</td>\n",
       "      <td>6</td>\n",
       "      <td>8</td>\n",
       "    </tr>\n",
       "  </tbody>\n",
       "</table>\n",
       "</div>"
      ],
      "text/plain": [
       "                                                    Title  \\\n",
       "IDLink                                                      \n",
       "46462   Get a $50 Microsoft Store gift card with Xbox ...   \n",
       "\n",
       "                                                 Headline           Source  \\\n",
       "IDLink                                                                       \n",
       "46462   The $50 discount for the Xbox One is no longer...  Windows Central   \n",
       "\n",
       "        SentimentTitle  SentimentHeadline  Facebook  GooglePlus  LinkedIn  \\\n",
       "IDLink                                                                      \n",
       "46462        -0.096466          -0.029167         9           2         1   \n",
       "\n",
       "        Year  Month  DayOfWeek  Hour  \n",
       "IDLink                                \n",
       "46462   2016      5          6     8  "
      ]
     },
     "execution_count": 95,
     "metadata": {},
     "output_type": "execute_result"
    }
   ],
   "source": [
    "df_test=df_topic.copy()\n",
    "df_test"
   ]
  },
  {
   "cell_type": "code",
   "execution_count": 96,
   "metadata": {},
   "outputs": [],
   "source": [
    "S1 = pd.DataFrame(df_sims_sorted_large['Source'])\n",
    "S1_rename = S1.reset_index()\n",
    "\n",
    "S1_rename = S1_rename.rename(columns={'members':'Source'})\n",
    "S1_count = S1_rename.groupby('Source')['Source'].count()\n",
    "S1_count = S1_count.to_frame()\n",
    "S1_count = S1_count.rename(columns={'Source':'Count'})\n",
    "S1_count = S1_count.reset_index()\n",
    "df_test\n",
    "df_test = pd.merge(df_test, S1_count, on='Source', how='left')\n",
    "index = list(range(len(S1_count)))\n",
    "index\n",
    "S1_count['Category'] = index\n",
    "S1_count = pd.merge(S1_rename, S1_count, on='Source', how='left')\n",
    "max = S1_count['Count'].max()\n",
    "S1_count['CountNorm'] = S1_count['Count']/max\n",
    "df_test['CountNorm'] = df_test['Count']/max\n"
   ]
  },
  {
   "cell_type": "code",
   "execution_count": null,
   "metadata": {},
   "outputs": [],
   "source": []
  },
  {
   "cell_type": "markdown",
   "metadata": {},
   "source": [
    "# 1. Facebook. Use KNN to predict the popularity of a given news on Facebook.\n",
    "#    Facebook prediction: 13, Compare to actual value: 9"
   ]
  },
  {
   "cell_type": "code",
   "execution_count": 97,
   "metadata": {},
   "outputs": [
    {
     "data": {
      "text/html": [
       "<div>\n",
       "<style scoped>\n",
       "    .dataframe tbody tr th:only-of-type {\n",
       "        vertical-align: middle;\n",
       "    }\n",
       "\n",
       "    .dataframe tbody tr th {\n",
       "        vertical-align: top;\n",
       "    }\n",
       "\n",
       "    .dataframe thead th {\n",
       "        text-align: right;\n",
       "    }\n",
       "</style>\n",
       "<table border=\"1\" class=\"dataframe\">\n",
       "  <thead>\n",
       "    <tr style=\"text-align: right;\">\n",
       "      <th></th>\n",
       "      <th>index</th>\n",
       "      <th>Facebook</th>\n",
       "      <th>FacebookNorm</th>\n",
       "    </tr>\n",
       "  </thead>\n",
       "  <tbody>\n",
       "    <tr>\n",
       "      <th>0</th>\n",
       "      <td>606</td>\n",
       "      <td>9</td>\n",
       "      <td>0.002349</td>\n",
       "    </tr>\n",
       "    <tr>\n",
       "      <th>1</th>\n",
       "      <td>705</td>\n",
       "      <td>0</td>\n",
       "      <td>0.000000</td>\n",
       "    </tr>\n",
       "    <tr>\n",
       "      <th>2</th>\n",
       "      <td>440</td>\n",
       "      <td>106</td>\n",
       "      <td>0.027662</td>\n",
       "    </tr>\n",
       "    <tr>\n",
       "      <th>3</th>\n",
       "      <td>106</td>\n",
       "      <td>2</td>\n",
       "      <td>0.000522</td>\n",
       "    </tr>\n",
       "    <tr>\n",
       "      <th>4</th>\n",
       "      <td>308</td>\n",
       "      <td>20</td>\n",
       "      <td>0.005219</td>\n",
       "    </tr>\n",
       "  </tbody>\n",
       "</table>\n",
       "</div>"
      ],
      "text/plain": [
       "   index  Facebook  FacebookNorm\n",
       "0    606         9      0.002349\n",
       "1    705         0      0.000000\n",
       "2    440       106      0.027662\n",
       "3    106         2      0.000522\n",
       "4    308        20      0.005219"
      ]
     },
     "execution_count": 97,
     "metadata": {},
     "output_type": "execute_result"
    }
   ],
   "source": [
    "FB = pd.DataFrame(df_sims_sorted_large['Facebook'])\n",
    "FB = FB.rename(columns={'split':'Facebook'})\n",
    "max = FB['Facebook'].max()\n",
    "FB['FacebookNorm'] = FB['Facebook'].apply(lambda s: s/max)\n",
    "df_test['FacebookNorm'] = df_test['Facebook'].apply(lambda s: s/max)\n",
    "FB_rename = FB.reset_index()\n",
    "FB_rename.head(5)"
   ]
  },
  {
   "cell_type": "code",
   "execution_count": 98,
   "metadata": {},
   "outputs": [],
   "source": [
    "S1 = pd.DataFrame(list(S1_count['CountNorm']))\n",
    "S1.to_numpy()\n",
    "S2 = pd.DataFrame(list(df_sims_sorted_large['SentimentTitle']))\n",
    "S2.to_numpy()\n",
    "S3 = pd.DataFrame(list(df_sims_sorted_large['SentimentHeadline']))\n",
    "S3.to_numpy()\n",
    "S4 = pd.DataFrame(list(FB_rename['FacebookNorm']))\n",
    "XX= np.append(S1,S2,axis=1)\n",
    "XX = np.append(XX,S3,axis=1)\n",
    "XX = np.append(XX,S4,axis=1)\n",
    "nbrs_fb = NearestNeighbors(n_neighbors=2, algorithm='ball_tree').fit(XX)\n",
    "distances, indices = nbrs_fb.kneighbors(XX)\n",
    "knn = pd.DataFrame(indices)\n",
    "knn = knn.rename(columns={1:'NeighborID',0:'NodeID'})\n",
    "knn['distance'] = pd.DataFrame(distances)[1]\n",
    "knn['index'] = list(df_sims_sorted_large['index'])\n",
    "knn['Facebook']=list(FB_rename['Facebook'])\n",
    "knn['FacebookNorm']=list(FB_rename['FacebookNorm'])\n",
    "knn['CountNorm']=list(S1_count['CountNorm'])"
   ]
  },
  {
   "cell_type": "code",
   "execution_count": 99,
   "metadata": {},
   "outputs": [
    {
     "data": {
      "text/plain": [
       "<AxesSubplot:xlabel='NodeID', ylabel='distance'>"
      ]
     },
     "execution_count": 99,
     "metadata": {},
     "output_type": "execute_result"
    },
    {
     "data": {
      "image/png": "[encoded data removed]",
      "text/plain": [
       "<Figure size 432x288 with 1 Axes>"
      ]
     },
     "metadata": {
      "needs_background": "light"
     },
     "output_type": "display_data"
    }
   ],
   "source": [
    "knn.plot.scatter(x='NodeID', y='distance')"
   ]
  },
  {
   "cell_type": "code",
   "execution_count": 100,
   "metadata": {},
   "outputs": [
    {
     "data": {
      "text/plain": [
       "<AxesSubplot:xlabel='distance', ylabel='Facebook'>"
      ]
     },
     "execution_count": 100,
     "metadata": {},
     "output_type": "execute_result"
    },
    {
     "data": {
      "image/png": "[encoded data removed]",
      "text/plain": [
       "<Figure size 432x288 with 1 Axes>"
      ]
     },
     "metadata": {
      "needs_background": "light"
     },
     "output_type": "display_data"
    }
   ],
   "source": [
    "knn.plot.scatter(x='distance', y='Facebook')"
   ]
  },
  {
   "cell_type": "code",
   "execution_count": 101,
   "metadata": {},
   "outputs": [
    {
     "data": {
      "text/html": [
       "<div>\n",
       "<style scoped>\n",
       "    .dataframe tbody tr th:only-of-type {\n",
       "        vertical-align: middle;\n",
       "    }\n",
       "\n",
       "    .dataframe tbody tr th {\n",
       "        vertical-align: top;\n",
       "    }\n",
       "\n",
       "    .dataframe thead th {\n",
       "        text-align: right;\n",
       "    }\n",
       "</style>\n",
       "<table border=\"1\" class=\"dataframe\">\n",
       "  <thead>\n",
       "    <tr style=\"text-align: right;\">\n",
       "      <th></th>\n",
       "      <th>NodeID</th>\n",
       "      <th>NeighborID</th>\n",
       "      <th>distance</th>\n",
       "      <th>index</th>\n",
       "      <th>Facebook</th>\n",
       "      <th>FacebookNorm</th>\n",
       "      <th>CountNorm</th>\n",
       "      <th>IDLink</th>\n",
       "      <th>Title</th>\n",
       "      <th>Headline</th>\n",
       "      <th>Source</th>\n",
       "      <th>SentimentTitle</th>\n",
       "      <th>SentimentHeadline</th>\n",
       "      <th>GooglePlus</th>\n",
       "      <th>LinkedIn</th>\n",
       "      <th>Year</th>\n",
       "      <th>Month</th>\n",
       "      <th>DayOfWeek</th>\n",
       "      <th>Hour</th>\n",
       "      <th>similarity</th>\n",
       "    </tr>\n",
       "  </thead>\n",
       "  <tbody>\n",
       "    <tr>\n",
       "      <th>7</th>\n",
       "      <td>7</td>\n",
       "      <td>175</td>\n",
       "      <td>0.039098</td>\n",
       "      <td>5915</td>\n",
       "      <td>5</td>\n",
       "      <td>0.001305</td>\n",
       "      <td>0.380952</td>\n",
       "      <td>32113</td>\n",
       "      <td>Microsoft launches two limited edition shadow ...</td>\n",
       "      <td>Xbox One owners who are looking for a little c...</td>\n",
       "      <td>Windows Central</td>\n",
       "      <td>0.041667</td>\n",
       "      <td>0.032146</td>\n",
       "      <td>1</td>\n",
       "      <td>0</td>\n",
       "      <td>2016</td>\n",
       "      <td>3</td>\n",
       "      <td>3</td>\n",
       "      <td>15</td>\n",
       "      <td>0.999726</td>\n",
       "    </tr>\n",
       "    <tr>\n",
       "      <th>11</th>\n",
       "      <td>11</td>\n",
       "      <td>122</td>\n",
       "      <td>0.035653</td>\n",
       "      <td>765</td>\n",
       "      <td>11</td>\n",
       "      <td>0.002871</td>\n",
       "      <td>0.380952</td>\n",
       "      <td>4463</td>\n",
       "      <td>Popular Microsoft Band app Fanband gets update...</td>\n",
       "      <td>Fanband is a one stop shop for a broad range o...</td>\n",
       "      <td>Windows Central</td>\n",
       "      <td>0.000000</td>\n",
       "      <td>-0.175687</td>\n",
       "      <td>2</td>\n",
       "      <td>1</td>\n",
       "      <td>2015</td>\n",
       "      <td>11</td>\n",
       "      <td>1</td>\n",
       "      <td>19</td>\n",
       "      <td>0.999471</td>\n",
       "    </tr>\n",
       "    <tr>\n",
       "      <th>66</th>\n",
       "      <td>67</td>\n",
       "      <td>234</td>\n",
       "      <td>0.008356</td>\n",
       "      <td>914</td>\n",
       "      <td>40</td>\n",
       "      <td>0.010438</td>\n",
       "      <td>0.380952</td>\n",
       "      <td>5377</td>\n",
       "      <td>Microsoft Chatpad review: A small, sleek keybo...</td>\n",
       "      <td>It's a hard product to recommend, especially n...</td>\n",
       "      <td>Windows Central</td>\n",
       "      <td>-0.306346</td>\n",
       "      <td>-0.094917</td>\n",
       "      <td>2</td>\n",
       "      <td>2</td>\n",
       "      <td>2015</td>\n",
       "      <td>11</td>\n",
       "      <td>6</td>\n",
       "      <td>15</td>\n",
       "      <td>0.994888</td>\n",
       "    </tr>\n",
       "    <tr>\n",
       "      <th>75</th>\n",
       "      <td>77</td>\n",
       "      <td>176</td>\n",
       "      <td>0.025963</td>\n",
       "      <td>4724</td>\n",
       "      <td>10</td>\n",
       "      <td>0.002610</td>\n",
       "      <td>0.380952</td>\n",
       "      <td>26263</td>\n",
       "      <td>Microsoft is retiring the Skype Qik video mess...</td>\n",
       "      <td>One of Microsoft's Skype spinoffs, Skype Qik, ...</td>\n",
       "      <td>Windows Central</td>\n",
       "      <td>-0.075378</td>\n",
       "      <td>0.015379</td>\n",
       "      <td>35</td>\n",
       "      <td>1</td>\n",
       "      <td>2016</td>\n",
       "      <td>2</td>\n",
       "      <td>0</td>\n",
       "      <td>18</td>\n",
       "      <td>0.993232</td>\n",
       "    </tr>\n",
       "    <tr>\n",
       "      <th>172</th>\n",
       "      <td>175</td>\n",
       "      <td>187</td>\n",
       "      <td>0.034428</td>\n",
       "      <td>1840</td>\n",
       "      <td>8</td>\n",
       "      <td>0.002088</td>\n",
       "      <td>0.380952</td>\n",
       "      <td>9993</td>\n",
       "      <td>GamerBand puts your Xbox Avatar on your Micros...</td>\n",
       "      <td>GamerBand is a Windows Phone app that lets you...</td>\n",
       "      <td>Windows Central</td>\n",
       "      <td>0.041667</td>\n",
       "      <td>-0.006944</td>\n",
       "      <td>2</td>\n",
       "      <td>1</td>\n",
       "      <td>2015</td>\n",
       "      <td>12</td>\n",
       "      <td>3</td>\n",
       "      <td>13</td>\n",
       "      <td>0.972933</td>\n",
       "    </tr>\n",
       "    <tr>\n",
       "      <th>173</th>\n",
       "      <td>176</td>\n",
       "      <td>24</td>\n",
       "      <td>0.020369</td>\n",
       "      <td>1350</td>\n",
       "      <td>29</td>\n",
       "      <td>0.007568</td>\n",
       "      <td>0.380952</td>\n",
       "      <td>7558</td>\n",
       "      <td>Microsoft sends out free Xbox gift codes as pa...</td>\n",
       "      <td>In 2010, Microsoft began its Xbox Live Rewards...</td>\n",
       "      <td>Windows Central</td>\n",
       "      <td>-0.065152</td>\n",
       "      <td>-0.007964</td>\n",
       "      <td>3</td>\n",
       "      <td>1</td>\n",
       "      <td>2015</td>\n",
       "      <td>12</td>\n",
       "      <td>0</td>\n",
       "      <td>16</td>\n",
       "      <td>0.972640</td>\n",
       "    </tr>\n",
       "    <tr>\n",
       "      <th>202</th>\n",
       "      <td>205</td>\n",
       "      <td>187</td>\n",
       "      <td>0.050437</td>\n",
       "      <td>1636</td>\n",
       "      <td>11</td>\n",
       "      <td>0.002871</td>\n",
       "      <td>0.380952</td>\n",
       "      <td>8875</td>\n",
       "      <td>Microsoft is currently dealing with Xbox Live ...</td>\n",
       "      <td>If you are having problems finding friends on ...</td>\n",
       "      <td>Windows Central</td>\n",
       "      <td>0.076861</td>\n",
       "      <td>-0.050391</td>\n",
       "      <td>3</td>\n",
       "      <td>1</td>\n",
       "      <td>2015</td>\n",
       "      <td>12</td>\n",
       "      <td>5</td>\n",
       "      <td>21</td>\n",
       "      <td>0.964925</td>\n",
       "    </tr>\n",
       "    <tr>\n",
       "      <th>231</th>\n",
       "      <td>234</td>\n",
       "      <td>67</td>\n",
       "      <td>0.008356</td>\n",
       "      <td>5096</td>\n",
       "      <td>24</td>\n",
       "      <td>0.006263</td>\n",
       "      <td>0.380952</td>\n",
       "      <td>28239</td>\n",
       "      <td>Microsoft's Xbox head hints Xbox One could get...</td>\n",
       "      <td>If you own a Xbox One, you might be able to up...</td>\n",
       "      <td>Windows Central</td>\n",
       "      <td>-0.303315</td>\n",
       "      <td>-0.101490</td>\n",
       "      <td>5</td>\n",
       "      <td>0</td>\n",
       "      <td>2016</td>\n",
       "      <td>3</td>\n",
       "      <td>1</td>\n",
       "      <td>15</td>\n",
       "      <td>0.956210</td>\n",
       "    </tr>\n",
       "  </tbody>\n",
       "</table>\n",
       "</div>"
      ],
      "text/plain": [
       "     NodeID  NeighborID  distance  index  Facebook  FacebookNorm  CountNorm  \\\n",
       "7         7         175  0.039098   5915         5      0.001305   0.380952   \n",
       "11       11         122  0.035653    765        11      0.002871   0.380952   \n",
       "66       67         234  0.008356    914        40      0.010438   0.380952   \n",
       "75       77         176  0.025963   4724        10      0.002610   0.380952   \n",
       "172     175         187  0.034428   1840         8      0.002088   0.380952   \n",
       "173     176          24  0.020369   1350        29      0.007568   0.380952   \n",
       "202     205         187  0.050437   1636        11      0.002871   0.380952   \n",
       "231     234          67  0.008356   5096        24      0.006263   0.380952   \n",
       "\n",
       "     IDLink                                              Title  \\\n",
       "7     32113  Microsoft launches two limited edition shadow ...   \n",
       "11     4463  Popular Microsoft Band app Fanband gets update...   \n",
       "66     5377  Microsoft Chatpad review: A small, sleek keybo...   \n",
       "75    26263  Microsoft is retiring the Skype Qik video mess...   \n",
       "172    9993  GamerBand puts your Xbox Avatar on your Micros...   \n",
       "173    7558  Microsoft sends out free Xbox gift codes as pa...   \n",
       "202    8875  Microsoft is currently dealing with Xbox Live ...   \n",
       "231   28239  Microsoft's Xbox head hints Xbox One could get...   \n",
       "\n",
       "                                              Headline           Source  \\\n",
       "7    Xbox One owners who are looking for a little c...  Windows Central   \n",
       "11   Fanband is a one stop shop for a broad range o...  Windows Central   \n",
       "66   It's a hard product to recommend, especially n...  Windows Central   \n",
       "75   One of Microsoft's Skype spinoffs, Skype Qik, ...  Windows Central   \n",
       "172  GamerBand is a Windows Phone app that lets you...  Windows Central   \n",
       "173  In 2010, Microsoft began its Xbox Live Rewards...  Windows Central   \n",
       "202  If you are having problems finding friends on ...  Windows Central   \n",
       "231  If you own a Xbox One, you might be able to up...  Windows Central   \n",
       "\n",
       "     SentimentTitle  SentimentHeadline  GooglePlus  LinkedIn  Year  Month  \\\n",
       "7          0.041667           0.032146           1         0  2016      3   \n",
       "11         0.000000          -0.175687           2         1  2015     11   \n",
       "66        -0.306346          -0.094917           2         2  2015     11   \n",
       "75        -0.075378           0.015379          35         1  2016      2   \n",
       "172        0.041667          -0.006944           2         1  2015     12   \n",
       "173       -0.065152          -0.007964           3         1  2015     12   \n",
       "202        0.076861          -0.050391           3         1  2015     12   \n",
       "231       -0.303315          -0.101490           5         0  2016      3   \n",
       "\n",
       "     DayOfWeek  Hour  similarity  \n",
       "7            3    15    0.999726  \n",
       "11           1    19    0.999471  \n",
       "66           6    15    0.994888  \n",
       "75           0    18    0.993232  \n",
       "172          3    13    0.972933  \n",
       "173          0    16    0.972640  \n",
       "202          5    21    0.964925  \n",
       "231          1    15    0.956210  "
      ]
     },
     "execution_count": 101,
     "metadata": {},
     "output_type": "execute_result"
    }
   ],
   "source": [
    "df_knn_small = knn[knn['distance']<0.3]\n",
    "df_knn_small = pd.merge(df_knn_small, df_sims_sorted_large, on=['index','Facebook'])\n",
    "df_knn_small[df_knn_small['Source']=='Windows Central']"
   ]
  },
  {
   "cell_type": "code",
   "execution_count": 102,
   "metadata": {},
   "outputs": [
    {
     "data": {
      "text/html": [
       "<div>\n",
       "<style scoped>\n",
       "    .dataframe tbody tr th:only-of-type {\n",
       "        vertical-align: middle;\n",
       "    }\n",
       "\n",
       "    .dataframe tbody tr th {\n",
       "        vertical-align: top;\n",
       "    }\n",
       "\n",
       "    .dataframe thead th {\n",
       "        text-align: right;\n",
       "    }\n",
       "</style>\n",
       "<table border=\"1\" class=\"dataframe\">\n",
       "  <thead>\n",
       "    <tr style=\"text-align: right;\">\n",
       "      <th></th>\n",
       "      <th>Title</th>\n",
       "      <th>Headline</th>\n",
       "      <th>Source</th>\n",
       "      <th>SentimentTitle</th>\n",
       "      <th>SentimentHeadline</th>\n",
       "      <th>Facebook</th>\n",
       "      <th>GooglePlus</th>\n",
       "      <th>LinkedIn</th>\n",
       "      <th>Year</th>\n",
       "      <th>Month</th>\n",
       "      <th>DayOfWeek</th>\n",
       "      <th>Hour</th>\n",
       "    </tr>\n",
       "    <tr>\n",
       "      <th>IDLink</th>\n",
       "      <th></th>\n",
       "      <th></th>\n",
       "      <th></th>\n",
       "      <th></th>\n",
       "      <th></th>\n",
       "      <th></th>\n",
       "      <th></th>\n",
       "      <th></th>\n",
       "      <th></th>\n",
       "      <th></th>\n",
       "      <th></th>\n",
       "      <th></th>\n",
       "    </tr>\n",
       "  </thead>\n",
       "  <tbody>\n",
       "    <tr>\n",
       "      <th>46462</th>\n",
       "      <td>Get a $50 Microsoft Store gift card with Xbox ...</td>\n",
       "      <td>The $50 discount for the Xbox One is no longer...</td>\n",
       "      <td>Windows Central</td>\n",
       "      <td>-0.096466</td>\n",
       "      <td>-0.029167</td>\n",
       "      <td>9</td>\n",
       "      <td>2</td>\n",
       "      <td>1</td>\n",
       "      <td>2016</td>\n",
       "      <td>5</td>\n",
       "      <td>6</td>\n",
       "      <td>8</td>\n",
       "    </tr>\n",
       "  </tbody>\n",
       "</table>\n",
       "</div>"
      ],
      "text/plain": [
       "                                                    Title  \\\n",
       "IDLink                                                      \n",
       "46462   Get a $50 Microsoft Store gift card with Xbox ...   \n",
       "\n",
       "                                                 Headline           Source  \\\n",
       "IDLink                                                                       \n",
       "46462   The $50 discount for the Xbox One is no longer...  Windows Central   \n",
       "\n",
       "        SentimentTitle  SentimentHeadline  Facebook  GooglePlus  LinkedIn  \\\n",
       "IDLink                                                                      \n",
       "46462        -0.096466          -0.029167         9           2         1   \n",
       "\n",
       "        Year  Month  DayOfWeek  Hour  \n",
       "IDLink                                \n",
       "46462   2016      5          6     8  "
      ]
     },
     "execution_count": 102,
     "metadata": {},
     "output_type": "execute_result"
    }
   ],
   "source": [
    "df_topic"
   ]
  },
  {
   "cell_type": "code",
   "execution_count": 103,
   "metadata": {},
   "outputs": [
    {
     "name": "stdout",
     "output_type": "stream",
     "text": [
      "0.6398082274416431 0.6793906502330622 0.5940994403619315\n"
     ]
    }
   ],
   "source": [
    "info_title_facebook=information_gain(df_knn_small['SentimentTitle'],df_knn_small['Facebook'])\n",
    "info_headline_facebook=information_gain(df_knn_small['SentimentHeadline'],df_knn_small['Facebook'])\n",
    "info_source_facebook=information_gain(df_knn_small['Source'],df_knn_small['Facebook'])\n",
    "print(info_title_facebook, info_headline_facebook,info_source_facebook)"
   ]
  },
  {
   "cell_type": "markdown",
   "metadata": {},
   "source": [
    "# After sample selection"
   ]
  },
  {
   "cell_type": "code",
   "execution_count": 104,
   "metadata": {},
   "outputs": [
    {
     "name": "stdout",
     "output_type": "stream",
     "text": [
      "Predicted as : 13 , Actual Score : 9\n"
     ]
    }
   ],
   "source": [
    "\n",
    "from sklearn.neighbors import KNeighborsClassifier \n",
    "from sklearn.model_selection import train_test_split \n",
    "\n",
    "\n",
    "\n",
    "S1 = pd.DataFrame(list(df_knn_small['CountNorm']))\n",
    "\n",
    "S2 = pd.DataFrame(list(df_knn_small['SentimentTitle']))\n",
    "\n",
    "S3 = pd.DataFrame(list(df_knn_small['SentimentHeadline']))\n",
    "\n",
    "S4 = df_knn_small['Facebook']\n",
    "\n",
    "\n",
    "X= np.append(S1,S2,axis=1)\n",
    "X = np.append(X,S3,axis=1)\n",
    "y = S4.values\n",
    "\n",
    "knn = KNeighborsClassifier(n_neighbors=2) \n",
    "\n",
    "\n",
    "knn.fit(X, y) \n",
    "\n",
    "S1 = pd.DataFrame(list(df_test['CountNorm']))\n",
    "S2 = pd.DataFrame(list(df_test['SentimentTitle']))\n",
    "S3 = pd.DataFrame(list(df_test['SentimentHeadline']))\n",
    "S4 = df_test['Facebook']\n",
    "\n",
    "\n",
    "X_test= np.append(S1,S2,axis=1)\n",
    "X_test = np.append(X_test,S3,axis=1)\n",
    "y_test = S4\n",
    "\n",
    "# Calculate the accuracy of the model \n",
    "#print(knn.score(X_train, y_train)) \n",
    "\n",
    "print(\"Predicted as :\", knn.predict(X_test)[0], \", Actual Score :\", y_test.values[0]) "
   ]
  },
  {
   "cell_type": "code",
   "execution_count": 105,
   "metadata": {},
   "outputs": [
    {
     "name": "stdout",
     "output_type": "stream",
     "text": [
      "(array([[0.01873162, 0.03781624]]), array([[ 24, 173]]))\n"
     ]
    }
   ],
   "source": [
    "print(knn.kneighbors(X_test))"
   ]
  },
  {
   "cell_type": "code",
   "execution_count": 109,
   "metadata": {},
   "outputs": [],
   "source": [
    "\n",
    "knn_visual_facebook = df_knn_small[24:25]\n",
    "knn_visual_facebook = knn_visual_facebook.append(df_knn_small[173:174])\n"
   ]
  },
  {
   "cell_type": "code",
   "execution_count": 110,
   "metadata": {},
   "outputs": [
    {
     "data": {
      "text/plain": [
       "<AxesSubplot:xlabel='distance', ylabel='Facebook'>"
      ]
     },
     "execution_count": 110,
     "metadata": {},
     "output_type": "execute_result"
    },
    {
     "data": {
      "image/png": "[encoded data removed]",
      "text/plain": [
       "<Figure size 432x288 with 1 Axes>"
      ]
     },
     "metadata": {
      "needs_background": "light"
     },
     "output_type": "display_data"
    }
   ],
   "source": [
    "knn_visual_facebook.plot.scatter(x='distance', y='Facebook')"
   ]
  },
  {
   "cell_type": "code",
   "execution_count": 111,
   "metadata": {},
   "outputs": [
    {
     "name": "stdout",
     "output_type": "stream",
     "text": [
      "Facebook prediction: 21.0 , Compare to actual value: 9\n"
     ]
    }
   ],
   "source": [
    "print(\"Facebook prediction:\", knn_visual_facebook['Facebook'].mean(),\", Compare to actual value:\", df_test['Facebook'].values[0])"
   ]
  },
  {
   "cell_type": "markdown",
   "metadata": {},
   "source": [
    "# 2. Google Plus: use KNN to predict Popularity\n",
    "# GooglePlus prediction: 0, Compare to actual value: 2"
   ]
  },
  {
   "cell_type": "code",
   "execution_count": 112,
   "metadata": {},
   "outputs": [],
   "source": [
    "GP = pd.DataFrame(df_sims_sorted_large['GooglePlus'])\n",
    "GP = GP.rename(columns={'split':'GooglePlus'})\n",
    "max = GP['GooglePlus'].max()\n",
    "GP['GooglePlusNorm'] = GP['GooglePlus'].apply(lambda s: s/max)\n",
    "GP_rename = GP.reset_index()\n",
    "df_test['GooglePlusNorm'] = df_test['GooglePlus'].apply(lambda s: s/max)"
   ]
  },
  {
   "cell_type": "code",
   "execution_count": 113,
   "metadata": {},
   "outputs": [],
   "source": [
    "S1 = pd.DataFrame(list(S1_count['CountNorm']))\n",
    "S1.to_numpy()\n",
    "S2 = pd.DataFrame(list(df_sims_sorted_large['SentimentTitle']))\n",
    "S2.to_numpy()\n",
    "S3 = pd.DataFrame(list(df_sims_sorted_large['SentimentHeadline']))\n",
    "S3.to_numpy()\n",
    "S4 = pd.DataFrame(list(GP_rename['GooglePlusNorm']))\n",
    "XX= np.append(S1,S2,axis=1)\n",
    "XX = np.append(XX,S3,axis=1)\n",
    "XX = np.append(XX,S4,axis=1)\n",
    "nbrs_gp = NearestNeighbors(n_neighbors=2, algorithm='ball_tree').fit(XX)\n",
    "distances, indices = nbrs_gp.kneighbors(XX)\n",
    "knn = pd.DataFrame(indices)\n",
    "knn = knn.rename(columns={1:'NeighborID',0:'NodeID'})\n",
    "knn['distance'] = pd.DataFrame(distances)[1]\n",
    "knn['index'] = list(df_sims_sorted_large['index'])\n",
    "knn['GooglePlus']=list(GP_rename['GooglePlus'])\n",
    "knn['GooglePlusNorm']=list(GP_rename['GooglePlusNorm'])\n",
    "knn['CountNorm']=list(S1_count['CountNorm'])"
   ]
  },
  {
   "cell_type": "code",
   "execution_count": 114,
   "metadata": {},
   "outputs": [
    {
     "data": {
      "text/plain": [
       "<AxesSubplot:xlabel='NodeID', ylabel='distance'>"
      ]
     },
     "execution_count": 114,
     "metadata": {},
     "output_type": "execute_result"
    },
    {
     "data": {
      "image/png": "[encoded data removed]",
      "text/plain": [
       "<Figure size 432x288 with 1 Axes>"
      ]
     },
     "metadata": {
      "needs_background": "light"
     },
     "output_type": "display_data"
    }
   ],
   "source": [
    "knn.plot.scatter(x='NodeID', y='distance')"
   ]
  },
  {
   "cell_type": "code",
   "execution_count": 115,
   "metadata": {},
   "outputs": [
    {
     "data": {
      "text/plain": [
       "<AxesSubplot:xlabel='distance', ylabel='GooglePlus'>"
      ]
     },
     "execution_count": 115,
     "metadata": {},
     "output_type": "execute_result"
    },
    {
     "data": {
      "image/png": "[encoded data removed]",
      "text/plain": [
       "<Figure size 432x288 with 1 Axes>"
      ]
     },
     "metadata": {
      "needs_background": "light"
     },
     "output_type": "display_data"
    }
   ],
   "source": [
    "knn.plot.scatter(x='distance', y='GooglePlus')"
   ]
  },
  {
   "cell_type": "code",
   "execution_count": 116,
   "metadata": {},
   "outputs": [
    {
     "data": {
      "text/html": [
       "<div>\n",
       "<style scoped>\n",
       "    .dataframe tbody tr th:only-of-type {\n",
       "        vertical-align: middle;\n",
       "    }\n",
       "\n",
       "    .dataframe tbody tr th {\n",
       "        vertical-align: top;\n",
       "    }\n",
       "\n",
       "    .dataframe thead th {\n",
       "        text-align: right;\n",
       "    }\n",
       "</style>\n",
       "<table border=\"1\" class=\"dataframe\">\n",
       "  <thead>\n",
       "    <tr style=\"text-align: right;\">\n",
       "      <th></th>\n",
       "      <th>NodeID</th>\n",
       "      <th>NeighborID</th>\n",
       "      <th>distance</th>\n",
       "      <th>index</th>\n",
       "      <th>GooglePlus</th>\n",
       "      <th>GooglePlusNorm</th>\n",
       "      <th>CountNorm</th>\n",
       "      <th>IDLink</th>\n",
       "      <th>Title</th>\n",
       "      <th>Headline</th>\n",
       "      <th>Source</th>\n",
       "      <th>SentimentTitle</th>\n",
       "      <th>SentimentHeadline</th>\n",
       "      <th>Facebook</th>\n",
       "      <th>LinkedIn</th>\n",
       "      <th>Year</th>\n",
       "      <th>Month</th>\n",
       "      <th>DayOfWeek</th>\n",
       "      <th>Hour</th>\n",
       "      <th>similarity</th>\n",
       "    </tr>\n",
       "  </thead>\n",
       "  <tbody>\n",
       "    <tr>\n",
       "      <th>0</th>\n",
       "      <td>0</td>\n",
       "      <td>136</td>\n",
       "      <td>0.072757</td>\n",
       "      <td>347</td>\n",
       "      <td>1</td>\n",
       "      <td>0.005376</td>\n",
       "      <td>0.190476</td>\n",
       "      <td>2237</td>\n",
       "      <td>Microsoft Teases Xbox Digital Black Friday Dea...</td>\n",
       "      <td>With Black Friday on November 27, we're seeing...</td>\n",
       "      <td>NDTV</td>\n",
       "      <td>-0.041667</td>\n",
       "      <td>-0.275788</td>\n",
       "      <td>9</td>\n",
       "      <td>1</td>\n",
       "      <td>2015</td>\n",
       "      <td>11</td>\n",
       "      <td>0</td>\n",
       "      <td>10</td>\n",
       "      <td>0.999904</td>\n",
       "    </tr>\n",
       "    <tr>\n",
       "      <th>1</th>\n",
       "      <td>1</td>\n",
       "      <td>104</td>\n",
       "      <td>0.172313</td>\n",
       "      <td>2697</td>\n",
       "      <td>0</td>\n",
       "      <td>0.000000</td>\n",
       "      <td>0.190476</td>\n",
       "      <td>15685</td>\n",
       "      <td>Technology Stock Roundup: Dismal Start to 2016</td>\n",
       "      <td>It was a miserable week for tech stocks and a ...</td>\n",
       "      <td>Zacks via Yahoo! Finance</td>\n",
       "      <td>-0.255155</td>\n",
       "      <td>-0.414605</td>\n",
       "      <td>0</td>\n",
       "      <td>0</td>\n",
       "      <td>2016</td>\n",
       "      <td>1</td>\n",
       "      <td>0</td>\n",
       "      <td>7</td>\n",
       "      <td>0.999902</td>\n",
       "    </tr>\n",
       "    <tr>\n",
       "      <th>2</th>\n",
       "      <td>2</td>\n",
       "      <td>133</td>\n",
       "      <td>0.136035</td>\n",
       "      <td>7513</td>\n",
       "      <td>22</td>\n",
       "      <td>0.118280</td>\n",
       "      <td>0.190476</td>\n",
       "      <td>43861</td>\n",
       "      <td>Achievement locked: Microsoft ceases Xbox 360 ...</td>\n",
       "      <td>What's probably most notable about the 360 har...</td>\n",
       "      <td>Ars Technica</td>\n",
       "      <td>-0.051031</td>\n",
       "      <td>0.256770</td>\n",
       "      <td>106</td>\n",
       "      <td>3</td>\n",
       "      <td>2016</td>\n",
       "      <td>4</td>\n",
       "      <td>2</td>\n",
       "      <td>19</td>\n",
       "      <td>0.999813</td>\n",
       "    </tr>\n",
       "    <tr>\n",
       "      <th>3</th>\n",
       "      <td>3</td>\n",
       "      <td>142</td>\n",
       "      <td>0.030717</td>\n",
       "      <td>831</td>\n",
       "      <td>8</td>\n",
       "      <td>0.043011</td>\n",
       "      <td>1.000000</td>\n",
       "      <td>4777</td>\n",
       "      <td>Microsoft reveals their top 14 Xbox 360 backwa...</td>\n",
       "      <td>To help Xbox One owners wrap their head around...</td>\n",
       "      <td>WinBeta</td>\n",
       "      <td>0.000000</td>\n",
       "      <td>-0.056250</td>\n",
       "      <td>2</td>\n",
       "      <td>0</td>\n",
       "      <td>2015</td>\n",
       "      <td>11</td>\n",
       "      <td>3</td>\n",
       "      <td>1</td>\n",
       "      <td>0.999806</td>\n",
       "    </tr>\n",
       "    <tr>\n",
       "      <th>4</th>\n",
       "      <td>4</td>\n",
       "      <td>147</td>\n",
       "      <td>0.017416</td>\n",
       "      <td>4743</td>\n",
       "      <td>0</td>\n",
       "      <td>0.000000</td>\n",
       "      <td>0.571429</td>\n",
       "      <td>26360</td>\n",
       "      <td>Microsoft Monday: Xbox One February Update, Sk...</td>\n",
       "      <td>\"\"\"Microsoft MSFT +1.58% Monday\"\"\" takes a loo...</td>\n",
       "      <td>Forbes</td>\n",
       "      <td>0.000000</td>\n",
       "      <td>0.072739</td>\n",
       "      <td>20</td>\n",
       "      <td>11</td>\n",
       "      <td>2016</td>\n",
       "      <td>2</td>\n",
       "      <td>1</td>\n",
       "      <td>3</td>\n",
       "      <td>0.999782</td>\n",
       "    </tr>\n",
       "  </tbody>\n",
       "</table>\n",
       "</div>"
      ],
      "text/plain": [
       "   NodeID  NeighborID  distance  index  GooglePlus  GooglePlusNorm  CountNorm  \\\n",
       "0       0         136  0.072757    347           1        0.005376   0.190476   \n",
       "1       1         104  0.172313   2697           0        0.000000   0.190476   \n",
       "2       2         133  0.136035   7513          22        0.118280   0.190476   \n",
       "3       3         142  0.030717    831           8        0.043011   1.000000   \n",
       "4       4         147  0.017416   4743           0        0.000000   0.571429   \n",
       "\n",
       "   IDLink                                              Title  \\\n",
       "0    2237  Microsoft Teases Xbox Digital Black Friday Dea...   \n",
       "1   15685     Technology Stock Roundup: Dismal Start to 2016   \n",
       "2   43861  Achievement locked: Microsoft ceases Xbox 360 ...   \n",
       "3    4777  Microsoft reveals their top 14 Xbox 360 backwa...   \n",
       "4   26360  Microsoft Monday: Xbox One February Update, Sk...   \n",
       "\n",
       "                                            Headline  \\\n",
       "0  With Black Friday on November 27, we're seeing...   \n",
       "1  It was a miserable week for tech stocks and a ...   \n",
       "2  What's probably most notable about the 360 har...   \n",
       "3  To help Xbox One owners wrap their head around...   \n",
       "4  \"\"\"Microsoft MSFT +1.58% Monday\"\"\" takes a loo...   \n",
       "\n",
       "                     Source  SentimentTitle  SentimentHeadline  Facebook  \\\n",
       "0                      NDTV       -0.041667          -0.275788         9   \n",
       "1  Zacks via Yahoo! Finance       -0.255155          -0.414605         0   \n",
       "2              Ars Technica       -0.051031           0.256770       106   \n",
       "3                   WinBeta        0.000000          -0.056250         2   \n",
       "4                    Forbes        0.000000           0.072739        20   \n",
       "\n",
       "   LinkedIn  Year  Month  DayOfWeek  Hour  similarity  \n",
       "0         1  2015     11          0    10    0.999904  \n",
       "1         0  2016      1          0     7    0.999902  \n",
       "2         3  2016      4          2    19    0.999813  \n",
       "3         0  2015     11          3     1    0.999806  \n",
       "4        11  2016      2          1     3    0.999782  "
      ]
     },
     "execution_count": 116,
     "metadata": {},
     "output_type": "execute_result"
    }
   ],
   "source": [
    "df_knn_small = knn[knn['distance']<0.3]\n",
    "df_knn_small = pd.merge(df_knn_small, df_sims_sorted_large, on=['index','GooglePlus'])\n",
    "df_knn_small.head(5)"
   ]
  },
  {
   "cell_type": "code",
   "execution_count": 117,
   "metadata": {},
   "outputs": [
    {
     "name": "stdout",
     "output_type": "stream",
     "text": [
      "0.40097066156718736 0.4436270541699723 0.35419191128493044\n"
     ]
    }
   ],
   "source": [
    "info_title_google=information_gain(df_knn_small['SentimentTitle'],df_knn_small['GooglePlus'])\n",
    "info_headline_google=information_gain(df_knn_small['SentimentHeadline'],df_knn_small['GooglePlus'])\n",
    "info_source_google=information_gain(df_knn_small['Source'],df_knn_small['GooglePlus'])\n",
    "print(info_title_google, info_headline_google,info_source_google)"
   ]
  },
  {
   "cell_type": "markdown",
   "metadata": {},
   "source": [
    "# After sample selection, train a classification model to predict popularity"
   ]
  },
  {
   "cell_type": "code",
   "execution_count": 118,
   "metadata": {},
   "outputs": [
    {
     "name": "stdout",
     "output_type": "stream",
     "text": [
      "Predicted as : 0 , Actual Score : 2\n"
     ]
    }
   ],
   "source": [
    "\n",
    "from sklearn.neighbors import KNeighborsClassifier \n",
    "from sklearn.model_selection import train_test_split \n",
    "\n",
    "\n",
    "\n",
    "S1 = pd.DataFrame(list(df_knn_small['CountNorm']))\n",
    "\n",
    "S2 = pd.DataFrame(list(df_knn_small['SentimentTitle']))\n",
    "\n",
    "S3 = pd.DataFrame(list(df_knn_small['SentimentHeadline']))\n",
    "\n",
    "S4 = df_knn_small['GooglePlus']\n",
    "\n",
    "\n",
    "X= np.append(S1,S2,axis=1)\n",
    "X = np.append(X,S3,axis=1)\n",
    "y = S4.values\n",
    "\n",
    "knn = KNeighborsClassifier(n_neighbors=2) \n",
    "\n",
    "\n",
    "knn.fit(X, y) \n",
    "\n",
    "S1 = pd.DataFrame(list(df_test['CountNorm']))\n",
    "S2 = pd.DataFrame(list(df_test['SentimentTitle']))\n",
    "S3 = pd.DataFrame(list(df_test['SentimentHeadline']))\n",
    "S4 = df_test['GooglePlus']\n",
    "\n",
    "\n",
    "X_test= np.append(S1,S2,axis=1)\n",
    "X_test = np.append(X_test,S3,axis=1)\n",
    "y_test = S4\n",
    "\n",
    "# Calculate the accuracy of the model \n",
    "#print(knn.score(X_train, y_train)) \n",
    "\n",
    "print(\"Predicted as :\", knn.predict(X_test)[0], \", Actual Score :\", y_test.values[0]) "
   ]
  },
  {
   "cell_type": "code",
   "execution_count": 119,
   "metadata": {},
   "outputs": [
    {
     "name": "stdout",
     "output_type": "stream",
     "text": [
      "(array([[0.01873162, 0.03781624]]), array([[ 24, 173]]))\n"
     ]
    }
   ],
   "source": [
    "print(knn.kneighbors(X_test))"
   ]
  },
  {
   "cell_type": "code",
   "execution_count": 120,
   "metadata": {},
   "outputs": [],
   "source": [
    "knn_visual_google = df_knn_small[24:25]\n",
    "knn_visual_google = knn_visual_google.append(df_knn_small[173:174])"
   ]
  },
  {
   "cell_type": "code",
   "execution_count": null,
   "metadata": {},
   "outputs": [],
   "source": []
  },
  {
   "cell_type": "code",
   "execution_count": 121,
   "metadata": {},
   "outputs": [
    {
     "data": {
      "text/plain": [
       "<AxesSubplot:xlabel='distance', ylabel='GooglePlus'>"
      ]
     },
     "execution_count": 121,
     "metadata": {},
     "output_type": "execute_result"
    },
    {
     "data": {
      "image/png": "[encoded data removed]",
      "text/plain": [
       "<Figure size 432x288 with 1 Axes>"
      ]
     },
     "metadata": {
      "needs_background": "light"
     },
     "output_type": "display_data"
    }
   ],
   "source": [
    "knn_visual_google.plot.scatter(x='distance', y='GooglePlus')"
   ]
  },
  {
   "cell_type": "code",
   "execution_count": 122,
   "metadata": {},
   "outputs": [
    {
     "name": "stdout",
     "output_type": "stream",
     "text": [
      "GooglePlus prediction: 1.5 , Compare to actual value: 2\n"
     ]
    }
   ],
   "source": [
    "print(\"GooglePlus prediction:\", knn_visual_google['GooglePlus'].mean(),\", Compare to actual value:\", df_test['GooglePlus'].values[0])"
   ]
  },
  {
   "cell_type": "markdown",
   "metadata": {},
   "source": [
    "# 3. LinkedIn. Use KNN to predict Popularity\n",
    "#    LinkedIn prediction: 1, Compare to actual value: 1"
   ]
  },
  {
   "cell_type": "code",
   "execution_count": 123,
   "metadata": {},
   "outputs": [],
   "source": [
    "LI = pd.DataFrame(df_sims_sorted_large['LinkedIn'])\n",
    "LI = LI.rename(columns={'split':'LinkedIn'})\n",
    "max = LI['LinkedIn'].max()\n",
    "LI['LinkedInNorm'] = LI['LinkedIn'].apply(lambda s: s/max)\n",
    "LI_rename = LI.reset_index()\n",
    "df_test['LinkedInNorm'] = df_test['LinkedIn'].apply(lambda s: s/max)"
   ]
  },
  {
   "cell_type": "code",
   "execution_count": 124,
   "metadata": {},
   "outputs": [],
   "source": [
    "S1 = pd.DataFrame(list(S1_count['CountNorm']))\n",
    "S1.to_numpy()\n",
    "S2 = pd.DataFrame(list(df_sims_sorted_large['SentimentTitle']))\n",
    "S2.to_numpy()\n",
    "S3 = pd.DataFrame(list(df_sims_sorted_large['SentimentHeadline']))\n",
    "S3.to_numpy()\n",
    "S4 = pd.DataFrame(list(LI_rename['LinkedInNorm']))\n",
    "XX= np.append(S1,S2,axis=1)\n",
    "XX = np.append(XX,S3,axis=1)\n",
    "XX = np.append(XX,S4,axis=1)\n",
    "nbrs_li = NearestNeighbors(n_neighbors=3, algorithm='ball_tree').fit(XX)\n",
    "distances, indices = nbrs_li.kneighbors(XX)\n",
    "knn = pd.DataFrame(indices)\n",
    "knn = knn.rename(columns={1:'NeighborID',0:'NodeID'})\n",
    "knn['distance'] = pd.DataFrame(distances)[1]\n",
    "knn['index'] = list(df_sims_sorted_large['index'])\n",
    "knn['LinkedIn']=list(LI_rename['LinkedIn'])\n",
    "knn['LinkedInNorm']=list(LI_rename['LinkedInNorm'])\n",
    "knn['CountNorm'] = S1_count['CountNorm']"
   ]
  },
  {
   "cell_type": "code",
   "execution_count": 125,
   "metadata": {},
   "outputs": [
    {
     "data": {
      "text/plain": [
       "<AxesSubplot:xlabel='NodeID', ylabel='distance'>"
      ]
     },
     "execution_count": 125,
     "metadata": {},
     "output_type": "execute_result"
    },
    {
     "data": {
      "image/png": "[encoded data removed]",
      "text/plain": [
       "<Figure size 432x288 with 1 Axes>"
      ]
     },
     "metadata": {
      "needs_background": "light"
     },
     "output_type": "display_data"
    }
   ],
   "source": [
    "knn.plot.scatter(x='NodeID', y='distance')"
   ]
  },
  {
   "cell_type": "code",
   "execution_count": 126,
   "metadata": {},
   "outputs": [
    {
     "data": {
      "text/plain": [
       "<AxesSubplot:xlabel='distance', ylabel='LinkedIn'>"
      ]
     },
     "execution_count": 126,
     "metadata": {},
     "output_type": "execute_result"
    },
    {
     "data": {
      "image/png": "[encoded data removed]",
      "text/plain": [
       "<Figure size 432x288 with 1 Axes>"
      ]
     },
     "metadata": {
      "needs_background": "light"
     },
     "output_type": "display_data"
    }
   ],
   "source": [
    "knn.plot.scatter(x='distance', y='LinkedIn')"
   ]
  },
  {
   "cell_type": "code",
   "execution_count": 127,
   "metadata": {},
   "outputs": [
    {
     "data": {
      "text/html": [
       "<div>\n",
       "<style scoped>\n",
       "    .dataframe tbody tr th:only-of-type {\n",
       "        vertical-align: middle;\n",
       "    }\n",
       "\n",
       "    .dataframe tbody tr th {\n",
       "        vertical-align: top;\n",
       "    }\n",
       "\n",
       "    .dataframe thead th {\n",
       "        text-align: right;\n",
       "    }\n",
       "</style>\n",
       "<table border=\"1\" class=\"dataframe\">\n",
       "  <thead>\n",
       "    <tr style=\"text-align: right;\">\n",
       "      <th></th>\n",
       "      <th>NodeID</th>\n",
       "      <th>NeighborID</th>\n",
       "      <th>2</th>\n",
       "      <th>distance</th>\n",
       "      <th>index</th>\n",
       "      <th>LinkedIn</th>\n",
       "      <th>LinkedInNorm</th>\n",
       "      <th>CountNorm</th>\n",
       "      <th>IDLink</th>\n",
       "      <th>Title</th>\n",
       "      <th>...</th>\n",
       "      <th>Source</th>\n",
       "      <th>SentimentTitle</th>\n",
       "      <th>SentimentHeadline</th>\n",
       "      <th>Facebook</th>\n",
       "      <th>GooglePlus</th>\n",
       "      <th>Year</th>\n",
       "      <th>Month</th>\n",
       "      <th>DayOfWeek</th>\n",
       "      <th>Hour</th>\n",
       "      <th>similarity</th>\n",
       "    </tr>\n",
       "  </thead>\n",
       "  <tbody>\n",
       "    <tr>\n",
       "      <th>0</th>\n",
       "      <td>0</td>\n",
       "      <td>136</td>\n",
       "      <td>226</td>\n",
       "      <td>0.072568</td>\n",
       "      <td>347</td>\n",
       "      <td>1</td>\n",
       "      <td>0.001202</td>\n",
       "      <td>0.190476</td>\n",
       "      <td>2237</td>\n",
       "      <td>Microsoft Teases Xbox Digital Black Friday Dea...</td>\n",
       "      <td>...</td>\n",
       "      <td>NDTV</td>\n",
       "      <td>-0.041667</td>\n",
       "      <td>-0.275788</td>\n",
       "      <td>9</td>\n",
       "      <td>1</td>\n",
       "      <td>2015</td>\n",
       "      <td>11</td>\n",
       "      <td>0</td>\n",
       "      <td>10</td>\n",
       "      <td>0.999904</td>\n",
       "    </tr>\n",
       "    <tr>\n",
       "      <th>1</th>\n",
       "      <td>1</td>\n",
       "      <td>104</td>\n",
       "      <td>215</td>\n",
       "      <td>0.172313</td>\n",
       "      <td>2697</td>\n",
       "      <td>0</td>\n",
       "      <td>0.000000</td>\n",
       "      <td>0.190476</td>\n",
       "      <td>15685</td>\n",
       "      <td>Technology Stock Roundup: Dismal Start to 2016</td>\n",
       "      <td>...</td>\n",
       "      <td>Zacks via Yahoo! Finance</td>\n",
       "      <td>-0.255155</td>\n",
       "      <td>-0.414605</td>\n",
       "      <td>0</td>\n",
       "      <td>0</td>\n",
       "      <td>2016</td>\n",
       "      <td>1</td>\n",
       "      <td>0</td>\n",
       "      <td>7</td>\n",
       "      <td>0.999902</td>\n",
       "    </tr>\n",
       "    <tr>\n",
       "      <th>2</th>\n",
       "      <td>2</td>\n",
       "      <td>133</td>\n",
       "      <td>37</td>\n",
       "      <td>0.083337</td>\n",
       "      <td>7513</td>\n",
       "      <td>3</td>\n",
       "      <td>0.003606</td>\n",
       "      <td>0.190476</td>\n",
       "      <td>43861</td>\n",
       "      <td>Achievement locked: Microsoft ceases Xbox 360 ...</td>\n",
       "      <td>...</td>\n",
       "      <td>Ars Technica</td>\n",
       "      <td>-0.051031</td>\n",
       "      <td>0.256770</td>\n",
       "      <td>106</td>\n",
       "      <td>22</td>\n",
       "      <td>2016</td>\n",
       "      <td>4</td>\n",
       "      <td>2</td>\n",
       "      <td>19</td>\n",
       "      <td>0.999813</td>\n",
       "    </tr>\n",
       "    <tr>\n",
       "      <th>3</th>\n",
       "      <td>3</td>\n",
       "      <td>142</td>\n",
       "      <td>210</td>\n",
       "      <td>0.021966</td>\n",
       "      <td>831</td>\n",
       "      <td>0</td>\n",
       "      <td>0.000000</td>\n",
       "      <td>1.000000</td>\n",
       "      <td>4777</td>\n",
       "      <td>Microsoft reveals their top 14 Xbox 360 backwa...</td>\n",
       "      <td>...</td>\n",
       "      <td>WinBeta</td>\n",
       "      <td>0.000000</td>\n",
       "      <td>-0.056250</td>\n",
       "      <td>2</td>\n",
       "      <td>8</td>\n",
       "      <td>2015</td>\n",
       "      <td>11</td>\n",
       "      <td>3</td>\n",
       "      <td>1</td>\n",
       "      <td>0.999806</td>\n",
       "    </tr>\n",
       "    <tr>\n",
       "      <th>4</th>\n",
       "      <td>4</td>\n",
       "      <td>147</td>\n",
       "      <td>111</td>\n",
       "      <td>0.019784</td>\n",
       "      <td>4743</td>\n",
       "      <td>11</td>\n",
       "      <td>0.013221</td>\n",
       "      <td>0.571429</td>\n",
       "      <td>26360</td>\n",
       "      <td>Microsoft Monday: Xbox One February Update, Sk...</td>\n",
       "      <td>...</td>\n",
       "      <td>Forbes</td>\n",
       "      <td>0.000000</td>\n",
       "      <td>0.072739</td>\n",
       "      <td>20</td>\n",
       "      <td>0</td>\n",
       "      <td>2016</td>\n",
       "      <td>2</td>\n",
       "      <td>1</td>\n",
       "      <td>3</td>\n",
       "      <td>0.999782</td>\n",
       "    </tr>\n",
       "  </tbody>\n",
       "</table>\n",
       "<p>5 rows × 21 columns</p>\n",
       "</div>"
      ],
      "text/plain": [
       "   NodeID  NeighborID    2  distance  index  LinkedIn  LinkedInNorm  \\\n",
       "0       0         136  226  0.072568    347         1      0.001202   \n",
       "1       1         104  215  0.172313   2697         0      0.000000   \n",
       "2       2         133   37  0.083337   7513         3      0.003606   \n",
       "3       3         142  210  0.021966    831         0      0.000000   \n",
       "4       4         147  111  0.019784   4743        11      0.013221   \n",
       "\n",
       "   CountNorm  IDLink                                              Title  ...  \\\n",
       "0   0.190476    2237  Microsoft Teases Xbox Digital Black Friday Dea...  ...   \n",
       "1   0.190476   15685     Technology Stock Roundup: Dismal Start to 2016  ...   \n",
       "2   0.190476   43861  Achievement locked: Microsoft ceases Xbox 360 ...  ...   \n",
       "3   1.000000    4777  Microsoft reveals their top 14 Xbox 360 backwa...  ...   \n",
       "4   0.571429   26360  Microsoft Monday: Xbox One February Update, Sk...  ...   \n",
       "\n",
       "                     Source SentimentTitle  SentimentHeadline  Facebook  \\\n",
       "0                      NDTV      -0.041667          -0.275788         9   \n",
       "1  Zacks via Yahoo! Finance      -0.255155          -0.414605         0   \n",
       "2              Ars Technica      -0.051031           0.256770       106   \n",
       "3                   WinBeta       0.000000          -0.056250         2   \n",
       "4                    Forbes       0.000000           0.072739        20   \n",
       "\n",
       "   GooglePlus  Year  Month  DayOfWeek  Hour  similarity  \n",
       "0           1  2015     11          0    10    0.999904  \n",
       "1           0  2016      1          0     7    0.999902  \n",
       "2          22  2016      4          2    19    0.999813  \n",
       "3           8  2015     11          3     1    0.999806  \n",
       "4           0  2016      2          1     3    0.999782  \n",
       "\n",
       "[5 rows x 21 columns]"
      ]
     },
     "execution_count": 127,
     "metadata": {},
     "output_type": "execute_result"
    }
   ],
   "source": [
    "df_knn_small = knn[knn['distance']<0.3]\n",
    "df_knn_small = pd.merge(df_knn_small, df_sims_sorted_large, on=['index','LinkedIn'])\n",
    "df_knn_small.head(5)"
   ]
  },
  {
   "cell_type": "code",
   "execution_count": 128,
   "metadata": {},
   "outputs": [
    {
     "name": "stdout",
     "output_type": "stream",
     "text": [
      "0.4927800339928723 0.5395385967703134 0.46506070300350755\n"
     ]
    }
   ],
   "source": [
    "info_title_linkedin=information_gain(df_knn_small['SentimentTitle'],df_knn_small['LinkedIn'])\n",
    "info_headline_linkedin=information_gain(df_knn_small['SentimentHeadline'],df_knn_small['LinkedIn'])\n",
    "info_source_linkedin=information_gain(df_knn_small['Source'],df_knn_small['LinkedIn'])\n",
    "print(info_title_linkedin, info_headline_linkedin,info_source_linkedin)"
   ]
  },
  {
   "cell_type": "markdown",
   "metadata": {},
   "source": [
    "# After sample selection, train classification model for LinkedIn"
   ]
  },
  {
   "cell_type": "code",
   "execution_count": 129,
   "metadata": {},
   "outputs": [
    {
     "name": "stdout",
     "output_type": "stream",
     "text": [
      "Predicted as : 1 , Actual Score : 1\n"
     ]
    }
   ],
   "source": [
    "from sklearn.neighbors import KNeighborsClassifier \n",
    "from sklearn.model_selection import train_test_split \n",
    "\n",
    "\n",
    "\n",
    "S1 = pd.DataFrame(list(df_knn_small['CountNorm']))\n",
    "\n",
    "S2 = pd.DataFrame(list(df_knn_small['SentimentTitle']))\n",
    "\n",
    "S3 = pd.DataFrame(list(df_knn_small['SentimentHeadline']))\n",
    "\n",
    "S4 = df_knn_small['LinkedIn']\n",
    "\n",
    "\n",
    "X= np.append(S1,S2,axis=1)\n",
    "X = np.append(X,S3,axis=1)\n",
    "y = S4.values\n",
    "\n",
    "knn = KNeighborsClassifier(n_neighbors=2) \n",
    "\n",
    "\n",
    "knn.fit(X, y) \n",
    "\n",
    "S1 = pd.DataFrame(list(df_test['CountNorm']))\n",
    "S2 = pd.DataFrame(list(df_test['SentimentTitle']))\n",
    "S3 = pd.DataFrame(list(df_test['SentimentHeadline']))\n",
    "S4 = df_test['LinkedIn']\n",
    "\n",
    "\n",
    "X_test= np.append(S1,S2,axis=1)\n",
    "X_test = np.append(X_test,S3,axis=1)\n",
    "y_test = S4\n",
    "\n",
    "# Calculate the accuracy of the model \n",
    "#print(knn.score(X_train, y_train)) \n",
    "#distances, indices = knn.predict(X_test)\n",
    "print(\"Predicted as :\", knn.predict(X_test)[0], \", Actual Score :\", y_test.values[0]) "
   ]
  },
  {
   "cell_type": "code",
   "execution_count": 130,
   "metadata": {},
   "outputs": [
    {
     "name": "stdout",
     "output_type": "stream",
     "text": [
      "(array([[0.01873162, 0.03781624]]), array([[ 24, 174]]))\n"
     ]
    }
   ],
   "source": [
    "print(knn.kneighbors(X_test))"
   ]
  },
  {
   "cell_type": "code",
   "execution_count": 131,
   "metadata": {},
   "outputs": [],
   "source": [
    "knn_visual_linkedin = df_knn_small[24:25]\n",
    "knn_visual_linkedin = knn_visual_linkedin.append(df_knn_small[174:175])"
   ]
  },
  {
   "cell_type": "code",
   "execution_count": 132,
   "metadata": {},
   "outputs": [
    {
     "data": {
      "text/plain": [
       "<AxesSubplot:xlabel='distance', ylabel='LinkedIn'>"
      ]
     },
     "execution_count": 132,
     "metadata": {},
     "output_type": "execute_result"
    },
    {
     "data": {
      "image/png": "[encoded data removed]",
      "text/plain": [
       "<Figure size 432x288 with 1 Axes>"
      ]
     },
     "metadata": {
      "needs_background": "light"
     },
     "output_type": "display_data"
    }
   ],
   "source": [
    "knn_visual_linkedin.plot.scatter(x='distance', y='LinkedIn')"
   ]
  },
  {
   "cell_type": "code",
   "execution_count": 133,
   "metadata": {},
   "outputs": [
    {
     "name": "stdout",
     "output_type": "stream",
     "text": [
      "LinkedIn prediction: 1.5 , Compare to actual value: 1\n"
     ]
    }
   ],
   "source": [
    "print(\"LinkedIn prediction:\", knn_visual_linkedin['LinkedIn'].mean(),\", Compare to actual value:\", df_test['LinkedIn'].values[0])"
   ]
  },
  {
   "cell_type": "markdown",
   "metadata": {},
   "source": [
    "# Comparison of the content"
   ]
  },
  {
   "cell_type": "markdown",
   "metadata": {},
   "source": [
    "# 1. Title: the given news and its neighbors have similar titles, which are about Microsoft, XBox, price, sales, gift ..."
   ]
  },
  {
   "cell_type": "code",
   "execution_count": 134,
   "metadata": {},
   "outputs": [
    {
     "data": {
      "text/plain": [
       "0    Get a $50 Microsoft Store gift card with Xbox ...\n",
       "Name: Title, dtype: object"
      ]
     },
     "execution_count": 134,
     "metadata": {},
     "output_type": "execute_result"
    }
   ],
   "source": [
    "df_test['Title']"
   ]
  },
  {
   "cell_type": "code",
   "execution_count": 135,
   "metadata": {},
   "outputs": [
    {
     "data": {
      "text/plain": [
       "24     Microsoft refunds dad over $8000 for 17-year-o...\n",
       "173    Microsoft sends out free Xbox gift codes as pa...\n",
       "Name: Title, dtype: object"
      ]
     },
     "execution_count": 135,
     "metadata": {},
     "output_type": "execute_result"
    }
   ],
   "source": [
    "knn_visual_facebook['Title']"
   ]
  },
  {
   "cell_type": "code",
   "execution_count": 136,
   "metadata": {},
   "outputs": [
    {
     "data": {
      "text/plain": [
       "24     Microsoft refunds dad over $8000 for 17-year-o...\n",
       "173    Microsoft sends out free Xbox gift codes as pa...\n",
       "Name: Title, dtype: object"
      ]
     },
     "execution_count": 136,
     "metadata": {},
     "output_type": "execute_result"
    }
   ],
   "source": [
    "knn_visual_google['Title']"
   ]
  },
  {
   "cell_type": "code",
   "execution_count": 137,
   "metadata": {},
   "outputs": [
    {
     "data": {
      "text/plain": [
       "24     Microsoft refunds dad over $8000 for 17-year-o...\n",
       "174    Microsoft sends out free Xbox gift codes as pa...\n",
       "Name: Title, dtype: object"
      ]
     },
     "execution_count": 137,
     "metadata": {},
     "output_type": "execute_result"
    }
   ],
   "source": [
    "knn_visual_linkedin['Title']"
   ]
  },
  {
   "cell_type": "markdown",
   "metadata": {},
   "source": [
    "# 2. HeadLine: the given news and its neighbors have similar contents, which are about Microsoft, XBox, sales, price, gift ..."
   ]
  },
  {
   "cell_type": "code",
   "execution_count": 138,
   "metadata": {},
   "outputs": [
    {
     "data": {
      "text/plain": [
       "0    The $50 discount for the Xbox One is no longer...\n",
       "Name: Headline, dtype: object"
      ]
     },
     "execution_count": 138,
     "metadata": {},
     "output_type": "execute_result"
    }
   ],
   "source": [
    "df_test['Headline']"
   ]
  },
  {
   "cell_type": "code",
   "execution_count": 139,
   "metadata": {},
   "outputs": [
    {
     "data": {
      "text/plain": [
       "24     Initially, Microsoft had no intentions of payi...\n",
       "173    In 2010, Microsoft began its Xbox Live Rewards...\n",
       "Name: Headline, dtype: object"
      ]
     },
     "execution_count": 139,
     "metadata": {},
     "output_type": "execute_result"
    }
   ],
   "source": [
    "knn_visual_facebook['Headline']"
   ]
  },
  {
   "cell_type": "code",
   "execution_count": 140,
   "metadata": {},
   "outputs": [
    {
     "data": {
      "text/plain": [
       "24     Initially, Microsoft had no intentions of payi...\n",
       "173    In 2010, Microsoft began its Xbox Live Rewards...\n",
       "Name: Headline, dtype: object"
      ]
     },
     "execution_count": 140,
     "metadata": {},
     "output_type": "execute_result"
    }
   ],
   "source": [
    "knn_visual_google['Headline']"
   ]
  },
  {
   "cell_type": "code",
   "execution_count": 141,
   "metadata": {},
   "outputs": [
    {
     "data": {
      "text/plain": [
       "24     Initially, Microsoft had no intentions of payi...\n",
       "174    In 2010, Microsoft began its Xbox Live Rewards...\n",
       "Name: Headline, dtype: object"
      ]
     },
     "execution_count": 141,
     "metadata": {},
     "output_type": "execute_result"
    }
   ],
   "source": [
    "knn_visual_linkedin['Headline']\n"
   ]
  },
  {
   "cell_type": "markdown",
   "metadata": {},
   "source": [
    "# Conclusion\n",
    "# The data model is that, because the original data are not very related to popularity by checking information gain, we define the preprocessing in the following\n",
    "# 1. we use Latent Semantic Analysis (LSA) define context to the given news,\n",
    "# 2. apply KNN to the entire data to get rid of outliers which is far away from the majority of the data set\n",
    "# 3. after sample selection, we choose Source, SentimentTitle and SentimentHeadline as features to predict popularity.\n",
    "\n",
    "# 1. According to the content of title and headline, all the news are similar to the given news.\n",
    "# 2. After preprocessing, ker performance indicators are highly related to targets.\n",
    "# 3. According to prediction results: 8.2, 3, 0, which are close to actual number of views, 9, 2, 1.\n",
    "# so that the result set has the answers we are looking for and \n",
    "# the data model for popularity prediction is defined right.\n"
   ]
  },
  {
   "cell_type": "code",
   "execution_count": null,
   "metadata": {},
   "outputs": [],
   "source": []
  },
  {
   "cell_type": "markdown",
   "metadata": {},
   "source": []
  }
 ],
 "metadata": {
  "celltoolbar": "Slideshow",
  "kernelspec": {
   "display_name": "Python 3",
   "language": "python",
   "name": "python3"
  },
  "language_info": {
   "codemirror_mode": {
    "name": "ipython",
    "version": 3
   },
   "file_extension": ".py",
   "mimetype": "text/x-python",
   "name": "python",
   "nbconvert_exporter": "python",
   "pygments_lexer": "ipython3",
   "version": "3.8.4"
  }
 },
 "nbformat": 4,
 "nbformat_minor": 4
}
