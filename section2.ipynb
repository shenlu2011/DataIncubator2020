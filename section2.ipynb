{
 "cells": [
  {
   "cell_type": "code",
   "execution_count": 219,
   "metadata": {},
   "outputs": [],
   "source": [
    "import pandas as pd\n",
    "import numpy as np\n",
    "import datetime\n",
    "\n",
    "from matplotlib import pyplot as plt\n",
    "\n",
    "from sklearn.linear_model import LinearRegression, Ridge\n",
    "from sklearn.preprocessing import OneHotEncoder\n",
    "from sklearn.pipeline import Pipeline, FeatureUnion\n",
    "from sklearn import base\n",
    "\n",
    "\n",
    "#import modules for news selection\n",
    "import os.path\n",
    "from gensim import corpora\n",
    "from gensim.models import LsiModel\n",
    "from nltk.corpus import stopwords\n",
    "from nltk.tokenize import RegexpTokenizer\n",
    "from nltk.stem.porter import PorterStemmer\n",
    "from gensim.models.coherencemodel import CoherenceModel\n",
    "import matplotlib.pyplot as plt\n",
    "from gensim import models\n",
    "\n",
    "\n"
   ]
  },
  {
   "cell_type": "markdown",
   "metadata": {},
   "source": [
    "# section 2"
   ]
  },
  {
   "cell_type": "code",
   "execution_count": 218,
   "metadata": {},
   "outputs": [],
   "source": [
    "data = pd.read_csv('Recent_Contract_Awards.csv',low_memory=False)\n"
   ]
  },
  {
   "cell_type": "code",
   "execution_count": 5,
   "metadata": {},
   "outputs": [
    {
     "data": {
      "text/plain": [
       "207783994327.83997"
      ]
     },
     "execution_count": 5,
     "metadata": {},
     "output_type": "execute_result"
    }
   ],
   "source": [
    "#question 1\n",
    "\n",
    "import datetime\n",
    "\n",
    "\n",
    "data.loc[:, 'StartDate'] = pd.to_datetime(data['StartDate'])\n",
    "data_2010_2019 = data[data['StartDate']>=datetime.datetime(2010, 1, 1)]\n",
    "data_2010_2019 =data_2010_2019[data_2010_2019['StartDate']<=datetime.datetime(2019,12,31)]\n",
    "data_filtered = data_2010_2019.copy()\n",
    "data_filtered = data_filtered[data_filtered['ContractAmount']>0]\n",
    "data_filtered = data_filtered.dropna(subset=['ContractAmount'])\n",
    "data_filtered['ContractAmount'].sum()"
   ]
  },
  {
   "cell_type": "code",
   "execution_count": 6,
   "metadata": {},
   "outputs": [
    {
     "data": {
      "text/plain": [
       "0.038642604943114944"
      ]
     },
     "execution_count": 6,
     "metadata": {},
     "output_type": "execute_result"
    }
   ],
   "source": [
    "#question 2\n",
    "\n",
    "data_vendor = data_filtered.copy()\n",
    "data_vendor_agency= data_vendor[data_vendor['AgencyName']=='Citywide Administrative Services']\n",
    "data_vendor_sum = data_vendor_agency.groupby('VendorName')['ContractAmount'].sum()\n",
    "data_vendor_sum_df = pd.DataFrame(data_vendor_sum).reset_index()\n",
    "test= data_vendor_sum_df.copy()\n",
    "test['count'] = list( data_vendor_agency.groupby('VendorName')['RequestID'].count())\n",
    "total = test['count'].sum()\n",
    "test_50 = test.sort_values(by=['ContractAmount'], ascending = False).head(50)\n",
    "total_50 = test_50['count'].sum()\n",
    "total_50/total"
   ]
  },
  {
   "cell_type": "code",
   "execution_count": 7,
   "metadata": {},
   "outputs": [
    {
     "data": {
      "text/plain": [
       "2.0"
      ]
     },
     "execution_count": 7,
     "metadata": {},
     "output_type": "execute_result"
    }
   ],
   "source": [
    "# question 3\n",
    "data_construction = data_filtered.copy()\n",
    "data_construction['construction'] = data_construction['CategoryDescription'].apply(lambda s: s == 'Construction/Construction Services' or s=='Construction Related Services')\n",
    "\n",
    "data_construction = data_construction[data_construction['construction'] == True]\n",
    "\n",
    "\n",
    "central_park = data_construction.copy()\n",
    "central_park['CentralPark'] = central_park['ShortTitle'].apply(lambda s:('park' in s.lower().split(' ')) and ('central park' in s.lower()))\n",
    "count_central_park = len(central_park[central_park['CentralPark']==True])\n",
    "\n",
    "washington = data_construction.copy()\n",
    "#washington['Washington'] = washington['ShortTitle'].apply(lambda s:('washington' in s.lower().split(' ')) and ('square' in s.lower().split(' ')) and ('park' in s.lower().split(' ')) and 'washington square park' in s.lower() )\n",
    "washington['Washington'] = washington['ShortTitle'].apply(lambda s:('WASHINGTON SQUARE PARK' in s))\n",
    "count_washington = len(washington[washington['Washington']==True])\n",
    "\n",
    "count_central_park/count_washington"
   ]
  },
  {
   "cell_type": "code",
   "execution_count": 8,
   "metadata": {},
   "outputs": [
    {
     "name": "stdout",
     "output_type": "stream",
     "text": [
      "Coefficients: \n",
      " [6.38393824e-10]\n"
     ]
    }
   ],
   "source": [
    "# question 4\n",
    "\n",
    "data_regression = data_vendor_agency.copy()\n",
    "data_regression['year'] = data_regression['StartDate'].dt.year\n",
    "data_regression_grp = data_regression.groupby('year')['ContractAmount'].sum()\n",
    "data_regression_grp = pd.DataFrame(data_regression_grp).reset_index()\n",
    "\n",
    "\n",
    "\n",
    "from sklearn import datasets, linear_model\n",
    "from sklearn.metrics import mean_squared_error, r2_score\n",
    "\n",
    "\n",
    "# Split the data into training/testing sets\n",
    "X = pd.DataFrame(data_regression_grp['ContractAmount'])\n",
    "X = X.to_numpy()\n",
    "y = data_regression_grp['year']\n",
    "y = y.to_numpy()\n",
    "X_train = X[:-1]\n",
    "X_test = X[-1:]\n",
    "\n",
    "# Split the targets into training/testing sets\n",
    "y_train = y[:-1]\n",
    "y_test = y[-1:]\n",
    "\n",
    "\n",
    "# Create linear regression object\n",
    "regr = linear_model.LinearRegression()\n",
    "\n",
    "# Train the model using the training sets\n",
    "regr.fit(X_train, y_train)\n",
    "\n",
    "# Make predictions using the testing set\n",
    "y_pred = regr.predict(X_test)\n",
    "\n",
    "# The coefficients\n",
    "print('Coefficients: \\n', regr.coef_)"
   ]
  },
  {
   "cell_type": "code",
   "execution_count": 9,
   "metadata": {},
   "outputs": [
    {
     "data": {
      "text/plain": [
       "0.07356237122612462"
      ]
     },
     "execution_count": 9,
     "metadata": {},
     "output_type": "execute_result"
    }
   ],
   "source": [
    "# question 5\n",
    "\n",
    "data_contract = data_filtered.copy()\n",
    "data_contract_grp = data_contract.groupby('AgencyName')['RequestID'].count()\n",
    "data_contract_df = pd.DataFrame(data_contract_grp).reset_index()\n",
    "data_contract_df = data_contract_df.rename(columns={'RequestID':'ContractCount'})\n",
    "data_contract_df['ContractAmountTotal'] = list(data_contract.groupby('AgencyName')['ContractAmount'].sum())\n",
    "data_contract_df = data_contract_df.sort_values(by=['ContractCount'], ascending=False)\n",
    "data_contract_df_5 = data_contract_df.head(5).copy(deep=True)\n",
    "data_contract_df_5['AmountPerContract'] = data_contract_df_5['ContractAmountTotal']/data_contract_df_5['ContractCount']\n",
    "data_contract_df_5[0:1]['AmountPerContract'].values[0]/data_contract_df_5[1:2]['AmountPerContract'].values[0]"
   ]
  },
  {
   "cell_type": "code",
   "execution_count": 216,
   "metadata": {},
   "outputs": [
    {
     "data": {
      "text/plain": [
       "Power_divergenceResult(statistic=array([8.62341326]), pvalue=array([0.0712334]))"
      ]
     },
     "execution_count": 216,
     "metadata": {},
     "output_type": "execute_result"
    }
   ],
   "source": [
    "# question 6 chi square\n",
    "data_agency = data_filtered.copy()\n",
    "data_agency = data_agency[data_agency['AgencyName']=='Parks and Recreation']\n",
    "data_agency['year'] = data_agency['StartDate'].dt.year\n",
    "data_agency['month'] = data_agency['StartDate'].dt.month\n",
    "data_agency['week'] = data_agency['StartDate'].dt.week\n",
    "data_agency['weekday'] = data_agency['StartDate'].dt.weekday\n",
    "data_agency_notice_count = data_agency.groupby('weekday')['RequestID'].count().reset_index()\n",
    "data_agency_notice_count = data_agency_notice_count.rename(columns={'RequestID':'NoticeCount'})\n",
    "data_agency_notice_count = data_agency_notice_count.reset_index()\n",
    "\n",
    "from scipy.stats import chisquare\n",
    "\n",
    "obs= np.array([data_agency_notice_count['NoticeCount']]).T\n",
    "chisquare(obs)"
   ]
  },
  {
   "cell_type": "code",
   "execution_count": 89,
   "metadata": {},
   "outputs": [],
   "source": [
    "# question 7 common patterns\n",
    "data_spending_patterns = data_filtered.copy()\n",
    "\n",
    "data_spending_patterns['year'] = data_spending_patterns['StartDate'].dt.year\n",
    "data_spending_patterns['month'] = data_spending_patterns['StartDate'].dt.month\n",
    "data_spending_patterns_envprotection = data_spending_patterns[data_spending_patterns['AgencyName']=='Environmental Protection']\n",
    "\n",
    "data_spending_patterns_envprotection_spending = data_spending_patterns_envprotection.groupby(['year','month'])['ContractAmount'].sum()\n",
    "data_spending_patterns_envprotection_spending_df = pd.DataFrame(data_spending_patterns_envprotection_spending).reset_index()\n",
    "data_spending_patterns_envprotection_spending_monthly = data_spending_patterns_envprotection_spending_df.groupby('month')['ContractAmount'].sum()\n",
    "data_spending_patterns_envprotection_spending_monthly_df = pd.DataFrame(data_spending_patterns_envprotection_spending_monthly).reset_index()\n",
    "data_spending_patterns_envprotection_spending_monthly_df.sort_values(by=['ContractAmount'])\n",
    "\n",
    "\n",
    "spending_2015_2019 = data_spending_patterns_envprotection_spending_df[data_spending_patterns_envprotection_spending_df['year']>2014]\n",
    "\n",
    "ContractAmount_df = pd.DataFrame(spending_2015_2019['ContractAmount']/1000000)\n",
    "ContractAmount_df['year'] = spending_2015_2019['year']\n",
    "ContractAmount_df['month'] = spending_2015_2019['month']\n",
    "ContractAmount_df = ContractAmount_df.rename(columns={'members':'ContractAmount'})"
   ]
  },
  {
   "cell_type": "code",
   "execution_count": 90,
   "metadata": {},
   "outputs": [
    {
     "data": {
      "text/plain": [
       "0.6148921329288352"
      ]
     },
     "execution_count": 90,
     "metadata": {},
     "output_type": "execute_result"
    }
   ],
   "source": [
    "from scipy.stats import entropy\n",
    "import pandas as pd\n",
    "def information_gain(members, split):\n",
    "    \n",
    "    entropy_before = entropy(members.value_counts(normalize=True))\n",
    "    split.name = 'split'\n",
    "    members.name = 'members'\n",
    "    grouped_distrib = members.groupby(split) \\\n",
    "                        .value_counts(normalize=True) \\\n",
    "                        .reset_index(name='count') \\\n",
    "                        .pivot_table(index='split', columns='members', values='count').fillna(0) \n",
    "    entropy_after = entropy(grouped_distrib, axis=1)\n",
    "    entropy_after *= split.value_counts(sort=False, normalize=True)\n",
    "    return (entropy_before - entropy_after.sum())/entropy_before\n",
    "\n",
    "information_gain(ContractAmount_df['ContractAmount'], ContractAmount_df['month'])"
   ]
  },
  {
   "cell_type": "markdown",
   "metadata": {},
   "source": [
    "# according to informaiton gain between contract amount and month, the two features are related.\n",
    "# we visualized the contract amount each year, we can see the peak points are between June and September each year."
   ]
  },
  {
   "cell_type": "code",
   "execution_count": 92,
   "metadata": {},
   "outputs": [
    {
     "data": {
      "text/plain": [
       "<AxesSubplot:xlabel='month'>"
      ]
     },
     "execution_count": 92,
     "metadata": {},
     "output_type": "execute_result"
    },
    {
     "data": {
      "image/png": "[encoded data removed]",
      "text/plain": [
       "<Figure size 432x288 with 1 Axes>"
      ]
     },
     "metadata": {
      "needs_background": "light"
     },
     "output_type": "display_data"
    }
   ],
   "source": [
    "ContractAmount_df.plot.line(x='month', y='ContractAmount')"
   ]
  },
  {
   "cell_type": "code",
   "execution_count": 91,
   "metadata": {},
   "outputs": [
    {
     "data": {
      "text/plain": [
       "<AxesSubplot:xlabel='month'>"
      ]
     },
     "execution_count": 91,
     "metadata": {},
     "output_type": "execute_result"
    },
    {
     "data": {
      "image/png": "[encoded data removed]",
      "text/plain": [
       "<Figure size 432x288 with 1 Axes>"
      ]
     },
     "metadata": {
      "needs_background": "light"
     },
     "output_type": "display_data"
    }
   ],
   "source": [
    "data_spending_patterns_envprotection_spending_df.plot.line(x='month', y='ContractAmount')"
   ]
  },
  {
   "cell_type": "code",
   "execution_count": 127,
   "metadata": {},
   "outputs": [
    {
     "data": {
      "text/plain": [
       "0.08462899795171146"
      ]
     },
     "execution_count": 127,
     "metadata": {},
     "output_type": "execute_result"
    }
   ],
   "source": [
    "# question 8\n",
    "nyc_zipcodes = pd.read_csv('NYC_ZIPCODE.csv').set_index('zipcode')\n",
    "data_address = data_filtered.copy()\n",
    "data_address['year'] = data_address['StartDate'].dt.year\n",
    "data_address = data_address[data_address['year'] == 2018]\n",
    "data_address['zipcode'] = data_address['VendorAddress'].apply(lambda s: str(s).split(' ')[-1])\n",
    "data_address['nyc'] = data_address['zipcode'].apply(lambda s: s in str(nyc_zipcodes.index))\n",
    "data_address[data_address['nyc']==True]['ContractAmount'].sum()/data_address[data_address['nyc']==False]['ContractAmount'].sum()"
   ]
  },
  {
   "cell_type": "code",
   "execution_count": null,
   "metadata": {},
   "outputs": [],
   "source": []
  },
  {
   "cell_type": "code",
   "execution_count": 226,
   "metadata": {},
   "outputs": [
    {
     "data": {
      "image/png": "[encoded data removed]",
      "text/plain": [
       "<Figure size 432x288 with 1 Axes>"
      ]
     },
     "metadata": {
      "needs_background": "light"
     },
     "output_type": "display_data"
    }
   ],
   "source": [
    "from scipy.stats import expon\n",
    "import matplotlib.pyplot as plt\n",
    "fig, ax = plt.subplots(1, 1)\n",
    "mean, var, skew, kurt = expon.stats(moments='mvsk')"
   ]
  },
  {
   "cell_type": "code",
   "execution_count": 229,
   "metadata": {},
   "outputs": [
    {
     "data": {
      "text/plain": [
       "[<matplotlib.lines.Line2D at 0x128053100>]"
      ]
     },
     "execution_count": 229,
     "metadata": {},
     "output_type": "execute_result"
    }
   ],
   "source": [
    "x = np.linspace(expon.ppf(0.01),expon.ppf(0.99), 100)\n",
    "ax.plot(x, expon.pdf(x),'r-', lw=5, alpha=0.6, label='expon pdf')\n",
    "rv = expon()\n",
    "ax.plot(x, rv.pdf(x), 'k-', lw=2, label='frozen pdf')\n",
    "\n"
   ]
  },
  {
   "cell_type": "code",
   "execution_count": 230,
   "metadata": {},
   "outputs": [
    {
     "data": {
      "text/plain": [
       "True"
      ]
     },
     "execution_count": 230,
     "metadata": {},
     "output_type": "execute_result"
    }
   ],
   "source": [
    "\n",
    "vals = expon.ppf([0.001, 0.5, 0.999])\n",
    "np.allclose([0.001, 0.5, 0.999], expon.cdf(vals))\n",
    "\n"
   ]
  },
  {
   "cell_type": "code",
   "execution_count": 231,
   "metadata": {},
   "outputs": [],
   "source": [
    "r = expon.rvs(size=1000)"
   ]
  },
  {
   "cell_type": "code",
   "execution_count": 233,
   "metadata": {},
   "outputs": [],
   "source": [
    "\n",
    "ax.hist(r, density=True, histtype='stepfilled', alpha=0.2)\n",
    "ax.legend(loc='best', frameon=False)\n",
    "plt.show()\n",
    "\n"
   ]
  },
  {
   "cell_type": "code",
   "execution_count": 244,
   "metadata": {},
   "outputs": [
    {
     "data": {
      "text/plain": [
       "Index(['index', 'distance', ' p', 'expected'], dtype='object')"
      ]
     },
     "execution_count": 244,
     "metadata": {},
     "output_type": "execute_result"
    }
   ],
   "source": [
    "distance.columns"
   ]
  },
  {
   "cell_type": "code",
   "execution_count": 246,
   "metadata": {},
   "outputs": [
    {
     "data": {
      "text/html": [
       "<div>\n",
       "<style scoped>\n",
       "    .dataframe tbody tr th:only-of-type {\n",
       "        vertical-align: middle;\n",
       "    }\n",
       "\n",
       "    .dataframe tbody tr th {\n",
       "        vertical-align: top;\n",
       "    }\n",
       "\n",
       "    .dataframe thead th {\n",
       "        text-align: right;\n",
       "    }\n",
       "</style>\n",
       "<table border=\"1\" class=\"dataframe\">\n",
       "  <thead>\n",
       "    <tr style=\"text-align: right;\">\n",
       "      <th></th>\n",
       "      <th>index</th>\n",
       "      <th>distance</th>\n",
       "      <th>p</th>\n",
       "      <th>expected</th>\n",
       "    </tr>\n",
       "  </thead>\n",
       "  <tbody>\n",
       "    <tr>\n",
       "      <th>0</th>\n",
       "      <td>0</td>\n",
       "      <td>22.360680</td>\n",
       "      <td>0.000004</td>\n",
       "      <td>0.000085</td>\n",
       "    </tr>\n",
       "    <tr>\n",
       "      <th>1</th>\n",
       "      <td>1</td>\n",
       "      <td>21.540659</td>\n",
       "      <td>0.000004</td>\n",
       "      <td>0.000082</td>\n",
       "    </tr>\n",
       "    <tr>\n",
       "      <th>2</th>\n",
       "      <td>2</td>\n",
       "      <td>18.867962</td>\n",
       "      <td>0.000004</td>\n",
       "      <td>0.000072</td>\n",
       "    </tr>\n",
       "    <tr>\n",
       "      <th>3</th>\n",
       "      <td>3</td>\n",
       "      <td>17.888544</td>\n",
       "      <td>0.000004</td>\n",
       "      <td>0.000068</td>\n",
       "    </tr>\n",
       "    <tr>\n",
       "      <th>4</th>\n",
       "      <td>4</td>\n",
       "      <td>21.540659</td>\n",
       "      <td>0.000004</td>\n",
       "      <td>0.000082</td>\n",
       "    </tr>\n",
       "  </tbody>\n",
       "</table>\n",
       "</div>"
      ],
      "text/plain": [
       "   index   distance         p  expected\n",
       "0      0  22.360680  0.000004  0.000085\n",
       "1      1  21.540659  0.000004  0.000082\n",
       "2      2  18.867962  0.000004  0.000072\n",
       "3      3  17.888544  0.000004  0.000068\n",
       "4      4  21.540659  0.000004  0.000082"
      ]
     },
     "execution_count": 246,
     "metadata": {},
     "output_type": "execute_result"
    }
   ],
   "source": [
    "distance = pd.read_csv(\"distance10.csv\", low_memory=False)\n",
    "distance.reset_index(level=0, inplace=True, drop=False)\n",
    "distance['expected'] = 0\n",
    "expect_list = list(distance['expected'])\n",
    "for index, row in distance.iterrows():\n",
    "    expect_list[index] =row['distance']*row[' p']\n",
    "distance['expected'] = expect_list\n",
    "\n",
    "\n",
    "distance_greater_10 = distance[distance['distance']>=10]\n"
   ]
  },
  {
   "cell_type": "code",
   "execution_count": 249,
   "metadata": {},
   "outputs": [
    {
     "name": "stdout",
     "output_type": "stream",
     "text": [
      "0.00012462655308217484 0.00014198279031877432\n"
     ]
    }
   ],
   "source": [
    "\n",
    "print(distance['expected'].mean(), distance_greater_10['expected'].mean())"
   ]
  },
  {
   "cell_type": "code",
   "execution_count": 251,
   "metadata": {},
   "outputs": [
    {
     "name": "stdout",
     "output_type": "stream",
     "text": [
      "0.00039005604874010186 0.0004313383833274907\n"
     ]
    }
   ],
   "source": [
    "\n",
    "print(distance['expected'].std(), distance_greater_10['expected'].std())"
   ]
  },
  {
   "cell_type": "code",
   "execution_count": 247,
   "metadata": {},
   "outputs": [
    {
     "data": {
      "text/plain": [
       "<AxesSubplot:xlabel='index', ylabel='expected'>"
      ]
     },
     "execution_count": 247,
     "metadata": {},
     "output_type": "execute_result"
    },
    {
     "data": {
      "image/png": "[encoded data removed]",
      "text/plain": [
       "<Figure size 432x288 with 1 Axes>"
      ]
     },
     "metadata": {
      "needs_background": "light"
     },
     "output_type": "display_data"
    }
   ],
   "source": [
    "distance_greater_10.plot.scatter(x='index', y='expected')"
   ]
  },
  {
   "cell_type": "code",
   "execution_count": null,
   "metadata": {},
   "outputs": [],
   "source": []
  }
 ],
 "metadata": {
  "kernelspec": {
   "display_name": "Python 3",
   "language": "python",
   "name": "python3"
  },
  "language_info": {
   "codemirror_mode": {
    "name": "ipython",
    "version": 3
   },
   "file_extension": ".py",
   "mimetype": "text/x-python",
   "name": "python",
   "nbconvert_exporter": "python",
   "pygments_lexer": "ipython3",
   "version": "3.8.4"
  }
 },
 "nbformat": 4,
 "nbformat_minor": 4
}
